{
 "cells": [
  {
   "cell_type": "markdown",
   "id": "4d23210a-1f87-4e05-9ac8-b32bdfe825c8",
   "metadata": {},
   "source": [
    "# Sungwon Lee\n",
    "## 017473950\n",
    "### Bonus Assignment 1"
   ]
  },
  {
   "cell_type": "code",
   "execution_count": null,
   "id": "1d2aa70b-a245-4bc2-85ad-6e3b2f3078e2",
   "metadata": {},
   "outputs": [],
   "source": []
  }
 ],
 "metadata": {
  "kernelspec": {
   "display_name": "Python 3 (ipykernel)",
   "language": "python",
   "name": "python3"
  },
  "language_info": {
   "codemirror_mode": {
    "name": "ipython",
    "version": 3
   },
   "file_extension": ".py",
   "mimetype": "text/x-python",
   "name": "python",
   "nbconvert_exporter": "python",
   "pygments_lexer": "ipython3",
   "version": "3.11.5"
  }
 },
 "nbformat": 4,
 "nbformat_minor": 5
}
