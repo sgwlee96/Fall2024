{
 "cells": [
  {
   "cell_type": "markdown",
   "id": "61679d0a-fccf-4f8d-8db3-e939c3806159",
   "metadata": {},
   "source": [
    "# Assignment 2\n",
    "## Sungwon Lee\n",
    "### 017473950"
   ]
  },
  {
   "cell_type": "markdown",
   "id": "8a6c13e0-c8fe-409d-87c2-7618d8b81bf9",
   "metadata": {},
   "source": [
    "## 1. (3 pts) Implanting K-means clustering algorithm"
   ]
  },
  {
   "cell_type": "code",
   "execution_count": 2,
   "id": "24da35f4-1945-4d55-aea3-18c390d60b2e",
   "metadata": {
    "tags": []
   },
   "outputs": [
    {
     "data": {
      "text/html": [
       "<div>\n",
       "<style scoped>\n",
       "    .dataframe tbody tr th:only-of-type {\n",
       "        vertical-align: middle;\n",
       "    }\n",
       "\n",
       "    .dataframe tbody tr th {\n",
       "        vertical-align: top;\n",
       "    }\n",
       "\n",
       "    .dataframe thead th {\n",
       "        text-align: right;\n",
       "    }\n",
       "</style>\n",
       "<table border=\"1\" class=\"dataframe\">\n",
       "  <thead>\n",
       "    <tr style=\"text-align: right;\">\n",
       "      <th></th>\n",
       "      <th>X1</th>\n",
       "      <th>X2</th>\n",
       "      <th>X3</th>\n",
       "      <th>X4</th>\n",
       "    </tr>\n",
       "  </thead>\n",
       "  <tbody>\n",
       "    <tr>\n",
       "      <th>0</th>\n",
       "      <td>6.7</td>\n",
       "      <td>3.0</td>\n",
       "      <td>5.0</td>\n",
       "      <td>1.7</td>\n",
       "    </tr>\n",
       "    <tr>\n",
       "      <th>1</th>\n",
       "      <td>6.3</td>\n",
       "      <td>2.9</td>\n",
       "      <td>5.6</td>\n",
       "      <td>1.8</td>\n",
       "    </tr>\n",
       "    <tr>\n",
       "      <th>2</th>\n",
       "      <td>5.6</td>\n",
       "      <td>3.0</td>\n",
       "      <td>4.5</td>\n",
       "      <td>1.5</td>\n",
       "    </tr>\n",
       "    <tr>\n",
       "      <th>3</th>\n",
       "      <td>7.6</td>\n",
       "      <td>3.0</td>\n",
       "      <td>6.6</td>\n",
       "      <td>2.1</td>\n",
       "    </tr>\n",
       "    <tr>\n",
       "      <th>4</th>\n",
       "      <td>6.0</td>\n",
       "      <td>3.4</td>\n",
       "      <td>4.5</td>\n",
       "      <td>1.6</td>\n",
       "    </tr>\n",
       "  </tbody>\n",
       "</table>\n",
       "</div>"
      ],
      "text/plain": [
       "    X1   X2   X3   X4\n",
       "0  6.7  3.0  5.0  1.7\n",
       "1  6.3  2.9  5.6  1.8\n",
       "2  5.6  3.0  4.5  1.5\n",
       "3  7.6  3.0  6.6  2.1\n",
       "4  6.0  3.4  4.5  1.6"
      ]
     },
     "execution_count": 2,
     "metadata": {},
     "output_type": "execute_result"
    }
   ],
   "source": [
    "# Import only basic libraries\n",
    "import pandas as pd\n",
    "import numpy as np\n",
    "import matplotlib.pyplot as plt\n",
    "from numpy.linalg import norm\n",
    "\n",
    "\n",
    "df = pd.read_csv('cluster_data1.csv')\n",
    "df.head()"
   ]
  },
  {
   "cell_type": "code",
   "execution_count": 11,
   "id": "ccb385a2-df2f-47ac-9d51-9831d6da4f77",
   "metadata": {},
   "outputs": [],
   "source": [
    "seed = 123\n",
    "k = 3\n",
    "\n",
    "# set the global random seed as 123\n",
    "np.random.seed(seed)\n",
    "\n",
    "def cluster(k):\n",
    "    for i in range(k):\n",
    "        \n",
    "        pass\n",
    "    "
   ]
  },
  {
   "cell_type": "code",
   "execution_count": 5,
   "id": "e5af7e9c-1df2-4c17-baf7-ec96cbd3355e",
   "metadata": {
    "tags": []
   },
   "outputs": [
    {
     "data": {
      "image/png": "[encoded data removed]",
      "text/plain": [
       "<Figure size 640x480 with 1 Axes>"
      ]
     },
     "metadata": {},
     "output_type": "display_data"
    }
   ],
   "source": [
    "plt.scatter(df.X1, df.X2)\n",
    "plt.show()"
   ]
  },
  {
   "cell_type": "code",
   "execution_count": 12,
   "id": "bef57319-5ba0-43fe-a7ce-933d5796bee5",
   "metadata": {
    "tags": []
   },
   "outputs": [],
   "source": [
    "idx = np.random.permutation(df.shape[0])"
   ]
  },
  {
   "cell_type": "code",
   "execution_count": 17,
   "id": "445170a0-2ee1-4c51-bdea-5a06e57976e4",
   "metadata": {
    "tags": []
   },
   "outputs": [],
   "source": [
    "init_centroid = df.iloc[idx[:k]]"
   ]
  },
  {
   "cell_type": "code",
   "execution_count": 18,
   "id": "ebd7b5a6-8593-49a0-86be-e972e904af65",
   "metadata": {
    "tags": []
   },
   "outputs": [
    {
     "data": {
      "text/html": [
       "<div>\n",
       "<style scoped>\n",
       "    .dataframe tbody tr th:only-of-type {\n",
       "        vertical-align: middle;\n",
       "    }\n",
       "\n",
       "    .dataframe tbody tr th {\n",
       "        vertical-align: top;\n",
       "    }\n",
       "\n",
       "    .dataframe thead th {\n",
       "        text-align: right;\n",
       "    }\n",
       "</style>\n",
       "<table border=\"1\" class=\"dataframe\">\n",
       "  <thead>\n",
       "    <tr style=\"text-align: right;\">\n",
       "      <th></th>\n",
       "      <th>X1</th>\n",
       "      <th>X2</th>\n",
       "      <th>X3</th>\n",
       "      <th>X4</th>\n",
       "    </tr>\n",
       "  </thead>\n",
       "  <tbody>\n",
       "    <tr>\n",
       "      <th>72</th>\n",
       "      <td>5.2</td>\n",
       "      <td>3.5</td>\n",
       "      <td>1.5</td>\n",
       "      <td>0.2</td>\n",
       "    </tr>\n",
       "    <tr>\n",
       "      <th>112</th>\n",
       "      <td>4.8</td>\n",
       "      <td>3.4</td>\n",
       "      <td>1.9</td>\n",
       "      <td>0.2</td>\n",
       "    </tr>\n",
       "    <tr>\n",
       "      <th>132</th>\n",
       "      <td>7.2</td>\n",
       "      <td>3.6</td>\n",
       "      <td>6.1</td>\n",
       "      <td>2.5</td>\n",
       "    </tr>\n",
       "  </tbody>\n",
       "</table>\n",
       "</div>"
      ],
      "text/plain": [
       "      X1   X2   X3   X4\n",
       "72   5.2  3.5  1.5  0.2\n",
       "112  4.8  3.4  1.9  0.2\n",
       "132  7.2  3.6  6.1  2.5"
      ]
     },
     "execution_count": 18,
     "metadata": {},
     "output_type": "execute_result"
    }
   ],
   "source": [
    "init_centroid"
   ]
  },
  {
   "cell_type": "code",
   "execution_count": 23,
   "id": "a5b9c01c-aa5b-49bf-951b-dca329701905",
   "metadata": {
    "tags": []
   },
   "outputs": [
    {
     "data": {
      "text/plain": [
       "<matplotlib.collections.PathCollection at 0x12d9b8c10>"
      ]
     },
     "execution_count": 23,
     "metadata": {},
     "output_type": "execute_result"
    },
    {
     "data": {
      "image/png": "[encoded data removed]",
      "text/plain": [
       "<Figure size 640x480 with 1 Axes>"
      ]
     },
     "metadata": {},
     "output_type": "display_data"
    }
   ],
   "source": [
    "plt.scatter(df.X1, df.X2)\n",
    "plt.scatter(init_centroid.X1, init_centroid.X2)"
   ]
  },
  {
   "cell_type": "code",
   "execution_count": 38,
   "id": "4dfd9697-66fc-4e9a-a6db-578611f75740",
   "metadata": {
    "tags": []
   },
   "outputs": [],
   "source": [
    "def distance(x1, x2):\n",
    "    return np.sqrt(np.sum((x1 - x2)**2))"
   ]
  },
  {
   "cell_type": "code",
   "execution_count": 26,
   "id": "f41cad84-8a53-4ac0-9af3-75ce95600d48",
   "metadata": {
    "tags": []
   },
   "outputs": [
    {
     "ename": "NameError",
     "evalue": "name 'k' is not defined",
     "output_type": "error",
     "traceback": [
      "\u001b[0;31m---------------------------------------------------------------------------\u001b[0m",
      "\u001b[0;31mNameError\u001b[0m                                 Traceback (most recent call last)",
      "Cell \u001b[0;32mIn[26], line 5\u001b[0m\n\u001b[1;32m      2\u001b[0m dist \u001b[38;5;241m=\u001b[39m []\n\u001b[1;32m      3\u001b[0m curr_x \u001b[38;5;241m=\u001b[39m df\u001b[38;5;241m.\u001b[39miloc[i]\n\u001b[0;32m----> 5\u001b[0m \u001b[38;5;28;01mfor\u001b[39;00m j \u001b[38;5;129;01min\u001b[39;00m \u001b[38;5;28mrange\u001b[39m(k):\n\u001b[1;32m      6\u001b[0m     dis \u001b[38;5;241m=\u001b[39m distance(curr_x, init_centroid\u001b[38;5;241m.\u001b[39miloc[j])\n\u001b[1;32m      7\u001b[0m     dist\u001b[38;5;241m.\u001b[39mappend(dis)\n",
      "\u001b[0;31mNameError\u001b[0m: name 'k' is not defined"
     ]
    }
   ],
   "source": [
    "for i in range(df.shape[0]):\n",
    "    dist = []\n",
    "    curr_x = df.iloc[i]\n",
    "    \n",
    "    for j in range(k):\n",
    "        dis = distance(curr_x, init_centroid.iloc[j])\n",
    "        dist.append(dis)\n",
    "    curr_cluster = np.argmin(dist)\n",
    "    # print(curr_cluster)"
   ]
  },
  {
   "cell_type": "code",
   "execution_count": null,
   "id": "0612f27a-5843-452b-b6a7-c9d750b83860",
   "metadata": {},
   "outputs": [],
   "source": []
  },
  {
   "cell_type": "code",
   "execution_count": null,
   "id": "c21b2286-5d45-41a9-8d3d-ede7761dc068",
   "metadata": {},
   "outputs": [],
   "source": []
  },
  {
   "cell_type": "code",
   "execution_count": null,
   "id": "18aa02f7-64d6-4967-b2b4-d60a8076ea2e",
   "metadata": {},
   "outputs": [],
   "source": []
  },
  {
   "cell_type": "code",
   "execution_count": null,
   "id": "38afe706-a680-43ce-b696-8e7323830da6",
   "metadata": {},
   "outputs": [],
   "source": []
  },
  {
   "cell_type": "code",
   "execution_count": null,
   "id": "d0c2363b-fc87-44fd-a06e-1080242075ec",
   "metadata": {},
   "outputs": [],
   "source": []
  },
  {
   "cell_type": "code",
   "execution_count": 12,
   "id": "1f088335-20b1-4184-a1ad-c5637d2a3be3",
   "metadata": {
    "tags": []
   },
   "outputs": [
    {
     "name": "stdout",
     "output_type": "stream",
     "text": [
      "Cluster centers: [[6.85       3.07368421 5.74210526 2.07105263]\n",
      " [5.006      3.418      1.464      0.244     ]\n",
      " [5.9016129  2.7483871  4.39354839 1.43387097]]\n",
      "Labels: [0 0 2 0 2 0 0 1 1 1 2 2 2 2 2 1 1 0 1 1 0 2 2 1 2 1 0 1 1 2 0 1 1 1 2 2 2\n",
      " 2 1 2 1 1 1 2 1 2 1 1 2 2 2 2 2 2 2 2 1 2 1 1 0 2 2 0 1 0 1 2 1 1 1 0 1 0\n",
      " 1 2 2 0 2 2 1 2 0 0 0 0 1 2 2 2 1 1 2 2 0 2 2 2 2 2 0 0 0 1 0 2 0 2 2 2 1\n",
      " 0 1 0 1 0 2 2 0 0 1 0 2 0 0 1 1 2 2 2 1 1 0 2 0 2 2 1 1 2 2 0 2 0 2 1 1 0\n",
      " 1 1]\n"
     ]
    },
    {
     "name": "stderr",
     "output_type": "stream",
     "text": [
      "/Users/sungwonlee/anaconda3/lib/python3.11/site-packages/sklearn/cluster/_kmeans.py:1412: FutureWarning: The default value of `n_init` will change from 10 to 'auto' in 1.4. Set the value of `n_init` explicitly to suppress the warning\n",
      "  super()._check_params_vs_input(X, default_n_init=10)\n"
     ]
    }
   ],
   "source": [
    "import pandas as pd\n",
    "import numpy as np\n",
    "import seaborn as sns\n",
    "import matplotlib.pyplot as plt\n",
    "import matplotlib.cm as cm\n",
    "from sklearn.cluster import KMeans\n",
    "\n",
    "# Convert DataFrame to NumPy array\n",
    "data_array = df.to_numpy()\n",
    "\n",
    "# Apply KMeans clustering\n",
    "kmeans = KMeans(n_clusters=3, init='random', max_iter=5, random_state=123).fit(data_array)\n",
    "\n",
    "# Check the centroids and labels\n",
    "print(\"Cluster centers:\", kmeans.cluster_centers_)\n",
    "print(\"Labels:\", kmeans.labels_)"
   ]
  },
  {
   "cell_type": "code",
   "execution_count": 15,
   "id": "9a8c5767-5ece-48c0-bf75-4ffff2b8fb09",
   "metadata": {
    "tags": []
   },
   "outputs": [
    {
     "data": {
      "image/png": "[encoded data removed]",
      "text/plain": [
       "<Figure size 640x480 with 1 Axes>"
      ]
     },
     "metadata": {},
     "output_type": "display_data"
    }
   ],
   "source": [
    "plt.scatter(df.X1, df.X2)\n",
    "plt.scatter(kmeans.cluster_centers_[0:3,:1], kmeans.cluster_centers_[0:3,1:2])\n",
    "plt.show()"
   ]
  }
 ],
 "metadata": {
  "kernelspec": {
   "display_name": "Python 3 (ipykernel)",
   "language": "python",
   "name": "python3"
  },
  "language_info": {
   "codemirror_mode": {
    "name": "ipython",
    "version": 3
   },
   "file_extension": ".py",
   "mimetype": "text/x-python",
   "name": "python",
   "nbconvert_exporter": "python",
   "pygments_lexer": "ipython3",
   "version": "3.11.5"
  }
 },
 "nbformat": 4,
 "nbformat_minor": 5
}
