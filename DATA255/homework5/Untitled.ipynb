{
 "cells": [
  {
   "cell_type": "code",
   "execution_count": 4,
   "id": "b7fea3ee-0e7e-439f-9fd4-4aaa57363833",
   "metadata": {},
   "outputs": [
    {
     "name": "stdout",
     "output_type": "stream",
     "text": [
      "4.539786870243442e-05\n",
      "0.006692850924284857\n",
      "0.5\n",
      "0.9933071490757153\n"
     ]
    }
   ],
   "source": [
    "import math\n",
    "\n",
    "\n",
    "for i in range(-10, 10, 5):\n",
    "    print(1/(1+math.e**(-i)))"
   ]
  },
  {
   "cell_type": "code",
   "execution_count": 15,
   "id": "e5619d31-fece-4e6e-863c-a5a503fc03b7",
   "metadata": {},
   "outputs": [],
   "source": [
    "import torch\n",
    "\n",
    "def trans_conv(X, K, stride):\n",
    "    h, w = K.shape\n",
    "    Y = torch.zeros(((X.shape[0] + h - 1) * stride, (X.shape[1] + w -1) * stride))\n",
    "    for i in range(X.shape[0]):\n",
    "        for j in range(X.shape[1]):\n",
    "            Y[i*stride: i*stride + h, j*stride:j*stride+w] += X[i, j] * K\n",
    "            print(Y)\n",
    "    return Y"
   ]
  },
  {
   "cell_type": "code",
   "execution_count": 16,
   "id": "63977104-da1d-4b6b-bc70-d5c86b50c756",
   "metadata": {},
   "outputs": [
    {
     "name": "stdout",
     "output_type": "stream",
     "text": [
      "tensor([[0., 0., 0., 0., 0., 0.],\n",
      "        [0., 0., 0., 0., 0., 0.],\n",
      "        [0., 0., 0., 0., 0., 0.],\n",
      "        [0., 0., 0., 0., 0., 0.],\n",
      "        [0., 0., 0., 0., 0., 0.],\n",
      "        [0., 0., 0., 0., 0., 0.]])\n",
      "tensor([[0., 0., 0., 1., 0., 0.],\n",
      "        [0., 0., 2., 3., 0., 0.],\n",
      "        [0., 0., 0., 0., 0., 0.],\n",
      "        [0., 0., 0., 0., 0., 0.],\n",
      "        [0., 0., 0., 0., 0., 0.],\n",
      "        [0., 0., 0., 0., 0., 0.]])\n",
      "tensor([[0., 0., 0., 1., 0., 0.],\n",
      "        [0., 0., 2., 3., 0., 0.],\n",
      "        [0., 2., 0., 0., 0., 0.],\n",
      "        [4., 6., 0., 0., 0., 0.],\n",
      "        [0., 0., 0., 0., 0., 0.],\n",
      "        [0., 0., 0., 0., 0., 0.]])\n",
      "tensor([[0., 0., 0., 1., 0., 0.],\n",
      "        [0., 0., 2., 3., 0., 0.],\n",
      "        [0., 2., 0., 3., 0., 0.],\n",
      "        [4., 6., 6., 9., 0., 0.],\n",
      "        [0., 0., 0., 0., 0., 0.],\n",
      "        [0., 0., 0., 0., 0., 0.]])\n"
     ]
    },
    {
     "data": {
      "text/plain": [
       "tensor([[0., 0., 0., 1., 0., 0.],\n",
       "        [0., 0., 2., 3., 0., 0.],\n",
       "        [0., 2., 0., 3., 0., 0.],\n",
       "        [4., 6., 6., 9., 0., 0.],\n",
       "        [0., 0., 0., 0., 0., 0.],\n",
       "        [0., 0., 0., 0., 0., 0.]])"
      ]
     },
     "execution_count": 16,
     "metadata": {},
     "output_type": "execute_result"
    }
   ],
   "source": [
    "X = torch.tensor([[0, 1], [2, 3]])\n",
    "K = torch.tensor([[0, 1], [2, 3]])\n",
    "\n",
    "trans_conv(X, K, 2)"
   ]
  },
  {
   "cell_type": "code",
   "execution_count": 17,
   "id": "21adacb8-6fe1-4dce-8b68-a8ef4440c7a3",
   "metadata": {},
   "outputs": [
    {
     "name": "stdout",
     "output_type": "stream",
     "text": [
      "tensor([[ 0.,  0.,  0.,  0.,  0.,  0.,  0.,  0.,  0.],\n",
      "        [ 0.,  0.,  0.,  0.,  0.,  0.,  0.,  0.,  0.],\n",
      "        [ 0.,  0.,  0.,  1.,  2.,  2.,  4.,  0.,  0.],\n",
      "        [ 0.,  0.,  3.,  4., 11.,  8., 10.,  0.,  0.],\n",
      "        [ 0.,  0.,  6., 10., 26., 18., 24.,  0.,  0.],\n",
      "        [ 0.,  0.,  9., 12., 27., 16., 20.,  0.,  0.],\n",
      "        [ 0.,  0., 18., 21., 48., 28., 32.,  0.,  0.],\n",
      "        [ 0.,  0.,  0.,  0.,  0.,  0.,  0.,  0.,  0.],\n",
      "        [ 0.,  0.,  0.,  0.,  0.,  0.,  0.,  0.,  0.]])\n"
     ]
    }
   ],
   "source": [
    "import torch\n",
    "\n",
    "def trans_conv(X, K, stride=2, padding=1):\n",
    "    h, w = K.shape\n",
    "    # Padding the input with a border of zeros\n",
    "    X_padded = torch.zeros((X.shape[0] + 2 * padding, X.shape[1] + 2 * padding))\n",
    "    X_padded[padding:-padding, padding:-padding] = X\n",
    "\n",
    "    # Output size: applying transposed convolution with stride\n",
    "    Y = torch.zeros((X_padded.shape[0] - 1) * stride + h, (X_padded.shape[1] - 1) * stride + w)\n",
    "    \n",
    "    # Apply transposed convolution with stride and padding\n",
    "    for i in range(X_padded.shape[0]):\n",
    "        for j in range(X_padded.shape[1]):\n",
    "            Y[i * stride: i * stride + h, j * stride: j * stride + w] += X_padded[i, j] * K\n",
    "    return Y\n",
    "\n",
    "# Example input (2x2)\n",
    "X = torch.tensor([[1, 2], [3, 4]])\n",
    "\n",
    "# 3x3 kernel\n",
    "K = torch.tensor([[0, 1, 2], \n",
    "                  [3, 4, 5], \n",
    "                  [6, 7, 8]])\n",
    "\n",
    "# Perform transpose convolution with stride=2, padding=1\n",
    "output = trans_conv(X, K, stride=2, padding=1)\n",
    "print(output)"
   ]
  },
  {
   "cell_type": "code",
   "execution_count": null,
   "id": "42488487-5949-43c9-a863-ed077d990e27",
   "metadata": {},
   "outputs": [],
   "source": []
  }
 ],
 "metadata": {
  "kernelspec": {
   "display_name": "Python 3 (ipykernel)",
   "language": "python",
   "name": "python3"
  },
  "language_info": {
   "codemirror_mode": {
    "name": "ipython",
    "version": 3
   },
   "file_extension": ".py",
   "mimetype": "text/x-python",
   "name": "python",
   "nbconvert_exporter": "python",
   "pygments_lexer": "ipython3",
   "version": "3.10.4"
  }
 },
 "nbformat": 4,
 "nbformat_minor": 5
}
