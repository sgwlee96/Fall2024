{
 "cells": [
  {
   "cell_type": "markdown",
   "id": "0db5a48c-98dd-45fa-b84a-433261c41fae",
   "metadata": {},
   "source": [
    "# Homework 5\n",
    "## Sungwon Lee\n",
    "### 017473950"
   ]
  },
  {
   "cell_type": "markdown",
   "id": "bdd2b204-e6b8-4bed-8882-6afdbf62eb0f",
   "metadata": {},
   "source": [
    "## Step 1."
   ]
  },
  {
   "cell_type": "code",
   "execution_count": 1,
   "id": "4fbf9219-20e5-47b9-9225-4b3ded960d6d",
   "metadata": {},
   "outputs": [],
   "source": [
    "# load Fashion MNIST\n",
    "import torch\n",
    "from torchvision.transforms import ToTensor, Normalize, Compose\n",
    "from torchvision.datasets import FashionMNIST"
   ]
  },
  {
   "cell_type": "code",
   "execution_count": 2,
   "id": "14526e31-8935-411b-9b13-166c90688ee1",
   "metadata": {},
   "outputs": [
    {
     "name": "stdout",
     "output_type": "stream",
     "text": [
      "Downloading http://fashion-mnist.s3-website.eu-central-1.amazonaws.com/train-images-idx3-ubyte.gz\n",
      "Downloading http://fashion-mnist.s3-website.eu-central-1.amazonaws.com/train-images-idx3-ubyte.gz to ./homework5/data/FashionMNIST\\raw\\train-images-idx3-ubyte.gz\n"
     ]
    },
    {
     "name": "stderr",
     "output_type": "stream",
     "text": [
      "100.0%\n"
     ]
    },
    {
     "name": "stdout",
     "output_type": "stream",
     "text": [
      "Extracting ./homework5/data/FashionMNIST\\raw\\train-images-idx3-ubyte.gz to ./homework5/data/FashionMNIST\\raw\n",
      "\n",
      "Downloading http://fashion-mnist.s3-website.eu-central-1.amazonaws.com/train-labels-idx1-ubyte.gz\n",
      "Downloading http://fashion-mnist.s3-website.eu-central-1.amazonaws.com/train-labels-idx1-ubyte.gz to ./homework5/data/FashionMNIST\\raw\\train-labels-idx1-ubyte.gz\n"
     ]
    },
    {
     "name": "stderr",
     "output_type": "stream",
     "text": [
      "100.0%\n"
     ]
    },
    {
     "name": "stdout",
     "output_type": "stream",
     "text": [
      "Extracting ./homework5/data/FashionMNIST\\raw\\train-labels-idx1-ubyte.gz to ./homework5/data/FashionMNIST\\raw\n",
      "\n",
      "Downloading http://fashion-mnist.s3-website.eu-central-1.amazonaws.com/t10k-images-idx3-ubyte.gz\n",
      "Downloading http://fashion-mnist.s3-website.eu-central-1.amazonaws.com/t10k-images-idx3-ubyte.gz to ./homework5/data/FashionMNIST\\raw\\t10k-images-idx3-ubyte.gz\n"
     ]
    },
    {
     "name": "stderr",
     "output_type": "stream",
     "text": [
      "100.0%\n"
     ]
    },
    {
     "name": "stdout",
     "output_type": "stream",
     "text": [
      "Extracting ./homework5/data/FashionMNIST\\raw\\t10k-images-idx3-ubyte.gz to ./homework5/data/FashionMNIST\\raw\n",
      "\n",
      "Downloading http://fashion-mnist.s3-website.eu-central-1.amazonaws.com/t10k-labels-idx1-ubyte.gz\n",
      "Downloading http://fashion-mnist.s3-website.eu-central-1.amazonaws.com/t10k-labels-idx1-ubyte.gz to ./homework5/data/FashionMNIST\\raw\\t10k-labels-idx1-ubyte.gz\n"
     ]
    },
    {
     "name": "stderr",
     "output_type": "stream",
     "text": [
      "100.0%"
     ]
    },
    {
     "name": "stdout",
     "output_type": "stream",
     "text": [
      "Extracting ./homework5/data/FashionMNIST\\raw\\t10k-labels-idx1-ubyte.gz to ./homework5/data/FashionMNIST\\raw\n",
      "\n"
     ]
    },
    {
     "name": "stderr",
     "output_type": "stream",
     "text": [
      "\n"
     ]
    }
   ],
   "source": [
    "fashion_mnist = FashionMNIST(root='./homework5/data/', train=True, download=True, \\\n",
    "                             transform=Compose([ToTensor(), Normalize(mean=(0.5,), std=(0.5,))]))\n",
    "                             "
   ]
  },
  {
   "cell_type": "code",
   "execution_count": 3,
   "id": "e35c6939-5e3e-461e-bd6c-fc5eaeb6d64a",
   "metadata": {},
   "outputs": [],
   "source": [
    "device = torch.device('cpu')"
   ]
  },
  {
   "cell_type": "code",
   "execution_count": null,
   "id": "fb5db56d-a9d2-47e5-a6c1-64f31daead84",
   "metadata": {},
   "outputs": [],
   "source": [
    "import matplotlib.pyplot as plt\n",
    "\n",
    "# Get a sample image and label\n",
    "img, label = fashion_mnist[0]  # Get the first sample\n",
    "\n",
    "img = img.to(device)\n",
    "# Denormalize the image for visualization\n",
    "def denorm(x):\n",
    "    return (x * 0.5) + 0.5  # Inverse the normalization\n",
    "\n",
    "# Convert tensor to numpy array for plotting\n",
    "img = denorm(img)\n",
    "img = img.squeeze().numpy()  # Remove extra dimensions and convert to NumPy array\n",
    "\n",
    "# Plot the image\n",
    "plt.imshow(img, cmap='gray')\n",
    "plt.title(f'Label: {label}')\n",
    "plt.show()"
   ]
  },
  {
   "cell_type": "code",
   "execution_count": 3,
   "id": "80989564-4804-4d18-a6d6-8c40052fe122",
   "metadata": {},
   "outputs": [
    {
     "name": "stdout",
     "output_type": "stream",
     "text": [
      "Label:  9\n",
      "tensor([[[-1.0000, -1.0000, -1.0000,  0.5137,  0.7882],\n",
      "         [-0.9765, -1.0000, -0.9059,  0.7176,  0.7255],\n",
      "         [-0.9529, -1.0000, -0.2235,  0.9137,  0.7412],\n",
      "         [-1.0000, -1.0000, -0.5686,  0.8510,  0.7882],\n",
      "         [-1.0000, -1.0000,  0.8588,  0.7725,  0.7020]]])\n"
     ]
    },
    {
     "data": {
      "text/plain": [
       "(tensor(-1.), tensor(1.))"
      ]
     },
     "execution_count": 3,
     "metadata": {},
     "output_type": "execute_result"
    }
   ],
   "source": [
    "img, label = fashion_mnsit[0]\n",
    "print('Label: ', label)\n",
    "print(img[:, 10:15, 10:15])\n",
    "torch.min(img), torch.max(img)"
   ]
  },
  {
   "cell_type": "code",
   "execution_count": 4,
   "id": "9116c772-2f1b-4663-a59b-e0d0502c0e84",
   "metadata": {},
   "outputs": [],
   "source": [
    "def denorm(x):\n",
    "    out = (x + 1) / 2\n",
    "    return out.clamp(0, 1)"
   ]
  },
  {
   "cell_type": "code",
   "execution_count": null,
   "id": "1317ae9b-0894-4c8f-824e-be0de6ce4359",
   "metadata": {},
   "outputs": [
    {
     "data": {
      "text/plain": [
       "<matplotlib.image.AxesImage at 0x2a03a77eb30>"
      ]
     },
     "execution_count": 5,
     "metadata": {},
     "output_type": "execute_result"
    }
   ],
   "source": [
    "import matplotlib.pyplot as plt\n",
    "\n",
    "%matplotlib inline\n",
    "# img_norm = lambda x: ((x+1)/2).clamp(0, 1)\n",
    "img_norm = denorm(img).squeeze().numpy()\n",
    "plt.imshow(img_norm, cmap='gray')\n"
   ]
  },
  {
   "cell_type": "code",
   "execution_count": null,
   "id": "d295414c-b77e-4d4f-9e5a-6f2909fc73ae",
   "metadata": {},
   "outputs": [],
   "source": []
  }
 ],
 "metadata": {
  "kernelspec": {
   "display_name": "Python 3 (ipykernel)",
   "language": "python",
   "name": "python3"
  },
  "language_info": {
   "codemirror_mode": {
    "name": "ipython",
    "version": 3
   },
   "file_extension": ".py",
   "mimetype": "text/x-python",
   "name": "python",
   "nbconvert_exporter": "python",
   "pygments_lexer": "ipython3",
   "version": "3.10.4"
  }
 },
 "nbformat": 4,
 "nbformat_minor": 5
}
