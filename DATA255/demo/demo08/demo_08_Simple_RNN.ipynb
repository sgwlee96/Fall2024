{
  "nbformat": 4,
  "nbformat_minor": 0,
  "metadata": {
    "kernelspec": {
      "display_name": "Python 3",
      "language": "python",
      "name": "python3"
    },
    "language_info": {
      "codemirror_mode": {
        "name": "ipython",
        "version": 3
      },
      "file_extension": ".py",
      "mimetype": "text/x-python",
      "name": "python",
      "nbconvert_exporter": "python",
      "pygments_lexer": "ipython3",
      "version": "3.6.5"
    },
    "colab": {
      "name": "Simple RNN.ipynb",
      "provenance": [],
      "collapsed_sections": []
    }
  },
  "cells": [
    {
      "cell_type": "markdown",
      "metadata": {
        "id": "qiP5ify_osy6"
      },
      "source": [
        "# This notebook showcases the basic usage of RNNs to make predictions on time series data"
      ]
    },
    {
      "cell_type": "code",
      "metadata": {
        "id": "Q-5Dq_3odeBW"
      },
      "source": [
        "import pandas as pd\n",
        "import numpy as np\n",
        "import matplotlib.pyplot as plt\n",
        "from keras.models import Sequential\n",
        "from keras.layers import Dense, SimpleRNN"
      ],
      "execution_count": null,
      "outputs": []
    },
    {
      "cell_type": "markdown",
      "metadata": {
        "id": "bP4CSF0xdeBa"
      },
      "source": [
        "### Generating sin curve data"
      ]
    },
    {
      "cell_type": "code",
      "metadata": {
        "id": "PePNo_yddeBa"
      },
      "source": [
        "N = 1000    \n",
        "Tp = 800    \n",
        "\n",
        "t=np.arange(0,N)\n",
        "x=np.sin(0.02*t)+2*np.random.rand(N)\n",
        "df = pd.DataFrame(x)\n",
        "plt.plot(df)\n",
        "plt.show() "
      ],
      "execution_count": null,
      "outputs": []
    },
    {
      "cell_type": "markdown",
      "metadata": {
        "id": "7EooJmS0deBc"
      },
      "source": [
        "### Reshape to represent sequence prediction\n",
        "\n",
        "Examples:\n",
        "\n",
        "X = [1,2,3,4], Y = [5]\n",
        "\n",
        "X = [2,3,4,5], Y = [6]"
      ]
    },
    {
      "cell_type": "code",
      "metadata": {
        "id": "qiECO6ihdeBd"
      },
      "source": [
        "values=df.values\n",
        "# Splitting values into train (800 points) and test (200 points)\n",
        "# Note: Data is still in it's original form\n",
        "train,test = values[0:Tp,:], values[Tp:N,:]\n",
        "print(train.shape)\n",
        "print(test.shape)"
      ],
      "execution_count": null,
      "outputs": []
    },
    {
      "cell_type": "code",
      "metadata": {
        "id": "Id8gw9ZIdeBe"
      },
      "source": [
        "# What is the actual X shape needed to represent the above examples?"
      ],
      "execution_count": null,
      "outputs": []
    },
    {
      "cell_type": "code",
      "metadata": {
        "id": "vjLCYrw4deBg"
      },
      "source": [
        "step = 4\n",
        "test = np.append(test,np.repeat(test[-1,],step))\n",
        "train = np.append(train,np.repeat(train[-1,],step))\n",
        "\n",
        "print(test.shape)\n",
        "print(train.shape)"
      ],
      "execution_count": null,
      "outputs": []
    },
    {
      "cell_type": "code",
      "metadata": {
        "id": "fKdpfiZ9deBi"
      },
      "source": [
        "tmp = np.array([[1],[2],[3],[4]])\n",
        "tmp.shape"
      ],
      "execution_count": null,
      "outputs": []
    },
    {
      "cell_type": "code",
      "metadata": {
        "id": "NZ6eReWJdeBk"
      },
      "source": [
        "tmp = np.append(tmp, np.repeat(tmp[-1,],2))\n",
        "tmp"
      ],
      "execution_count": null,
      "outputs": []
    },
    {
      "cell_type": "code",
      "metadata": {
        "id": "rMJaJkVIdeBm"
      },
      "source": [
        "# convert into dataset matrix\n",
        "def convertToMatrix(data, step):\n",
        "    X, Y =[], []\n",
        "    for i in range(len(data)-step):\n",
        "        d=i+step  \n",
        "        X.append(data[i:d,])\n",
        "        Y.append(data[d,])\n",
        "    return np.array(X), np.array(Y)"
      ],
      "execution_count": null,
      "outputs": []
    },
    {
      "cell_type": "code",
      "metadata": {
        "id": "7mdIoGOGdeBo"
      },
      "source": [
        "trainX,trainY =convertToMatrix(train,step)\n",
        "testX,testY =convertToMatrix(test,step)\n",
        "\n",
        "trainX = np.reshape(trainX, (trainX.shape[0], 1, trainX.shape[1]))\n",
        "testX = np.reshape(testX, (testX.shape[0], 1, testX.shape[1]))\n",
        "\n",
        "trainX.shape"
      ],
      "execution_count": null,
      "outputs": []
    },
    {
      "cell_type": "code",
      "metadata": {
        "id": "W_fFc3Ak2oCe"
      },
      "source": [
        "print(\"Shape of train data after appended repeats:\",train.shape)\n",
        "print(\"First 4 elements in train data:\", train[0],train[1],train[3],train[4])\n",
        "print(\"Shape of converted train data:\",trainX.shape)\n",
        "print(\"Value of first element in converted train data:\",trainX[0])\n",
        "print(\"Value of first element in train label:\", trainY[0])"
      ],
      "execution_count": null,
      "outputs": []
    },
    {
      "cell_type": "markdown",
      "metadata": {
        "id": "MlTE_9nudeBq"
      },
      "source": [
        "### Build model"
      ]
    },
    {
      "cell_type": "code",
      "metadata": {
        "id": "_VU_GpihdeBq"
      },
      "source": [
        "model = Sequential()\n",
        "model.add(SimpleRNN(units=32, input_shape=(1,step), activation=\"relu\"))\n",
        "model.add(Dense(8, activation=\"relu\")) \n",
        "model.add(Dense(1))\n",
        "model.compile(loss='mean_squared_error', optimizer='rmsprop')\n",
        "model.summary()"
      ],
      "execution_count": null,
      "outputs": []
    },
    {
      "cell_type": "code",
      "metadata": {
        "id": "l1YRk2vDdeBs"
      },
      "source": [
        "model.fit(trainX,trainY, epochs=100, batch_size=16, verbose=2)\n",
        "trainPredict = model.predict(trainX)\n",
        "testPredict= model.predict(testX)"
      ],
      "execution_count": null,
      "outputs": []
    },
    {
      "cell_type": "code",
      "metadata": {
        "id": "-h3bDpstdeBu"
      },
      "source": [
        "plt.plot(df[:800])\n",
        "plt.plot(trainPredict)"
      ],
      "execution_count": null,
      "outputs": []
    },
    {
      "cell_type": "code",
      "metadata": {
        "id": "4NKjcWMqdeBv"
      },
      "source": [
        ""
      ],
      "execution_count": null,
      "outputs": []
    }
  ]
}