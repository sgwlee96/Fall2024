{
  "nbformat": 4,
  "nbformat_minor": 0,
  "metadata": {
    "kernelspec": {
      "display_name": "Python 3",
      "language": "python",
      "name": "python3"
    },
    "language_info": {
      "codemirror_mode": {
        "name": "ipython",
        "version": 3
      },
      "file_extension": ".py",
      "mimetype": "text/x-python",
      "name": "python",
      "nbconvert_exporter": "python",
      "pygments_lexer": "ipython3",
      "version": "3.7.3"
    },
    "colab": {
      "name": "NLP_Demo.ipynb",
      "provenance": []
    }
  },
  "cells": [
    {
      "cell_type": "markdown",
      "metadata": {
        "id": "hZwU_NTDXCoM"
      },
      "source": [
        "**Code to generate bag of word vectors in Python**"
      ]
    },
    {
      "cell_type": "code",
      "metadata": {
        "colab": {
          "base_uri": "https://localhost:8080/"
        },
        "id": "NlZMEzihW77G",
        "outputId": "9ea9ff5e-7515-439e-b7ec-d56c0a23123d"
      },
      "source": [
        "# import statments\n",
        "import numpy\n",
        "import re\n",
        "\n",
        "'''\n",
        "Tokenize each the sentences, example\n",
        "Input : \"John likes to watch movies. Mary likes movies too\"\n",
        "Ouput : \"John\",\"likes\",\"to\",\"watch\",\"movies\",\"Mary\",\"likes\",\"movies\",\"too\"\n",
        "'''\n",
        "def tokenize(sentences):\n",
        "    words = []\n",
        "    for sentence in sentences:\n",
        "        w = word_extraction(sentence)\n",
        "        words.extend(w)\n",
        "        \n",
        "    words = sorted(list(set(words)))\n",
        "    return words\n",
        "\n",
        "def word_extraction(sentence):\n",
        "    ignore = ['a', \"the\", \"is\"]\n",
        "    words = re.sub(\"[^\\w]\", \" \",  sentence).split()\n",
        "    cleaned_text = [w.lower() for w in words if w not in ignore]\n",
        "    return cleaned_text    \n",
        "    \n",
        "def generate_bow(allsentences):    \n",
        "    vocab = tokenize(allsentences)\n",
        "    print(\"Word List for Document \\n{0} \\n\".format(vocab));\n",
        "\n",
        "    for sentence in allsentences:\n",
        "        words = word_extraction(sentence)\n",
        "        bag_vector = numpy.zeros(len(vocab))\n",
        "        for w in words:\n",
        "            for i,word in enumerate(vocab):\n",
        "                if word == w: \n",
        "                    bag_vector[i] += 1\n",
        "                    \n",
        "        print(\"{0} \\n{1}\\n\".format(sentence,numpy.array(bag_vector)))\n",
        "\n",
        "\n",
        "allsentences = [\"Joe waited for the train\", \"The train was late\", \"Mary and Samantha took the bus\", \n",
        "            \"I looked for Mary and Samantha at the bus station\", \n",
        "            \"Mary and Samantha arrived at the bus station early but waited until noon for the bus\"]\n",
        "\n",
        "generate_bow(allsentences)"
      ],
      "execution_count": 57,
      "outputs": [
        {
          "output_type": "stream",
          "text": [
            "Word List for Document \n",
            "['and', 'arrived', 'at', 'bus', 'but', 'early', 'for', 'i', 'joe', 'late', 'looked', 'mary', 'noon', 'samantha', 'station', 'the', 'took', 'train', 'until', 'waited', 'was'] \n",
            "\n",
            "Joe waited for the train \n",
            "[0. 0. 0. 0. 0. 0. 1. 0. 1. 0. 0. 0. 0. 0. 0. 0. 0. 1. 0. 1. 0.]\n",
            "\n",
            "The train was late \n",
            "[0. 0. 0. 0. 0. 0. 0. 0. 0. 1. 0. 0. 0. 0. 0. 1. 0. 1. 0. 0. 1.]\n",
            "\n",
            "Mary and Samantha took the bus \n",
            "[1. 0. 0. 1. 0. 0. 0. 0. 0. 0. 0. 1. 0. 1. 0. 0. 1. 0. 0. 0. 0.]\n",
            "\n",
            "I looked for Mary and Samantha at the bus station \n",
            "[1. 0. 1. 1. 0. 0. 1. 1. 0. 0. 1. 1. 0. 1. 1. 0. 0. 0. 0. 0. 0.]\n",
            "\n",
            "Mary and Samantha arrived at the bus station early but waited until noon for the bus \n",
            "[1. 1. 1. 2. 1. 1. 1. 0. 0. 0. 0. 1. 1. 1. 1. 0. 0. 0. 1. 1. 0.]\n",
            "\n"
          ],
          "name": "stdout"
        }
      ]
    },
    {
      "cell_type": "markdown",
      "metadata": {
        "id": "qVlQlHYnXdMz"
      },
      "source": [
        "**Python program to generate word vectors using Word2Vec**"
      ]
    },
    {
      "cell_type": "code",
      "metadata": {
        "id": "XlBK-Hw5W9CN",
        "colab": {
          "base_uri": "https://localhost:8080/"
        },
        "outputId": "a9d03c32-5e94-4936-9c5b-a94d267f1172"
      },
      "source": [
        "# importing all necessary modules\n",
        "import nltk\n",
        "nltk.download('punkt')\n",
        "from nltk.tokenize import sent_tokenize, word_tokenize\n",
        "import warnings\n",
        "\n",
        "warnings.filterwarnings(action = 'ignore')\n",
        "\n",
        "import gensim\n",
        "from gensim.models import Word2Vec\n",
        "\n",
        "# Reads ‘alice.txt’ file\n",
        "sample = open(\"alice.txt\", \"r\")\n",
        "s = sample.read()\n",
        "\n",
        "# Replaces escape character with space\n",
        "f = s.replace(\"\\n\", \" \")\n",
        "\n",
        "data = []\n",
        "\n",
        "# iterate through each sentence in the file\n",
        "for i in sent_tokenize(f):\n",
        "\ttemp = []\n",
        "\t\n",
        "\t# tokenize the sentence into words\n",
        "\tfor j in word_tokenize(i):\n",
        "\t\ttemp.append(j.lower())\n",
        "\n",
        "\tdata.append(temp)\n",
        "\n",
        "# Create CBOW model\n",
        "model1 = gensim.models.Word2Vec(data, min_count = 1,\n",
        "\t\t\t\t\t\t\tsize = 100, window = 5)\n",
        "\n",
        "# Print results\n",
        "print(\"Cosine similarity between 'alice' \" +\n",
        "\t\t\t\"and 'wonderland' - CBOW : \",\n",
        "\tmodel1.similarity('alice', 'wonderland'))\n",
        "\t\n",
        "w1 = \"machines\"\n",
        "print(\"Words similar to machine.\")\n",
        "model1.most_similar(positive = w1)"
      ],
      "execution_count": 58,
      "outputs": [
        {
          "output_type": "stream",
          "text": [
            "[nltk_data] Downloading package punkt to /root/nltk_data...\n",
            "[nltk_data]   Package punkt is already up-to-date!\n",
            "Cosine similarity between 'alice' and 'wonderland' - CBOW :  0.99885464\n",
            "Words similar to machine.\n"
          ],
          "name": "stdout"
        },
        {
          "output_type": "execute_result",
          "data": {
            "text/plain": [
              "[('lady', 0.9511185884475708),\n",
              " ('sad', 0.9507614970207214),\n",
              " ('shrinking', 0.9505771994590759),\n",
              " ('told', 0.9504015445709229),\n",
              " ('produced', 0.9503724575042725),\n",
              " ('ugly', 0.9503028392791748),\n",
              " ('beat', 0.9502601623535156),\n",
              " ('means', 0.949499249458313),\n",
              " ('efforts', 0.9492818117141724),\n",
              " ('section', 0.9492262005805969)]"
            ]
          },
          "metadata": {
            "tags": []
          },
          "execution_count": 58
        }
      ]
    },
    {
      "cell_type": "markdown",
      "metadata": {
        "id": "r3a7KPWzbGFW"
      },
      "source": [
        "**Term Frequency (tf):** gives us the frequency of the word in each document in the corpus. It is the ratio of number of times the word appears in a document compared to the total number of words in that document. It increases as the number of occurrences of that word within the document increases. Each document has its own tf.\n",
        "\n",
        "**Inverse Data Frequency (idf):** used to calculate the weight of rare words across all documents in the corpus. The words that occur rarely in the corpus have a high IDF score.\n"
      ]
    },
    {
      "cell_type": "code",
      "metadata": {
        "colab": {
          "base_uri": "https://localhost:8080/"
        },
        "id": "2rPFrpn4bFp5",
        "outputId": "74db4587-7d37-429f-c66f-0c60a5d3a6b8"
      },
      "source": [
        "from sklearn.feature_extraction.text import TfidfVectorizer\n",
        "\n",
        "docA = \"The car is driven on the road\"\n",
        "docB = \"The truck is driven on the highway\"\n",
        "\n",
        "tfidf = TfidfVectorizer()\n",
        "response = tfidf.fit_transform([docA, docB])\n",
        "\n",
        "feature_names = tfidf.get_feature_names()\n",
        "for col in response.nonzero()[1]:\n",
        "    print (feature_names[col], ' - ', response[0, col])\n"
      ],
      "execution_count": 59,
      "outputs": [
        {
          "output_type": "stream",
          "text": [
            "road  -  0.42471718586982765\n",
            "on  -  0.30218977576862155\n",
            "driven  -  0.30218977576862155\n",
            "is  -  0.30218977576862155\n",
            "car  -  0.42471718586982765\n",
            "the  -  0.6043795515372431\n",
            "highway  -  0.0\n",
            "truck  -  0.0\n",
            "on  -  0.30218977576862155\n",
            "driven  -  0.30218977576862155\n",
            "is  -  0.30218977576862155\n",
            "the  -  0.6043795515372431\n"
          ],
          "name": "stdout"
        }
      ]
    },
    {
      "cell_type": "markdown",
      "metadata": {
        "id": "X7xG8Po-6Uv3"
      },
      "source": [
        "**Spam SMS detection**"
      ]
    },
    {
      "cell_type": "code",
      "metadata": {
        "colab": {
          "base_uri": "https://localhost:8080/"
        },
        "id": "E00MAtmePLbt",
        "outputId": "40ac8842-fabf-4935-89ad-efa201bf5f00"
      },
      "source": [
        "pip install scikit-plot"
      ],
      "execution_count": 60,
      "outputs": [
        {
          "output_type": "stream",
          "text": [
            "Requirement already satisfied: scikit-plot in /usr/local/lib/python3.7/dist-packages (0.3.7)\n",
            "Requirement already satisfied: scikit-learn>=0.18 in /usr/local/lib/python3.7/dist-packages (from scikit-plot) (0.22.2.post1)\n",
            "Requirement already satisfied: scipy>=0.9 in /usr/local/lib/python3.7/dist-packages (from scikit-plot) (1.4.1)\n",
            "Requirement already satisfied: matplotlib>=1.4.0 in /usr/local/lib/python3.7/dist-packages (from scikit-plot) (3.2.2)\n",
            "Requirement already satisfied: joblib>=0.10 in /usr/local/lib/python3.7/dist-packages (from scikit-plot) (1.0.1)\n",
            "Requirement already satisfied: numpy>=1.11.0 in /usr/local/lib/python3.7/dist-packages (from scikit-learn>=0.18->scikit-plot) (1.19.5)\n",
            "Requirement already satisfied: pyparsing!=2.0.4,!=2.1.2,!=2.1.6,>=2.0.1 in /usr/local/lib/python3.7/dist-packages (from matplotlib>=1.4.0->scikit-plot) (2.4.7)\n",
            "Requirement already satisfied: python-dateutil>=2.1 in /usr/local/lib/python3.7/dist-packages (from matplotlib>=1.4.0->scikit-plot) (2.8.1)\n",
            "Requirement already satisfied: cycler>=0.10 in /usr/local/lib/python3.7/dist-packages (from matplotlib>=1.4.0->scikit-plot) (0.10.0)\n",
            "Requirement already satisfied: kiwisolver>=1.0.1 in /usr/local/lib/python3.7/dist-packages (from matplotlib>=1.4.0->scikit-plot) (1.3.1)\n",
            "Requirement already satisfied: six>=1.5 in /usr/local/lib/python3.7/dist-packages (from python-dateutil>=2.1->matplotlib>=1.4.0->scikit-plot) (1.15.0)\n"
          ],
          "name": "stdout"
        }
      ]
    },
    {
      "cell_type": "code",
      "metadata": {
        "id": "udWJntsD6Uv6",
        "colab": {
          "base_uri": "https://localhost:8080/"
        },
        "outputId": "ac173c89-cd3c-42ed-f03b-abf42981f29c"
      },
      "source": [
        "from sklearn_pandas import DataFrameMapper\n",
        "from sklearn.model_selection import cross_val_score\n",
        "import numpy as np\n",
        "import pandas as pd\n",
        "import re\n",
        "import matplotlib.pyplot as plt\n",
        "import string\n",
        "from nltk.corpus import stopwords\n",
        "from sklearn.model_selection import train_test_split\n",
        "from sklearn.feature_extraction.text import CountVectorizer\n",
        "#from scipy.sparse import csr_matrix\n",
        "import scikitplot as skplt\n",
        "from sklearn import svm\n",
        "from sklearn.metrics import accuracy_score, confusion_matrix, classification_report\n",
        "from nltk.stem import PorterStemmer\n",
        "stemmer = PorterStemmer()\n",
        "#from wordcloud import WordCloud\n",
        "import nltk\n",
        "nltk.download('stopwords')"
      ],
      "execution_count": 61,
      "outputs": [
        {
          "output_type": "stream",
          "text": [
            "[nltk_data] Downloading package stopwords to /root/nltk_data...\n",
            "[nltk_data]   Package stopwords is already up-to-date!\n"
          ],
          "name": "stdout"
        },
        {
          "output_type": "execute_result",
          "data": {
            "text/plain": [
              "True"
            ]
          },
          "metadata": {
            "tags": []
          },
          "execution_count": 61
        }
      ]
    },
    {
      "cell_type": "markdown",
      "metadata": {
        "id": "pfhW-7Ao6Uv7"
      },
      "source": [
        "**Creating emoticon list**"
      ]
    },
    {
      "cell_type": "code",
      "metadata": {
        "id": "n1HXPTXO6Uv8"
      },
      "source": [
        "emotions_list = [\":)\", \":(\", \":p\", \":D\", \"-_-\", \":o\"]  "
      ],
      "execution_count": 62,
      "outputs": []
    },
    {
      "cell_type": "markdown",
      "metadata": {
        "id": "OHKuFuNR6Uv8"
      },
      "source": [
        "**Filtering SMS based on character length**"
      ]
    },
    {
      "cell_type": "code",
      "metadata": {
        "id": "8ouoKbvw6Uv9"
      },
      "source": [
        "def char_flag(l):\n",
        "    if l <= 40:\n",
        "        return 1\n",
        "    elif l <= 60:\n",
        "        return 2\n",
        "    elif l <= 80:\n",
        "        return 3\n",
        "    elif l <= 120:\n",
        "        return 4\n",
        "    elif l <= 160:\n",
        "        return 5\n",
        "    else:\n",
        "        return 6 "
      ],
      "execution_count": 63,
      "outputs": []
    },
    {
      "cell_type": "markdown",
      "metadata": {
        "id": "IV_kcaXj6Uv9"
      },
      "source": [
        "**Removing stopwords**"
      ]
    },
    {
      "cell_type": "code",
      "metadata": {
        "id": "wM5vMcXG6Uv-"
      },
      "source": [
        "stop_words = []\n",
        "def text_process(mess):\n",
        "    no_punct = re.sub('[^A-Za-z ]+', '', mess.lower())\n",
        "    return np.array([stemmer.stem(word) for word in no_punct.split() if word not in stop_words])"
      ],
      "execution_count": 64,
      "outputs": []
    },
    {
      "cell_type": "markdown",
      "metadata": {
        "id": "PNdpceDT6Uv-"
      },
      "source": [
        "**Data Preprocessing**"
      ]
    },
    {
      "cell_type": "code",
      "metadata": {
        "id": "8udP3M556Uv_"
      },
      "source": [
        "def preprocessing_text():\n",
        "    for d, ln in zip(messages_data, token_4):\n",
        "        token_1.append(d)\n",
        "        token_2.append(d.count('$'))\n",
        "        x =re.sub('[^0-9 ]+', '', d.lower())\n",
        "        token_3.append(len(x))\n",
        "        token_5.append(char_flag(ln))\n",
        "        if (re.sub(r'[^://@]', '', d.lower())) is not '':\n",
        "            token_6.append(1)\n",
        "        else:\n",
        "            token_6.append(0)\n",
        "        token_7.append(len(x.split()))\n",
        "        for emoji in emotions_list:\n",
        "            if(re.search(re.escape(emoji), d)):\n",
        "                token_8.append(1)\n",
        "            else:\n",
        "                token_8.append(0)\n",
        "    return np.array(\n",
        "        [np.array([token_1[i], token_2[i], token_3[i], token_4[i], token_5[i], token_6[i], \n",
        "                   token_7[i],token_8[i]], dtype=object) for i in\n",
        "         range(len(messages_data))])"
      ],
      "execution_count": 65,
      "outputs": []
    },
    {
      "cell_type": "markdown",
      "metadata": {
        "id": "xuEe8F0S6Uv_"
      },
      "source": [
        "**Data conversion to vector form**"
      ]
    },
    {
      "cell_type": "code",
      "metadata": {
        "id": "S93HuTlL6UwA"
      },
      "source": [
        "def data_mapper():\n",
        "    data = preprocessing_text()\n",
        "    labels = ['message','f1','f2','f3','f4','f5','f6','f7']\n",
        "    df = pd.DataFrame.from_records(data,columns=labels)\n",
        "    mapper = DataFrameMapper([\n",
        "    (['f1', 'f2','f3','f4','f5','f6','f7'], None),\n",
        "    ('message',CountVectorizer(analyzer = text_process,ngram_range=(2, 2)))])\n",
        "    X=mapper.fit_transform(df)\n",
        "    return X"
      ],
      "execution_count": 66,
      "outputs": []
    },
    {
      "cell_type": "markdown",
      "metadata": {
        "id": "aZpfD6oE6UwA"
      },
      "source": [
        "**Main Function**"
      ]
    },
    {
      "cell_type": "code",
      "metadata": {
        "id": "qjzkXNVr6UwA",
        "colab": {
          "base_uri": "https://localhost:8080/"
        },
        "outputId": "f33bb298-befb-45c6-f177-5152ea9a61ee"
      },
      "source": [
        "if __name__ == \"__main__\":\n",
        "   \n",
        "    messages = pd.read_csv(\"spam.csv\", encoding='latin-1')\n",
        "    print(messages)\n",
        "    messages = messages.drop(columns=['Unnamed: 2', 'Unnamed: 3', 'Unnamed: 4'])\n",
        "    print(messages)\n",
        "    "
      ],
      "execution_count": 67,
      "outputs": [
        {
          "output_type": "stream",
          "text": [
            "        v1  ... Unnamed: 4\n",
            "0      ham  ...        NaN\n",
            "1      ham  ...        NaN\n",
            "2     spam  ...        NaN\n",
            "3      ham  ...        NaN\n",
            "4      ham  ...        NaN\n",
            "...    ...  ...        ...\n",
            "5567  spam  ...        NaN\n",
            "5568   ham  ...        NaN\n",
            "5569   ham  ...        NaN\n",
            "5570   ham  ...        NaN\n",
            "5571   ham  ...        NaN\n",
            "\n",
            "[5572 rows x 5 columns]\n",
            "        v1                                                 v2\n",
            "0      ham  Go until jurong point, crazy.. Available only ...\n",
            "1      ham                      Ok lar... Joking wif u oni...\n",
            "2     spam  Free entry in 2 a wkly comp to win FA Cup fina...\n",
            "3      ham  U dun say so early hor... U c already then say...\n",
            "4      ham  Nah I don't think he goes to usf, he lives aro...\n",
            "...    ...                                                ...\n",
            "5567  spam  This is the 2nd time we have tried 2 contact u...\n",
            "5568   ham              Will Ì_ b going to esplanade fr home?\n",
            "5569   ham  Pity, * was in mood for that. So...any other s...\n",
            "5570   ham  The guy did some bitching but I acted like i'd...\n",
            "5571   ham                         Rofl. Its true to its name\n",
            "\n",
            "[5572 rows x 2 columns]\n"
          ],
          "name": "stdout"
        }
      ]
    },
    {
      "cell_type": "code",
      "metadata": {
        "colab": {
          "base_uri": "https://localhost:8080/"
        },
        "id": "ap9uWao8bZee",
        "outputId": "4076638e-fe7b-45d8-ef62-5f6d3a90d9a5"
      },
      "source": [
        "    messages['length'] = messages['v2'].apply(len)\n",
        "    messages_data = messages['v2']\n",
        "    messages_labels = messages['v1']\n",
        "    print(messages) "
      ],
      "execution_count": 68,
      "outputs": [
        {
          "output_type": "stream",
          "text": [
            "        v1                                                 v2  length\n",
            "0      ham  Go until jurong point, crazy.. Available only ...     111\n",
            "1      ham                      Ok lar... Joking wif u oni...      29\n",
            "2     spam  Free entry in 2 a wkly comp to win FA Cup fina...     155\n",
            "3      ham  U dun say so early hor... U c already then say...      49\n",
            "4      ham  Nah I don't think he goes to usf, he lives aro...      61\n",
            "...    ...                                                ...     ...\n",
            "5567  spam  This is the 2nd time we have tried 2 contact u...     161\n",
            "5568   ham              Will Ì_ b going to esplanade fr home?      37\n",
            "5569   ham  Pity, * was in mood for that. So...any other s...      57\n",
            "5570   ham  The guy did some bitching but I acted like i'd...     125\n",
            "5571   ham                         Rofl. Its true to its name      26\n",
            "\n",
            "[5572 rows x 3 columns]\n"
          ],
          "name": "stdout"
        }
      ]
    },
    {
      "cell_type": "code",
      "metadata": {
        "colab": {
          "base_uri": "https://localhost:8080/"
        },
        "id": "NqHmZMHiZPJ_",
        "outputId": "2a67dc7d-5550-41eb-896f-c0bac703ae9b"
      },
      "source": [
        "    token_1 = []\n",
        "    token_2 = []\n",
        "    token_3 = []\n",
        "    token_4 = messages['length']\n",
        "    token_5 = []\n",
        "    token_6 = []\n",
        "    token_7 = []\n",
        "    token_8 = []\n",
        "    \n",
        "    freq = pd.Series(' '.join(messages_data).split()).value_counts()\n",
        "    print(freq)"
      ],
      "execution_count": 69,
      "outputs": [
        {
          "output_type": "stream",
          "text": [
            "to                  2134\n",
            "you                 1622\n",
            "I                   1466\n",
            "a                   1327\n",
            "the                 1197\n",
            "                    ... \n",
            "å£50-å£500.            1\n",
            "happy..                1\n",
            "da:)good               1\n",
            "Prashanthettan's       1\n",
            "Teletext               1\n",
            "Length: 15585, dtype: int64\n"
          ],
          "name": "stdout"
        }
      ]
    },
    {
      "cell_type": "code",
      "metadata": {
        "colab": {
          "base_uri": "https://localhost:8080/"
        },
        "id": "K4X1drYd7iQd",
        "outputId": "97090953-23cf-4a1f-885f-7c98de9fb21a"
      },
      "source": [
        "    stop_words = stopwords.words('english')\n",
        "    print(stop_words)\n",
        "    stop_words.extend(freq[-9268:].index)\n",
        "    print(stop_words)"
      ],
      "execution_count": 70,
      "outputs": [
        {
          "output_type": "stream",
          "text": [
            "['i', 'me', 'my', 'myself', 'we', 'our', 'ours', 'ourselves', 'you', \"you're\", \"you've\", \"you'll\", \"you'd\", 'your', 'yours', 'yourself', 'yourselves', 'he', 'him', 'his', 'himself', 'she', \"she's\", 'her', 'hers', 'herself', 'it', \"it's\", 'its', 'itself', 'they', 'them', 'their', 'theirs', 'themselves', 'what', 'which', 'who', 'whom', 'this', 'that', \"that'll\", 'these', 'those', 'am', 'is', 'are', 'was', 'were', 'be', 'been', 'being', 'have', 'has', 'had', 'having', 'do', 'does', 'did', 'doing', 'a', 'an', 'the', 'and', 'but', 'if', 'or', 'because', 'as', 'until', 'while', 'of', 'at', 'by', 'for', 'with', 'about', 'against', 'between', 'into', 'through', 'during', 'before', 'after', 'above', 'below', 'to', 'from', 'up', 'down', 'in', 'out', 'on', 'off', 'over', 'under', 'again', 'further', 'then', 'once', 'here', 'there', 'when', 'where', 'why', 'how', 'all', 'any', 'both', 'each', 'few', 'more', 'most', 'other', 'some', 'such', 'no', 'nor', 'not', 'only', 'own', 'same', 'so', 'than', 'too', 'very', 's', 't', 'can', 'will', 'just', 'don', \"don't\", 'should', \"should've\", 'now', 'd', 'll', 'm', 'o', 're', 've', 'y', 'ain', 'aren', \"aren't\", 'couldn', \"couldn't\", 'didn', \"didn't\", 'doesn', \"doesn't\", 'hadn', \"hadn't\", 'hasn', \"hasn't\", 'haven', \"haven't\", 'isn', \"isn't\", 'ma', 'mightn', \"mightn't\", 'mustn', \"mustn't\", 'needn', \"needn't\", 'shan', \"shan't\", 'shouldn', \"shouldn't\", 'wasn', \"wasn't\", 'weren', \"weren't\", 'won', \"won't\", 'wouldn', \"wouldn't\"]\n",
            "['i', 'me', 'my', 'myself', 'we', 'our', 'ours', 'ourselves', 'you', \"you're\", \"you've\", \"you'll\", \"you'd\", 'your', 'yours', 'yourself', 'yourselves', 'he', 'him', 'his', 'himself', 'she', \"she's\", 'her', 'hers', 'herself', 'it', \"it's\", 'its', 'itself', 'they', 'them', 'their', 'theirs', 'themselves', 'what', 'which', 'who', 'whom', 'this', 'that', \"that'll\", 'these', 'those', 'am', 'is', 'are', 'was', 'were', 'be', 'been', 'being', 'have', 'has', 'had', 'having', 'do', 'does', 'did', 'doing', 'a', 'an', 'the', 'and', 'but', 'if', 'or', 'because', 'as', 'until', 'while', 'of', 'at', 'by', 'for', 'with', 'about', 'against', 'between', 'into', 'through', 'during', 'before', 'after', 'above', 'below', 'to', 'from', 'up', 'down', 'in', 'out', 'on', 'off', 'over', 'under', 'again', 'further', 'then', 'once', 'here', 'there', 'when', 'where', 'why', 'how', 'all', 'any', 'both', 'each', 'few', 'more', 'most', 'other', 'some', 'such', 'no', 'nor', 'not', 'only', 'own', 'same', 'so', 'than', 'too', 'very', 's', 't', 'can', 'will', 'just', 'don', \"don't\", 'should', \"should've\", 'now', 'd', 'll', 'm', 'o', 're', 've', 'y', 'ain', 'aren', \"aren't\", 'couldn', \"couldn't\", 'didn', \"didn't\", 'doesn', \"doesn't\", 'hadn', \"hadn't\", 'hasn', \"hasn't\", 'haven', \"haven't\", 'isn', \"isn't\", 'ma', 'mightn', \"mightn't\", 'mustn', \"mustn't\", 'needn', \"needn't\", 'shan', \"shan't\", 'shouldn', \"shouldn't\", 'wasn', \"wasn't\", 'weren', \"weren't\", 'won', \"won't\", 'wouldn', \"wouldn't\", 'hard?', 'solihull,', 'Xmas?', 'Received,', 'money?', 'IMF', '7684', 'anything?', '09096102316', 'APRIL.', 'lect.', 'call:', 'scammers', 'assessment', 'booty...', 'actor', 'Driver', 'lesson?', 'nalla', 'at!', 'Boy;', 'FFFFUUUUUUU', 'newscaster', 'CANCEL', 'Dare', 'bevies.waz', 'YES-434', 'gprs', 'JSco:', 'changed.', 'Spose', 'incident.', '69888!', 'apt', 'aunty!', '?!\\\\\"', 'drove', 'type...', '0125698789', 'X.', 'Okie..', 'borderline', 'need....|', 'investigate', 'VILLA', 'mental', 'Determined', 'ela', 'bridgwater', 'duffer', 'posts..', 'Ok,', 'Text82228>>', 'chikku..', 'oblivious', 'favour', 'greece.', 'Bin', 'www.orange.co.uk/ow', 'MR', 'WILL!!', 'wheat', 'server', 'start.i', \"dealer's\", '\\\\Petey', 'trauma', 'Them', 'bloke', 'lotsly!', 'AlertFrom:', 'SWITCH', 'jokin', 'comin...', 'WOULD', 'at,', \"WOULDN'T\", 'omw,', 'WHASSUP?', 'westonzoyland,', 'Wednesday.', 'Mileage', 'flight', 'cheaper.', 'Rodger', 'treat?', 'requests', 'ah.now', 'LISTENING', 'REALY', 'Ages', 'shore', 'losers', '$50...', 'boye', 'It..', 'slices', 'lot.will', 'consensus', 'ISH', 'guidance.', 'backdoor', 'thoughts.I', ':getzed.co.uk', '1Cup', 'didnåÕt', 'Brb', 'needle', 'gd?', 'G.B.', 'eight', 'wildlife', 'STOPCS', 'WOTU', 'also,', 'cres,ubi', '09095350301', '08718730555', 'l8', 'teenager', 'inspection', 'naal', 'puttin', 'Paris.', 'talents!', 'Unni', 'overtime', 'Dino', 'Imprtant', 'position?', 'joys', 'edward', \"xin's\", 'Bless', 'Feels', 'Wif', 'Finished', 'dealing', 'praying.will', 'mouse', 'VAT', 'Hi.what', 'shanghai', 'teaching', 'fondly', 'ago...', '10am', 'Lover.', 'jogging...', 'cos...', 'woould', 'casualty', '2MORRO', 'house,', 'turned', 'slide', 'Psychologist', 'dinner...', 'uncountable', 'sad..', 'MIN', 'spanish', 'bit...', '1st4Terms', '08715203649', 'frndshp', 'CONTRACT!!', 'feeling.wavering', 'listed', 'kisi', 'Headin', 'sparkling', 'Uks', 'gimme', 'suite:', 'apply:', 'Summers', 'Icic...', 'OK?TAKE', 'OK?', 'spree,', 'spark.', 'raping', 'LOCAL', 'failed.', 'ELLO', 'BIRD', 'approve', '9t:)', 'PETROL!', 'Sry', 'sdryb8i', '2stop', 'door?', 'knickers', '1225', '123', 'hill.....', 'rent.', 'only...', 'him:', 'auction..', 'Ahhh.', 'Care:', 'lonely,', 'days,', 'stable', 'av', 'weight...Haha...', 'tiring', 'air1', 'assumed', '4got,', 'wth', 'disastrous', 'GOTMARRIED', '2814032', 'dice,', '6times', 'No..jst', 'sq825,', \"patty's\", 'safely', 'busy.i', '10k', 'arab', '6missed', 'abdomen', 'gua...', 'stands,', 'senthil', '4.rowdy', 'heavily', '2u2.', 'Set', 'pounded', 'nights...Excellent', '07008009200', 'somtimes', 'shuhui.', 'drive\\\\\"', '69888Nyt.', 'revision', 'plenty.', 'EXP.', 'Instant', 'poker,', 'stone', 'fake', 'IDPS', 'Slowly', 'sway', 'Box434SK38WP150PPM18+', '2.IM', 'wuld', 'entirely', 'dentists', 'bruv!', '\\\\Gimme', 'celeb!', 'nigpun?', 'pray!', 'jack', 'attitude', 'along!', 'ree', 'Gopalettan.', 'tendencies.', 'iff', 'see..', 'spouse', 'happening,', '\\\\find', 'PICS', '2WU.', 'SIR.', 'srsly', 'Boys', 'training.', 'percentages.', 'obviously,', 'miss.take', 'Watr/Day=No', '60P', 'Bits', 'bday,', 'compulsory', '\\\\Checkmate\\\\\"', 'now!\"', '2moro', 'hanks', 'eaten?', 'laugh,', '400', 'accomodations.', 'mall', 'ages.', 'K..give', 'http://alto18.co.uk/wave/wave.asp?o=44345', 'maximum', 'Chasing', 'dysentry', 'SED', 'suitemates', 'second,', 'kalainar', 'fated', '\\\\STOP', 'onluy', 'outside.', 'unsold', 'AccommodationVouchers', 'Hogli', '\\\\AH', 'natural?', 'Sirji.I', 'undrstnd', 'gei.', 'Perhaps', 'stop\\\\\"', 'parent...not', '6230', 'DUMB?', 'je', 'speak,', 'shaved', '150p/text', 'dodgey', 'sky', 'Early', 'wheel', 'K.k.how', 'acid!', 'darkness,', '4.30', 'andre,', 'quarter,', 'WERETHE', 'go,', \"mrng''\", 'initiate\\\\\"', '400mins...Call', 'fair', 'FREE*', 'voted', 'gays', '1405,', 'unfolds.', 'l8r', 'Pro', '..water.?', 'rip', 'Goodnight.', 'arrival', 'bot', 'live:)', 'then?', 'next.', 'TONIGHT!', '10:10', '?-', '.........', 'teams', 'hope,afternoon', 'wish!', 'mentor', 'Second', '09058094583', 'intha', '09065171142-stopsms-08', 'Spring', 'gal-no,', 'Barbie\\\\\"?', 'Hitler', 'nipost', 'gorgeous!', 'Gal', 'prior', 'REPLYS150', 'milk..', 'flavour', 'heltini..Iyo', 'dimension', 'Except', 'bold2', 'cal;l', 'ft.', 'posh', 'BOX139,', '(20/F)', 'DETAILS', 'Goin', 'I?This', 'NUMBER', 'computational', 'MONOC', 'hands...', 'concern', '09111030116.', '*possessive', 'Opt', 'comes?', 'require', 'Vote.', 'porn!', 'Darling', 'Jolly', 'weekends?', 'himself.', 'pataistha', 'signal.', 'bang', 'installing.', 'darlin!im', 'Dear,regret', 'move,', 'africa?', 'Mon', 'da:)i', 'hockey', 'http//tms.', 'arestaurant', '$95/pax,', 'lecturer', 'HRS', 'call2optout/F4Q=', 'washob', 'nachos.', 'come..til', 'paru..', 'C!', 'meet,itz', '(Ranju)', 'FIGHTS.', 'easiest', 'Predicte', 'scream.', 'bowls', 'SMSSERVICES.', ';-(', 'worc', 'out--if', 'happened..!', 'buen', 'phrase', 'Wow.', 'wed,', 'Cash.', 'garbage', 'doing?What', 'ritten', 'IåÕm', 'Drop', 'CAREFUL', 'Designation', 'Other..', '09061701939.', 'inmind', 'extra,', \"Harish's\", 'perpetual', 'nursery!', '2go', 'bathe.', 'comprehensive', 'astrology....', 'Wherevr..', 'conacted', 'Audrey', 'least5times', 'edrunk', '9-6.', '8.30.', 'k..sry', 'Suganya.', 'news:', '0870737910216yrs', 'Lolnice.', 'nearer...', 'developed', 'clocks', 'Wendy', 'what,', 'smell', 'successfully.', 'Easter', '08715203652', 'k:)but', 'thinkThis', 'laid?want', 'Biola', 'Shanil,Rakhesh', 'steve,like!', 'got...', 'thesis!', '310303.', 'Spiral', 'http://wap.', '08707808226.', \"There're\", 'here,remember', 'prescripiton', 'age.', 'bf...', 'developer', 'pouch', 'intrepid', '29/10/0', 'Omw', 'really??', 'XoXo', 'weåÕve', 'Goodnight!\"', 'spares', 'Christmas!', 'subject', 'aging', 'grinder?', 'Compass', 'cards', 'did?', 'splendid', \"nobody's\", 'white?', 'hopefully,', 'Ooooooh', 'grandmas.', 'Yaxx', \"er'ything!\", '1stone,', 'bakrid!', 'risks,', 'valentines', 'Ubi', 'possibility', \"fly..i'm\", 'tonite.busy', \"t's\", 'weirdy', 'sathy', 'catches', 'Cool-Mob', 'predict', 'sleepy.', 'max6/month', '32323.', 'Her', 'treated?', 'sonathaya', 'blastin..', 'Hmmm.but', 'language.', 'tootsie', 'stalking', 'magazine,', 'london', '545', 'error', 'website', 'selflessness.', 'pub??', '47', 'AGAIN!', '=)', 'logo&pic', '946', 'ninish,', 'smells', 'reply-', '5pm', 'www.clubmoby.com', 'resort', 'msgrcvd18+', 'cheap:-)', 'GIRL,', 'min..stand', 'warning.', 'cook', '07808247860', 'services.', '5WE', 'AMY', 'dreams...', 'funs', 'bcz', 'Jokin', '1120', 'Apart', 'S:)8', \"U'll\", 'it.i', 'fowler', 'PERIL', 'department,', 'Yogasana', 'finished.', 'HUNNY!HOPE', 'internet/service', 'å£12', 'shldxxxx', 'Why:-)', 'degrees.', 'god..taken', 'Smith', 'dorm', 'friendship.', 'Sender:', 'lyrics..', 'Jane', '1.childish', \"wudn't\", 'deposited', 'USED', 'cudnt', 'lesson,', 'dine', 'famous', 'cutie.', 'worse,', 'CLoSE', 'chikku..:-)', 'smidgin.', 'town.', 'Y?', '7:30', '\\\\sleep', 'fact,', 'ASUSUAL!1', 'CAMERA,', 'canada', 'cbe.', 'e-mail?', 'in...', 'å£125', 'Hmm...Bad', '08706091795', 'friends...', 'choices', 'steak', 'SEND', 'restrict', 'No..he', 'JANINExx', 'HUNNY', '2StopTxt', 'me..i', 'XXXMobileMovieClub:', 'entrepreneurs', '4EVA', 'trip...', 'pulling', 'chatter!', 'chat!', 'coach', 'year?', 'lazy...', 'refund', 'open?', 'Emotion', 'Being', 'forgive', 'away.', '*pushes', 'swhrt', 'Pray', 'dinner,', 'malarky', 'hugging', 'mayb?', 'REMINDER', '\\\\For', 'dead..\\\\\"', 'freek', 'crucial', 'kickboxing', 'ml', 'mate!!', 'next:-)..', 'apology', 'delicious', 'spring', 'balloon!', 'hut?', 'embarrassed', 'advising', '!1', 'everything\\\\\".', 'RingtoneåÁ', 'tke', 'Poor', '1Tulsi', 'Thurs,', 'Franxx', 'EXETER', 'Thursday.', 'working!', 'textbook', 'Craigslist', 'GOSS!x', 'praps', 'dual', 'BCMSFWC1N3XX', 'scenario', 'jiayin', 'support.providing', '89938', 'break:).', 'fishhead', 'yck', 'openin', 'finalise', 'pop.', 'a30.', '09058094594', 'cheese', '(\\x89Û_)', 'calculation', '146tf150p', 'nxt?', 'M39M51', 'blankets', 'Waaaat??', 'howard?', 'Wrong', 'Polyphonic', 'txt~journey', 'Marley,', 'shower.', \"4'o\", 'cartons', 'converted', 'POBOX114/14TCR/W1', 'number..:)', 'PC.', 'aha:-.', 'tat..', 'exterminator', 'phone750', 'neighbors', 'becz', 'huai', 'Motivate', 'guessed', 'planet', '08719899229', '9th', 'message.pandy', 'jeetey', 'Big', 'elaya.', 'ENJOY', 'tui', '5digital', 'app?', 'Hello-', 'coast', 'incomm', 'before...', 'code:', 'implications.', 'sd', 'lor,goin', 'experience', 'heavy?', 'boring.', 'K52', 'Ami', 'K:)k:)what', 'soon.xxx', 'youwanna', 'ericson', 'stopped.', 'ham', 'witin', 'tonite.', 'wow.', 'gota', '\\\\Are', '08718726971', 'perumbavoor', 'JJC', 'Hanging', 'touch.', 'sense?', 'Cancel', 'PUTTIN', 'die.', 'eyes.', 'Wtf.', 'here.pls', 'me...ummifying...bye.', 'bck.', \"tantrum's\", '0207-083-6089', 'heat', 'ever!', 'TALKBUT', 'anything!', 'PHP', 'Langport.', 'vs.', '88800', 'massages.', 'uni?', 'expression?', 'gbp/sms', 'position.', 't&c', 'box334sk38ch', 'buffet', '3XX', 'HU.', 'impossible.', 'Expression', 'resume:-)', 'msg..sometext', 'tagged', 'chuckin', 'depressed', 'exposed', 'victoria', 'MAD1,', 'Pg', 'randomlly', 'RUDI', 'e.g', 'Termsapply', 'that2worzels', 'nosy', 'sis.', '09077818151', 'dryer', 'DOWNON', 'Queries', 'formatting...', 'forgiven!', 'soladha.', '08718726978', 'Kanagu', 'golden', 'difference..?', '7.Romantic', 'sheffield', 'brin', 'weed-deficient', 'walsall', 'CUST', 'Waste', 'stranger', 'venugopal', 'WA14', '650.', '850.', 'Wright', 'LMAO', 'it:)', 'happiness..', 'care.insha', 'arises', 'type.', '1.50p/wk.', 'myparents', 'festival', 'Year,', 'Miles', 'shrek', 'warwick,', 'upping', 'floppy...', 'SARY!', 'bookshelf', 'Celebrations', 'late,i', 'sections', 'continent?', 'E-ternal.', 'LORD', 'magicalsongs.blogspot.com', 'boss?', '(And', 'limits', 'Stop2', 'me.she', 'prestige', 'Lies', '80878', 'CONCERNED', 'simonwatson5120', 'ac/smsrewards', 'That\\x89Û÷s', 'opposite', '150p/MSGRCVD', 'gon', 'WORRIED!x', 'arrived,', 'about!', '7pm', 'BABES', 'båÕday', 'show.', 'Cud', 'shud', 'www.Ldew.com1win150ppmx3age16subscription', 'satsgettin', 'el', 'bad!', 'hunny', 'isnåÕt', 'surgical', 'spreadsheet', 'pie!', 'duvet', 'Tones,', '\\\\Walk', 'tall', '09061743810', 'mirror', 'dey.i', 'moji', \"own--you've\", 'caring,', 'SOO', 'MISSED', 'Lul', 'ow', 'accumulation.', '20M12AQ.', 'fridge!', 'AGO.', 'FUCKED', 'xxxmobilemovieclub.com?n=QJKGIGHJJGCBL', 'RANG', 'Complete', 'si.', 'lautech.', '12:30', 'wuldnt', 'owned', 'LA32WU.', 'Promo', 'FIT', 'Filling', '08712404000', 'esplanade', 'MECAUSE', 'person!', 'confidence,', 'BOX334SK38ch', 'you:)any', 'brisk', 'refunded.This', '8Ball', '-PLS', 'complacent...', 'pa?', 'youuuuu', 'boat.', 'blank?', 'hat,', 'for!', 'popcorn', 'Traffic', 'air?', 'beauty', 'JANX', 'name?', 'effects', 'someone.', 'province', 'begin.', '(You', 'January', 'rajini', 'hunting', 'showed', 'function', 'www.SMS.ac/u/natalie2k9', 'Burns', 'player.', 'roommate,', 'K...', 'call2optout/!YHL', '2309.', 'community.', 'messages..im', \"Girl'\", 'MAYBE', 'Thanx..', 'LUCY', 'once?', 'cave\\\\\".', '4give', 'TEXD', 'falls.', 'TOP', 'mailed', 'pai', 'telly', 'SPEEDCHAT,', 'is?!', 'CRAZYIN,', '08718711108', 'drms', 'now!still', '5226', 'Doggy', 'gr8.', 'jog.', 'rest:-).', 'reminds', 'Friday,', 'eyes...', 'send.', 'pain.it', 'warner', 'auction:)punj', 'LAY', 'linerental,', 'sterling', 'Triple', 'Aldrine,', 'triumphed.', 'repeat,', 'i.e.', 'burnt', 'fring', 'bpo..', 'å£1.50perweeksub.', 'Sankranti', 'iZ', 'shaking', 'Now,', 'hrs.', 'edwards', 'visit.need', 'FUCK.', 'lodging', 'Jos', '4txt/120p', 'degree.', 'spelling.', 'vaguely', '09066361921', '2nhite', 'cousin...', 'credit,', 'Com', 'REALISE', 'astne', 'cheap!', 'Adrian', 'So,', 'members', 'UR...', 'granted', 'continued', 'batsman:-)', 'diapers', 'considering...', 'tol', '+449071512431', 'No..but', 'FANCY', 'clearly.', 'pretsorginta,', 'FIELDOF', 'Barry', 'Jez', 'Traditions....', 'deserve.', 'knackered.', '83370.', 'PEACH!', 'pop', '150p/Mtmsgrcvd18+', 'god..', 'tear....\\\\\"\"', 'campus?', 'sensible,', 'DoubleMins', 'nanny.', 'lunch:)', 'SIM', 'Inclusive', 'try:-)', 'HUN!LOVE', 'global', '\\\\Hey!', 'hunks', 'Healer', 'comes,', 'watevr', '??', 'him..', 'cliff', 'borrow', 'nike.', 'Nowadays', '5pm.', 'prescription', 'Vikky,', 'Mother', 'wounds', 'division', 'N-oble.', '2wks', 'Yeah.', 'wipro:)you', 'disappointment,', 'on:)', 'S...i', '78', 'try!', 'bathroom,', 'v.pist', 'fgkslpoPW', 'gr8prizes', 'Snd', 'Reflection', 'B-day', 'Penny', 'century', 'wife.', 'forfeit...', '89555.', 'patty', 'shortcode', 'luv,Night', 'Hell', 'window', 'Detroit.', 'topped', 'website..now', 'TOOL!', 'Tyler', 'attracts', 'I-ntimate.', 'details:)', '15541', 'Guai...', 'vill', 'å£1.50ea.', 'P.', 'opinions.', 'expired..so', 'Oops.', '9996.', 'jewelry,', 'error.', 'Hospitals', 'forever!\\\\\"\"', 'Europe', 'Whos', 'ideas.', 'lessons...', 'rate.', 'nan', 'walmart,', '1pm', 'Newport', 'play?', 'msg?', '$1', 'chat.\\\\\"\"', 'occasion', 'realising', \"'Wnevr\", 'Tunde,', 'young', 'REAL1', 'tirupur', 'Correct', 'conected.', 'lou', 'ours:)so', 'bec', 'abusers', 'mb.', 'coming.tmorow', 'depression', 'ibm,', '&it', 'office.thenampet', 'CER', 'shock', 'L8R.', '10..', 'factory', '1013', 'muchand', '08714712394', 'success', 'meive', 'Slide', 'sister..', '89034', 'reassuring,', 'panties?', '8-8:30', 'secret.', 'patent.', 'å£1.50/week.', 'vivek..', 'outrageous.', 'Help08714742804', 'tv..he', 'Cancer.', 'we\\x89Û÷re', 'bid,', 'Free,', 'supose', 'cya...', 'LA1', 'Popcorn!Just', 'rayan', 'www.cnupdates.com/newsletter.', 'depends.', 'yck?', 'BOOKS?', 'floor?', 'membership.take', 'IT+BOTH', 'harlem.', 'uncomfortable.', 'Joking', 'BROTHER', 'careabout', 'Low-cost', 'clash...', 'annoyin!', 'spice', 'corvettes', 'FUCKINNICE!SELFISH', 'flirt?', '07090201529', 'IJUST', 'hos', 'chapel', 'båÕday,', 'BANK', 'Fine.', 'action', 'T&CsC', 'escape.', 'ou', 'idu', 'inperialmusic', 'yorge', 'TERMINATED.WE', 'Ma', 'talks', 'sufficient,', 'forever!!!', 'thought,', 'drink,', 'studyn', 'desert.', 'Exam', 'De', 'theory', 'Purple;u', 'WTF.', '4wrd', 'swell', '09064017305', 'dealing!', 'ni8.swt', 'Extra', 'xafter', 'sickness', 'www.santacalling.com', 'South', '&Cs', 'Values...,', 'aka', '88877>FREE', 'do..', 'rebooting', 'Brought', 'mate...', 'FM...you', '83118', 'claimcode', 'Webpage', 'groovying', 'Messages.', \"Dip's\", 'Show', '645', 'Badrith', 'upstairs.', 'offense', 'years!!', 'burns', '2day,', 'simulate', 'Shivratri', 'REBEL!', 'Nite', 'Dating', 'internet.', \"Red;i'm\", 'sporadically', 'Ho.', '?.', 'pmt', '\\x89ÛÏ', 'knackered', '=/', 'now!Use', 'Ha!', '09064012103', 'Oic', 'GOWER', 'bitch.', 'driving,', 'soon..', 'kalisidare', 'ANSWER', 'chat...', '\\\\wow', 'BANNEDUK', 'today.Good', '9t;-)', 'headstart', 'causes', 'Sort', 'commit', 'Unlike', 'SUNDAY', 'congrats', 'APPY', 'polyPH', 'period..', '83222', 'MORNING!', 'alternative.hope', 'bb.', 'understand.', 'throwing', 'call.urgent.', 'deal...Farm', 'Ilol', 'importantly,', 'Def', 'arty', 'SHITIN', 'Manchester.', 'antibiotic', 'ENJOYIN', 'treat,', 'TEXTCOMP', '12mths', 'ouch', 'suffering', 'totes.', 'Panasonic', '077xxx', 'WIV', 'smile.:-)', 'can.dont', 'collapsed', 'itself!', 'boye,', 'MON.L8RS.x', '09050001295', 'railway.', 'Day...!!!', 'workage.', 'hooch', 'everyboy', 'Bite', 'Audrie', 'shop.', 'checkboxes', 'msn.', 'S.this', 'stuffing', 'mornin..', 'snogs.', '6.45pm.', 'ktv', 'it..just', 'dead!Well', 'aptitude', 'holiday,', 'Sugababes,', 'teacher...', 'going,', 'justify', 'farting', 'pie.', 'jontin', 'History', 'SOON.C', 'shes', 'desert', '09066649731from', 'soo', 'MESSAGE**Thanks', 'unfortunately...', 'NUMBER-SO', 'optimistic', 'Takin', 'deals', 'magic.', 'shirt.', 'CHATLINES', 'S:)s.nervous', 'watchng', 'that)', 'www.cashbin.co.uk', 'Realy', 'home!But', 'lasagna', '2U', 'xmas!', 'thin', 'owe', '\\x89Û_.', 'Yay', 'ENUFCREDEIT', 'flood', 'sight', 'lucky.', 'PARIS.FREE', 'promptly', 'correction?or', '[\\x89Û_]', 'None', 'hourish?', 'Movie', 'nyc,', '4-6...', 'mentionned', 'BBC', 'removed.', 'missing,', 'glad.', 'residency', 'CAL', 'Thinkin', 'grateful', 'ar...', 'j!', 'recieve', 'Not..tel', 'noon..', 'å£1.', 'me..ok,', 'Thanku', 'aroundn', 'dick', 'PETE,', 'Pest', 'Lol,', 'Good!', 'buy...', 'thandiyachu', 'Milk/day=No', 'load', 'BYATCH', 'RINGS:RETURN', 'comb', 'Prof:', 'born!', 'alerts', 'Age', 'å£1.50pm', 'system.', 'motor', '(to', 'registration', 'chgs', 'wkend.', 'mistake.', 'HG/Suite342/2lands', 'DPS,', 'Habit', 'Until', 'wlcome', 'jabo', 'Slow', 'all,', 'INCLU', '5.ful', 'nudist', 'wet?', 'Day:)', 'doesn\\x89Û÷t', 'Science', 'Unlimited', 'stuff42moro', 'promoting', 'thou', 'stretch...', 'enketa', 'EXACT', 'Peripherals', 'Year!', 'Pilates', 'you*', 'Rats.', 'NITW', 'horniest', '4U!:', 'regretted', '\\\\Sometimes', 'smile..:)', 'filthyguys.', 'Prasanth', 'reset', 'bunkers', 'me..so', 'real,', 'fb.', 'tattoos?', 'class:-)', 'asleep?', 'poo', 'agalla', 'MonthlySubscription@50p/msg', 'theirs?', '2.U', 'LookAtMe!,', 'MO...', 'thanx.', '29/03/05', 'harri', 'only?', 'ortxt', 'required:)', 'fuelled', 'pocked', 'men.', 'carly', 'while,', 'NOW!REPLY', \"'An\", 'maga..', 'Jersey', '150ppmsg', 'Nationwide', 'excused.', 'Y87.', '@Shesil', 'butt', 'kane', 'jackson', 'PRIZEAWAITING', '07808', 'madoke', 'MALL', 'bro.', \"virgil's\", 'Thurs', '2EZ', 'french', 'RTM', 'fuckin', 'å£1.50/wk.\"', 'present...', '5ish.', 'pictures,', 'behind...', 'journey', 'fiting', 'PSP', '\\\\wylie', 'Excellent,', 'feel?', 'skinny', 'fatty', 'hun-onbus', 'frequently', 'foregate', 'No..its', 'features', 'posible', 'MK45', '*passionate', '9.decent', '42810', 'archive.', '87070.', 'bishan?', 'salesman...', 'panalam...but', 'sutra', 'ONCALL.', 'pisces.', '69969', 'different?', 'took.', 'STUDY', 'recharge..Rakhesh', 'usc.edu', 'tops', 'UK-mobile-date', 'fishrman', 'god!', 'goin2bed', 'ever:', 'forgot..', '41782', 'upset.i', 'sore!', 'travelled,', 'drastic.', 'readiness.', \"Wasn't\", 'Breaker', 'meet.', 'labor.', 'å£33.65', 'holiday.', 'drizzling', 'early,', 'manual', 'paragraphs?', 'pockets:)', '1131', 'alive?', 'florida', 'dearly', 'DoubleTxt', 'brains', 'MITE', 'question..', 'vinobanagar', 'Pity,', 'elliot', 'channel:-):-):):-).', 'sometime!', '80488.biz', 'care:-)', \"INVITED'\", '087016248', 'Small', 'ors', 'unclaimed!', '07973788240', 'alcohol.', 'Block', 'svc.', 'Toledo.', 'Trying', 'Question', 'subtoitles', 'Nimbomsons.', '(kadeem)', 'vasai', 'yifeng', 'OTHERWISE', 'everywhere', 'crazy.', 'sorry-i', 'Sux', 'frank...good', 'Pose', 'Shhhhh', 'it\\x89Û÷s', 'relaxing', 'parent.', '.nt', 'list.', \"yetty's\", 'lt...', 'helpful', 'long!', '62220Cncl', 'on-edge', 'alive.better', 'faber', 'poorly', 'banned', '7-Mahaveer', 'Everytime...', 'bk', 'apart', 'Guy,', 'NO.1', 'fletcher', 'Indyarocks.com', 'ass!', 'upcharge.', 'Arul.', ':-):-).\"', 'truffles', 'corrupt', 'chief,', 'WAIT', 'beverage', 'laying', 'charming', 'knew,', 'morning.take', '10.1mega', 'ok:-)', 'leadership', 'postponed,', 'Ambrith..madurai..met', '300p', 'hesitation', 'sashimi...', 'HELLOGORGEOUS,', '\\\\\"1.U', 'lined', 'Jealous?', 'cuck', 'immed.', 'also...', 'ZOUK', \"u've\", 'busy.', 'mw', 'review.', 'Amrita', 'guoyang', 'cherthala.in', 'Jorge-Shock..', 'ee', 'POINT', 'mb...', '02072069400.', 'Noice.', 'shore..The', 'mah..', 'block', '>>>More', 'cash,', 'billy', 'pases', 'savings.', 'reunion?', 'forced', 'individual', 'changing', 'genius', 're-sub', 'H&M', \"me?Don't\", 'world,may', '2exit.', 'hvae', 'ABOUTAS', 'Sweetheart', 'meet?', 'cooperative', '06.', 'vibrator', 'embarassing.\"', 'urself.', 'moby.', 'appeal', 'Brief', 'scratches', 'corect', '2.15', 'loo', 'GBP/week!', 'aquarius', 'txtX', 'babysit', 'impress', 'TheMob>', 'guilty...', 'OLD.', 'joined.so', 'has,', 'tddnewsletter@emc1.co.uk', 'S....s...india', 'OK,', 'marking', 'monos', 'consistently', 'isn\\x89Û÷t', 'telugu', 'issues..', 'walking..', 'denying', 'edge.', 'melody!', 'happend', 'Erm...', 'efreefone', '*sips', 'ask:-)', 'sariyag', 'exams,', '6ish.', 'ringing', 'manageable', 'arguing', 'TC-LLC', 'link.', 'problem:-)', 'Nokia,', 'visiting', 'bit,', 'Nookii', 'activ8.', 'åÔrents', 'U\\x89Ûªve', 'section', 'sh', '&othrs', 'strong:)', 'U.CALL', 'number!', 'teeth?is', 'WeLL', 'IT?xx', 'covers', 'comingdown', 'liquor?', 'process.Excellent', 'shy', 'chik.', 'Tmrw.', 'Evening', 'accordingly.or', 'nalli', 'YEAH,AND', 'hme', 'HMV1', 'star', 'happy,', 'correction.', 'value-Morning', 'shopping!', 'mac', 'lanre', 'back?.a', 'Day!', 'Mountains', 'Po', 'frnd:', 'MAD2', \"tm'ing\", 'payments', 'sense,', 'previews.', '\\\\ME', 'champ', 'ItåÕs', 'www.SMS.ac/u/goldviking', 'pa...', 'city.', '48922', 'stolen,', 'raglan', 'clothes', 'dunno...', 'legal!', 'feel..', 'contains', 'least...Which', 'us,', 'offcampus', 'del', 'SNORING.THEY', 'big,', 'strong.', 'Service.', 'site.', 'show...', 'fumbling!', 'couch\\\\\"', 'alrite.', 'canlove', 'b\\x89Û÷ham.', 'Hang', 'SUMMER', 'OFF', 'pls:-)', 'argentina.', 'OFSI', 'Invest', 'pie', 'tho-', 'cocksuckers.', 'Bani', 'rupaul', 'careful', '&lt;)', '2/2', '$2', 'comment', 'interview?', 'puzzeles.', 'nus', 'model..sony', 'planned?', 'loneliness', 'Hey..', 'dump', 'FIFA', 'fainting', 'flies,', 'hug?...', '88039.', 'VIDEO', 'Videos', 'Chinatown', 'K..k...from', 'paperwork', 'barred', 'pin?', 'DEL', 'frnt', 'wife.dont', 'Desires-', 'MATCHED', 'prometazine', 'å£s', 'tomo!', 'soooo', 'far!', 'difficulties', '09065394514', 'vomiting.', 'ashes:)', 'day..:)\"', 'hustle', \"finn's\", 'report.', 'sha!', 'X29.', 'firsg', 'this...', 'orno', '10th', 'LIKEYOUR', 'true..', 'stash', 'case.', 'RGENT!', 'dangerous', 'NY-USA', 'Slept?', 'checkup', 'words,', 'this:)don', 'Grazed', 'mob?', 'Agalla', \"hubby's\", 'å£79', 'dats', \"alex's\", 'AV', 'completing..', 'reaching...', '09061790126', 'rakhesh', 'same,so', 'sales', 'johnåÓ-sounds', '09061104276', 'www.shortbreaks.org.uk\\\\\"\"', 'flow', 'vomiting', 'closes?', 'gay.', 'remb...', 'http://img.', 'Fredericksburg', 'Leanne.what', 'promised', 'first...', 'truly..', 'MESSAGE.', 'nusstu...', 'VIA', 'odi:-)', 'SHOWR', 'odi', 'it..mail', 'lot..i', 'photos.', 'sick?', 'Coz..somtimes', 'dogs', 'blogging', 'HAVING', 'Tsunami', 'unmits', 'moment,', 'panren', 'Wun', 'ROMCAPspam', 'sumfing', 'lennon.', 'Organizer', 'please?!', 'Quiz!', 'hassling', 'ARIES', 'nevr', 'thus', 'desparately', 'test:-).', 'field', '\\\\BOO', 'opinions', '%of', 'Club>>', 'SING', 'HP20', 'ac/W/icmb3cktz8r7!-4', 'XXUK', 'mostly', 'lunchtime,', 'A21.', '$350', 'Yen', 'torture', 'grasp', 'nora', 'k.k..where', 'www.flirtparty.us', '30th', 'lovers', 'WHILE', 'K...k...yesterday', 'day...', 'Election', '\\\\woah\\\\\"', '08450542832', 'browse', 'den,', '09065171142-stopsms-08718727870150ppm', 'lag.', 'Normally', 'bars', 'olave', 'K.k.this', 'thx', 'Si', 'INFORM', '$700', 'Thout', 'him:)then', 'sheets.', 'Sonetimes', '09099725823', 'faith,Evening', 'Calling!', 'other.', 'tomorrow.call', 'than.', 'shopping?', '8714714', 'Woods', 'break,', 'evening?', 'famamus....', 'money...', 'brilliant...1thing.i', 'training?', 'mofo?', 'feathery', 'SUNDAY..:)', 'sachin.just', 'MAKE', \"Don't4get2text\", 'Pshew...missing', 'STU', 'watch,', 'idiot?', 'goin,', 'recycling:', 'present.', 'posts', \"station's\", 'maggi', 'StdTxtRate.', \"can't,\", 'bedrm', '730.', 'breadstick.', 'won!', 'Psychiatrist', \"upset--it's\", 'ana', '1.50p', 'lst', '8.30', 'meh', '84128,custcare', 'traffic.', 'Stuff', 'weeks>', 'blanked', \"world's\", 'Wont', 'med.', 'them..:-P', 'beggar.', 'field.', 'boy-y?', 'laugh.', 'do!', 'DECIDED', 'mcr', 'trends', 'geting', 'much:)', 'weirdo?', 'hostel', 'embassy', 'person,', '8th)', 'overdid', 'wk!', 'giv', 'bids', 'odalebeku:', 'samachara', 'hits', 'innings', 'breaks', 'closed', 'positive', 'Sam', 'Expecting', 'lapdancer.', '150p/wk', 'k:)', 'icky', 'Information', 'aust', 'i,m', 'grocers.', 'randy.', 'vital', 'you/carlos', 'success.', 'Aah.', 'gautham?', \"'taxless'\", 'screamed,', '88888.', 'Poyyarikatur,kolathupalayam,unjalur', 'Bec', 'sacrifice', 'eldest', 'Ready', 'mail.i', \"taylor's\", 'strict', '7732584351,', 'passion', 'Ahhhh...just', 'resubmit', 'Enna', '\\\\paths', 'impressively,', 'notified', 'play..i', 'J?', 'Gaze', 'grief', 'gently', 'Auntie', 'MARSMS.', 'CANT', 'adi', 'Velusamy', 'Pete!', 'publish', 'å£48,', 'esplanade..', 'join...', 'stores', '*phews*', '4u:', 'trek', 'gymnastics', 'stylish.', 'Boooo', 'Anytime.', 'Why.', 'Stay', 'falconerf', 'POOR', 'www.B4Utele.com', 'jesus.', 'valentine?', 'BABE..', 'imp.', 'WRKIN?', 'spiffing', 'misscall', 'Facebook', 'days.Ì¬n', 'EVERY1', 'walmart', 'Deal?', 'scotland', 'Orh', 'divorce.', 'enough,', 'TEX', \"ugo's\", '7548', 'hotel...', 'Moms', 'trouser', 'chennai:)', 'claypot', 'spl..wat', 'msgs.', 'occurs', 'installation', 'greatness.', 'telly?', '83600.', 'yest...', 'topic..sorry', 'he...', 'sOOn', 'ok.varunnathu', 'batt', 'poking', 'TASTS', 'liver.', 'heron', 'shangela.', 'ears', 'reapply?', 'install', 'lnly', 'tamilnadu..then', 'rs..', 'urination', 'comin.', 'event?', 'BEER', 'bedroom...', 'home.left', 'stops', 'sat?Ì_', '08714712412', 'webadres', 'MobcudB', 'restock', 'interviews.', 'kid.', 'why?', 'neighbor', 'filthy', 'MEETIN', 'alone.', 'THEW/END...', 'amore', 'classmates?', 'bedrm-$900...', 'Seventeen', 'MELNITE', 'LIFT', 'mumHas', 'Cannot', 'pics,', 'shoulders', 'reckon', 'length', 'surname', 'masteriastering', 'eå£nd', 'fine!', 'Companion', 'semi', 'LEKDOG', 'yay', 'yowifes.', 'link,', '09099726395', 'Tiger', '09041940223', 'å£1.50/msg.', 'tranquility', 'calm', 'Kinda.', 'filling', 'Work.', 'marketing', 'town,', 'rummer.', 'incident..', 'irritated', '402.', 'trip!', '8-hr', 'life:', 'search:)', 'settled?', 'boring?!', 'SF', 'nt?', 'Hmmm..', 'kitty', 'pop?', 'Jeremiah.', '09050000928.', 'Iraq', 'WEREBORED!', 'kano..anyway', 'Dear..:)', 'trainners', '08712405020', 'processed', 'judgemental....i', 'college?xx', 'mega', 'nearby', 'mouth,', 'Machan', '\\\\CAN', 'x-net', 'stoners', 'å£1.50.', 'masked', 'Wait.i', 'millers', 'POKKIRI', \"uk's\", 'shipped.', '177.', 'Seem', 'When/where', 'suckers.', '1DA', 'lei..', 'mei,', 'sucks,', 'Sara', 'XCLUSIVE@CLUBSAISAI', 'sts', 'motherfucker', 'Ooh,', '16+only!', 'shouldn\\x89Û÷t', 'brilliant', 'lubly!', 'SWAN', 'Kick', 'X\\\\\"\"', 'busty', 'arranging', '3680', 'conversations', 'ph:08700435505150p', 'Spider-man', 'emailed', 'sexy?', 'Voila!', 'vikky,', 'apeshit', 'condition', 'kaypoh..', 'chikku..il', 'madstini', 'boston,', 'callon', 'SLEEPING', 'fal', 'EVEN', 'snogs!', 'www.ldew.com1win150ppmx3age16', 'Meat', 'Chat.', 'coins.', 'worries,', 'SplashMobile:', 'lowes.', 'K..then', 'kintu', '09064018838.', 'neglect', 'person.Meet', 'Huh?', 'you..', 'da:)do', 'Pharmacy', 'useful?', 'CERI', 'her...', 'Telephonic', 'outs', 'yellow', 'clarification', 'match?', 'more\\\\\"', 'TRUE', 'installing', 'WK?', 'MAN?', 'la,', 'happening?', 'held', 'keyword', '2morow.', 'hope?', 'sized', 'sore', 'office:)whats', 'aight.', 'Sppok', 'Loosu', 'doug', 'REPORT', 'express', 'Serena:)', 'landlineonly', 'bathing...', 'stealing', 'Erutupalam', 'info:', 'ofice...got', 'avin', 'difficulties,', 'bras', ':)finally', 'help!', 'Tho', \"mummy's\", 'Vatian', 'fujitsu,', 'asap', 'www.areyouunique.co.uk', 'u?\\\\\"', 'Ditto.', 'm100', 'Weightloss!', 'getting?', 'Yunny', 'Miserable.', \"one's?\", 'problem!', 'dot', 'Number:', 'admission', 'kip', 'cooked.', 'OKDEN', 'excited', 'cr', 'Fills', 'nicky', 'SOONLOTS', 'Problms', 'kill', 'meals', 'Lk', 'å£1million', 'Splat!', \"how've\", 'G.W.R', 'glass', 'DVD!', 'kidding', 'Eatin', 'Filthy', 'vid..not', 'daily', 'mrng!', 'million', 'mins!', 'strange', 'dont....', 'dumb', '-via', \"weather's\", 'eruku.', 'welp', 'too.Pray', 'EXTREME', 'IT.(NOW', 'steps.', 'fried', 'Xavier', '18+only', 'AFTERNOON?', 'Yalru', \"hadn't\", 'so.so', \"DIDN'T\", 'cupboard', '139,', 'Warner', '14thMarch.', 'yo?', 'SWAP', 'senses.respect', 'Psychic?', 'www.telediscount.co.uk', 'Trackmarque', 'over..', 'places.', 'sane.', 'Can.', 'kano;-)', 'damn', 'COOL...', 'askd..', 'Tsunamis', 'barolla..', 'HONEY?DID', 'it*', 'complaining', 'bsnl', 'vibrant', 'intelligent', 'YES-910', 'IP4', 'wait.', 'IDIOT\\\\\".', 'fucked', 'belongs', 'prince..GN:-)', 'Twinks,', 'tv/', 'wait,', 'www.ringtoneking.co.uk!', 'SHOULD', 'Remembr', 'walkabout', 'nyt:-*', '09050000555.', \"THESE...your's\", 'STORES', 'lunsford', 'Tour.', '7ish,', 'Wait...should', 'hurt..', 'yoville', 'slice', 'medicine', '08708800282', 'wasn\\x89Û÷t', '150ppmPOBox10183BhamB64XE', 'stop..', 'wasted', 'technologies', 'hogidhe..chinnu', 'leg', 'willpower', 'WWW.ASJESUS.COM', 'BOX42WR29C,', '15:26,', 'fund', 'moby', 'brief', 'try,', 'Ofcourse', 'operate', 'time?)', 'kerala', 'MILLIONS', 'Yesterday', 'ah...gee..', '08706091795.', 'welp?', 'buddys.', 'threats', 'them...', 'nichols', 'sake?!', 'blimey,', 'advisors', 'narcotics', 'calling!', 'GOTTA', 'korean', 'hopeing', 'ago,', 'rhode', 'Minimum', '-NO', 'asap?', 'lastest', 'swoop.', 'fgkslpo', 'replied:', 'lot..will', 'liao?', 'type..lyk', '391784.', 'OUTL8R', 'BOATIN', 'company?', '3UZ.', 'vitamin', 'pile', '*BILLING', 'Bx526,', \"vikky..i'm\", 'Hee..', 'rounder:)so', 'East', 'Havent.', 'complementary', 'Squishy', 'SPUN-OUT', 'funny...', 'loosing', 'AL!!!!!!!!!', '3wks.', 'rice.', 'corrct', 'typical', 'getiing', 'closes', 'Buzzzz!', 'had..ya', 'DEFO', 'intention', 'steed', 'inshah', 'PoBox202', 'cloud', 'shake', 'at/your', 'prince', 'Piggy,', 'Babe?', 'pause', 'chickened', 'we\\x89Û÷ll', 'problems.', '0870753331018+', 'alone\\\\\"\"', 'planned,', 'officer', 'Remembrs', 'Props?', 'Gudni8', 'chex', 'Better.', 'lessons..', 'doinat', '3030', 'tai', 'Darren...', 'dodda', '*smacks', 'cast', 'Crucify', 'Yep.', 'Reaction', 'station.', '*snuggles', 'blown', 'carryin', 'these.', 'portege', 'pressies', 'Allo!', 'MYSELF', 'Eckankar', 'Shoul', 'word:COLLECT', 'dat?', 'OVERDOSE', 'ROSES', 'WinnersClub', 'change,', 'cme', '2.naughty', '420', 'pendent?', 'curtsey?', 'ger', 'video.', 'G,', 'prospects.', 'MobStoreQuiz10ppm', 'Reference', 'Geoenvironmental', 'admit', 'notes', 'Cool', 'tor', 'camcorder.', 'thangam', 'tea/coffee?', 'fluids', '118p/msg', 'Dvd', 'cookies', 'approaches', '150p/rcvd', 'Gee,later', 'kano', 'skype,', 'caps.', 'oblisingately', '80122300p/wk', 'July.', 'alwa....!!:)', 'Taka', \"That'll\", 'hurt,', 'you,so', 'remove.', 'wetherspoons?', 'James.', 'Kindly', 'he.', 'En', 'drunk', 'venaam..', 'insects', 'diet', 'multis.', 'conform', 'answered', 'nb...', '4-Pavanaputra', 'tram.', 'activate,', '4.15', 'street,shall', 'shadow.', 'juliana.', 'PARK', 'fidalfication?', '087018728737,', '7.30ish?', 'drug.', 'SONY', 'ANS', 'ringtones,', 'fedex', 'draws!', 'donyt', 'mre', 'Beerage?', 'hee', 'bomb', 'references..', 'lots.', 'will!', 'overemphasise.or', 'friendships', 'receipts\\x89ÛÓwell', 'bath:-)', 'Die', 'ridden', 'practical', 'Gain', 'crisis', 'mall?', 'tuth', '255.', 'phonebook', 'would,', 'survey...', 'TISSCO,Tayseer.', 'free..', 'sound...', 'kuch', 'POLY#', 'tea?', 'nattil', 'diesel', 'Haiyoh...', 'Care..:-)', 'lists.', 'good:)when', 'latests', 'understand\"', 'Txt250.com', 'mising', 'Muhommad,', 'ecstasy?', 'collected', 'snake.', 'Dial', '3680.Offer', 'Now?', 'daywith', 'Sympathetic', 'g?', 'Him', 'Hockey.', 'stereo', 'know..wait', 'mint!', 'loan?', '40mph.', 'applyed', 'babes.', 'bother.', 'nosh', 'plz.', '.lovable.', 'Junna', 'unconvinced', 'rocks...', 'that.dont', 'yoga...', 'sponsors', \"thangam.it's\", 'milta,Zindgi', 'Carry', '5+3+2=', ';-)', 'point,', 'hlday', 'meaningless', 'somethin.', 'EVONE', 'alcohol?', 'want2come.', 'hooked', 'sad.', 'moneY...as', 'in!!', 'BIG', 'tongued', 'fridays', 'BOX420.', 'shit,', 'part.', 'issue.', 'Someonone', 'ax', 'spin', 'payment.', 'offered.', 'ah', '6669', 'plate.', 'fantasies.', 'frndsship', 'PoBox75LDNS7', 'wondar', 'pleasure!', \"all's\", 'Other...', 'point!', '09094100151', \"It'll\", 'swimming', \"When're\", 'BORED', 'know:)this', 'nothing,', 'situation:', 'mth', '09058095201', 'nb.', 'reLation', 'books,', 'aunty', 'locks', 'film:)', 'unsold.mike', 'Map..', 'Pin', 'abuse???', 'Evry', 'isComing', 'listener', 'freak!', 'Woke', 'URFEELING', 'Prayrs..', 'machines', 'secretary', 'lifeis', 'chikku..going', 'Says', 'uni', 'voice', '09050000878.', 'POBox84,', 'account,', 'sometme', 'chile,', 'Woodland', 'max.', 'coupla', 'measure.', 'invoices', 'cant.', 'reppurcussions.', 'ILEAVE', 'love!!', 'price.', 'Hmm...my', 'ennal', 'Norcorp', 'Regards.', 'WITHOUT', 'easier.', 'WANNATELL', 'Thing', 'together!', 'sar', 'tough,', 'call09050000327.', 'carpark.', 'nuerologist.', '08452810071', 'xxx.', 'opportunity.all', 'ams', 'freely,', 'sumthin!', 'surprise!', '\\\\SYMPTOMS\\\\\"', 'boston.', '85233', 'five.', 'rofl', 'specify', 'signing', 'it.may', 'disasters', 'rule.', 'WHICH', '2nite!.', 'natwest.', 'grown', 'JEN', 'ok.,', 'keep.', 'dobby', 'wake.', 'profile', 'myself.', 'GoldDigger', 'significance?', '07815296484', 'nitz...', 'time.you', 'bus..', 'practical.', 'england?', 'name.my', 'IMAT', 'them?', 'hopeful...', 'Really?', '151.', 'Starting', 'Oh!', 'INC', 'gandhipuram', 'Devils', 'TONES!Reply', 'off:-)', 'soc...', 'HCL', 'stuffed', 'opened', 'phasing', 'Babes', 'Wah', 'GONE(U', 'anjie!', 'urself:-(', '2-Bajarangabali', 'hurt...:-)', 'Appt', '08715705022', 'ganesh', '08717895698', 'H*', 'rocks', 'me:', 'thought-', 'guitar', 'bus?', 'BBDELUXE', 'voice.....', \"didn't.\", '*wicked', 'requests.', 'familiar', 'Head', 'pehle', 'unsubscribed', 'pubs', 'monkey', 'info@ringtoneking.co.uk', 'virgin', 'da:)nalla', '2006', '08715203694', 'Schools', 'cared', '1Winawk!', 'MR!ur', 'GOODNITE', 'hostel?', 'TRUE:', 'novelty', 'priority', 'mufti', 'evaluation', 'option!', 'workAnd', '08715203677', 'details..i', 'compensation', 'Holder', 'langport?', 'stool.', 'repeating', 'papa', 'office?', 'forums', 'hun!', 'was.', 'returning', 'figuring', 'HAVIN', 'jaklin', 'flute', \"child's\", 'sitter', 'lovers...', 'speaking', 'Dom', 'answers.', 'doggin', \"me?'\", 'early.', 'her.she', 'flowers', 'quizzes', 'Alfie', 'SmartCall', 'phd,', 'K..k..any', 'angels', 'x.', 'resubbing', 'series.', 'www.ldew.com', 'bari', 'SCOTLAND', 'K..u', 'Noooooooo', 'round,', 'replacing.', '08718738034.', '9!', 'Join.', 'bruv,', 'Doll..:-D;-),', 'doctor?', 'lido?', 'Jamster!Get', 'aid', 'dick!', 'learned', 'blur...', 'still,', 'Aaniye', 'Surly', 'CHEERED', '7WS.', 'clearly', 'pract', 'Laugh..', 'dooms.', 'earlier-we', 'suffers', '08715500022', 'pm)', 'throat.', 'bat:)', '+GET', 'xy?', 'moseley', 'second.', 'costs,', 'messages-Text', '69101.', 'june..', 'concentration', '0721072', '09090204448', 'shove', 'disconnected', '1Apple/Day=No', 'mutai', 'twelve!', '\\\\YEH', 'Henry', 'Chance', 'stop...', 'decision', 'piss', 'Crab', 'clip', 'http://tms.', '80062.', '(100p/SMS)', 'burial.', 'SCARY', 'Chk', 'well!i', 'stopCost', 'PoBox12n146tf15', 'Sweetheart,', 'debating', 'life!?This', 'unconditionally', 'Hrishi.', 'Bugis', 'time..:-)', 'sunday?', 'go..', 'toilet', 'somewhereSomeone', 'flies', 'å£71.', 'operator.', ':)all', 'arise,', 'HOME.', 'luck.', 'manky', 'eating.', 'negative', 'tips', 'ACTUALLY', 'Nickey', 'appointment.', 'Staff', 'erupt,', 'animation', 'Pl', 'although', 'info!', 'lifting', 'mindset.believe', '\\\\The', 'Q?', 'weekdays', 'plan!', 'alive....', 'diet?', 'pple...', 'guess,', 'bud,', 'best?rply', 'Bbq', 'Ujhhhhhhh', 'it.or', '\\\\Si.como', 'Cutter.', 'sms.shsex.netUN', 'weird,', 'joking.,', 'letter.', '6.romantic', 'cappuccino*', 'GBP1.50/week', 'roles', 'Okie,', 'tool?', 'suggestions?', 'refreshed', 'meal.', 'boyfriend', 'BACKWARDS)', 'Loads', 'Remembered', 'HOUSE', '08718726970', 'Patrick', 'BETTER', '4uTxt', 'mack', 'faded', 'E.G.23F.', 'heap.', 'forgiveness?\\\\\"', 'studies', '***************', 'leave...', 'few\\\\\"', 'realizes', 'ages,', '24th', 'helen', 'Arngd', 'SUE', 'us..', '+å£400', 'hamper!!!', 'notifications,', 'interesting.', 'green,', 'RememberI', 'BangBabes', 'å£750', 'Helen,', 'XXXXXX', 'edukkukayee', 'benefits.', 'boggy', 'call2optout/HF8', 'NOTHING!!', 'today...!', 'packing', 'browser', 'roger.', 'pears', 'logoff', 'dreams.', 'organise', 'stressed', 'adress?\\\\\"\"', 'tues', 'deluxe', '25.', 'me!;', 'Interflora', 'lover!', 'scorable', 'Macedonia', 'elsewhere', 'secrets.', 'facebook,', 'cumin', 'planned.', 'punto.', 'scrappy.', 'senrd-dnot', 'thrown', 'K:)k.are', 'consent', 'iPOD', 'ME!!', 'reason..', 'e.g.23G.', 'please....', 'blocked', 'banter', 'ah.the', 'when...', 'library?', 'Anything...', 'affidavit', '505060', 'shit.', 'LONGER', '2MORO', '09090900040', 'barcelona.', 'dha', 'in.our', '\\\\OH', 'burn,', 'TALKING', 'you?how', 'endowed.', 'thnk.', 'tone.', 'touched...', 'rinu', 'who.', 'relocate.', 'Yelow;i', '6ZF', 'DONATE', 'hittng', 'die...', 'thurs...', 'bend', '8+6+3=', 'padhe.g.m.\\\\\"\"', 'glo', 'cons...', 'Lancaster,', 'longer.', 'allday!', 'detail', 'str*', 'KNACKERED', \"åÒIt's\", 'iccha', 'evey', 'bcum', '\\\\CHA', 'appointments', 'Ldn,', 'id.convey', 'coulda', 'olympics.', '5.15pm', 'Sending', 'deer', 'chosen', '=Twelve', 'de.am', 'stunning.', 'immunisation', 'staff', 'haf...', 'landing', 'University', 'Drink', 'park...', 'makiing', 'Armand', 'adds', 'hum', 'uv', 'TheMob', 'jaykwon', 'Birthday?', 'christmassy', 'Warm', 'Subscriptn3gbp/wk', 'fold', 'volcanoes', 'hands..', 'reserved', 'Salam', 'pub/cafe', 'unbelievable', 'lotz', 'out..', 'ola?', 'stick', 'http://doit.', 'stuff--why', 'transcribing.', 'CustCare:08718720201.', '&lt;EMAIL&gt;', 'pants.', 'DOGBREATH?', '4w', 'POBox365O4W45WQ', 'kissing!', 'varma', 'SUZY', 'opted', 'GR8FUN', 'Although', 'SMS,', 'too.pray', 'school?', 'Atlast', 'FUNNY!', 'HARD', 'else...', 'stairs', '8000930705', 'sayin', 'people!\\\\\"', '$50', 'voucher.', 'now!nyt.', 'reminded', 'blessings', 'Wylie', 'preponed', 'greatly', 'PASS', 'Roger?', 'stuffs.', 'kent', 'chez', 'Karaoke', 'through.', 'everywhere...', 'finding', '087187272008', ':-):):-):-):-).', 'highest', 'enemy..', 'UP!', 'Same,', 'ticket,', 'gal-can', 'Hoping', 'ni8..swt', 'come:)i', 'iter', 'GSOH?', 'friendship:-)', 'ex?', 'MUCH!!I', 'decorating)', 'tallahassee', 'babies', 'Hiya.', '83355', 'pocy', '09050000332', 'time.Your', '177', 'buyers.', \"armand's\", 'HONI\\\\\"\"', 'Ctargg.', 'Leaving', 'help,', 'renewal', 'nails', 'Food', 'SHIT.JUSTFOUND', '528', 'box245c2150pm', 'Woo', '2WT', 'sleeps', 'exist,', 'words....', 'Ola', 'RECD', 'lor...We', 'visa', 'breeze...', 'CUM', 'Hogolo', 'jamster.co.uk!', 'relation', 'Cps', 'nite!', '09099726429', 'INTO', 'transferred', '\\\\SHIT', 'alot', \"pa'\", 'jet', 'also.or', '88600.', 'carlin', 'page...', 'epi,', 'Desires...,', '2,', 'worms', 'dusk', 'performance', 'convince', 'elephant', 'costumes.', 'TheDailyDraw)', '2hrs.', 'toking', 'www.txt43.com', 'thanx!', 'hee.', 'Velly', 'pleasure...', 'side,', 'nvm,', 'record:)', 'witot', 'spaces.', 'sry', 'Usf', 'chatting', 'suddenly', 'MFL', '450p', 'back...', 'clock', 'olowoyey@', 'Buffy.', '\\\\Life', '08719899217', 'uworld', 'western', 'esplanade?', 'Jon,', 'iouri,', '(No', 'Subscription', 'merry', 'comuk.220cm2', 'sun0819', 'beautiful,May', 'inner', 'Celebrated', 'showers', 'talent?', 'sun?', 'upset.', 'finance.', 'philosophical', 'Bognor', 'ar.', 'asked:', 'ramen', '3-Maruti', 'srs', 'å£50award.', '8.Lovable', 'mind?', 'First-', '09066358361', 'dogg', 'muht', '07801543489', 'karnan', 'ore', 'wrongly', 'JAZ', 'soil..', 'hitter.anyway', 're-send.', 'creative.', 'havent...', 'rawring', 'BEAUTIFUL', 'LKPOBOX177HP51FL', 'clean...', 'efficient...', 'fond', 'Name', 'JULY', '*laughs*\"', '&SAM', 'AGAIN', 'chastity', 'wrote.', 'Pls.i', 'religiously.', 'BABY!HOPE', 'ambitious.', 'LookAtMe!:', 'drama', 'printing', 'reality', 'sorts', 'approaching.', 'ORANGE', 'hon', 'S89.', 'TONITE', 'Heroes,', '..will', 'somewhat', 'winds', '13/4/04.', 'dessert.', 'hon!', 'Requests', 'rules', 'wat,', 'friday?', 'elsewhere.', 'lap', 'Dileep.thank', 'check,', '82324.', 'wishlist', 'Christmas!Merry', 'persons..\\\\\"', 'STATION.', 'weaknesses', 'strings', 'haven', 'woozles', 'seemed.', 'Try:WALES,', 'Pete,is', 'Such', 'gibbs.', \"Black;i'm\", 'Ive', 'james', 'Everybody', 'freaking', 'E-namous.', 'associate.', 'spys', 'repent', 'ttyl', 'Idk', 'boobs.', 'weaseling', 'before,', '\\\\get', 'cancel,', 'computer?', 'strips', 'sexy!!', 'wondering,', 'Orange;i', '07XXXXXXXXX', 'ashwini', 'tonite?', 'say.', '09065989182', 'buy?', 'Uh,', 'hall', 'Oi', 'FONE,', \"Carlos'll\", 'especially.', ':-)please', 'Cbe', 'somethin...', 'answer:', 'THERE.', 'coaxing', '08701752560.', 'cum?', 'too.Lets', 'process.', 'fault.', 'pay?', 'Funny', 'hun', '02085076972', 'today.\\\\\":-)\"', 'la.', 'dey,hope', 'DAS', 'watched', 'dabbles', 'plaid', 'team..', 'Really...', 'edition...', 'vilikkam....t', 'Aah!', 'JUSWOKE', 'BANG', 'RTO', 'slippery', 'THEMOB', 'baller.', 'STAPATI', 'kalaachutaarama..!!', 'hail', '8am', 'fulfil', 'canceled,', 'dating?', 'dat..', 'lamp,', '449050000301', 'Rajitha', 'fireplace.', 'dream.', 'bird!', 'tomorrow.....!', 'lips', 'cliffs', 'bac', 'grab', 'replying.', 'division,', 'place.No', 'vale', 'adjustable,', 'responsibilities.', 'born', '\\\\\"the', 'off:)', 'only:)', 'running.lets', '07808726822', \"Quote''\", 'Row/W1j6HL', 'hp,', 'MUMS', 'fallen', 'scary', 'ANNIE', '2StopTx', 'crickiting', 'mt..', 'useless', 'you?when', 'rounds', 'bcaz', 'both!', 'shrink', 'BREAK', 'save.', 'bandages', 'BATH.', 'Mom', 'Hardcore', '7.30', 'moms', 'tgxxrz', 'treacle?', 'healthy.', 'loud..', '4u.i', 'Iwas+marine&thatåÕs', 'processed...', 'wheellock?', 'removed', 'chennai:)because', 'sang', 'excuses', 'fooled', 'me?Are', 'meaningful', 'presnts', 'da.i', 'Mandy', 'listening2the', 'cust', 'THO!', 'PROBLEM.', ';).', 'goodies!', 'parties...', 'Raviyog', 'Loans', 'tone!', 'Baaaaaaaabe!', 'asthma', 'Nokia/150p', 'that..', 'silly', 'anonymous', 'Enjoy,', \"bloke's\", 'happier', 'sundayish,', 'batchlor', 'same..', 'Queen,', 'Flirt!!', 'Poly/200p', 'Haha...take', '09066362220', 'INSTEAD!', 'nt.swt', 'mundhe', '08714712379', 'sore.', 'pretsovru', 'dokey', 'Bergkamp', 'idc', 'confused', 'wrking', 'Heehee', 'T-Mobile.', 'Moon', 'MINI!!!!', ':-):-)', 'FIFTEEN', 'Shant', 'CHEERS', 'elsewhere?', 'Baaaaabe!', 'digital', 'little.', '4txt/Ì¼1.20', 'spacebucks', 'jp', 'tiempo', ':)why', '1st?', 'maps', 'informed.Rgds,Rakhesh,Kerala.', 'Shoranur', 'Hmmm:)how', 'Sindu', 'Hungry', 'slave,', 'lane.', 'Cute', 'li', 'petrol', 'gotto', 'NETHING', 'sufficient', 'L-oveable.', 'DISCOUNT', 'Sure!', '\\\\how', 'SK38XH.', 'BROKE', 'nose', 'clue,', 'Bloody', 'nurses', 'nannys', 'amigos', 'Shijutta...........', 'bw', 'numbers.', 'c,', 'lt', 'gals..', 'jeans...', 'frnd,', 'fraction', 'dying', 'burgundy', 'flower...', 'Derp.', 'singapore', 'Nvm...', 'also..', 'Ha.', 'Eyed-Dont', 'hont.', 'diamonds', 'How...', 'Anyone', 'halla', 'your\"', 'READ', 'waliking', 'scrumptious...', 'boughtåÓbraindanceåÓa', 'wined', 'qi...', 'kidding,', 'fans', 'Gam', '-msg', 'Mallika', 'mnth', 'ad.', 'Strip', 'TONIGHT?', 'hurts.', 'thanks...', 'buttons', 'YET?', 'Jordan,', 'K61.', 'clock,', 'Natalie', 'goverment', '\\\\\"How', 'maniac?', 'hear,', '7oz.', 'money!!!', 'sending.', 'fro', 'queen.', 'elama', '9YT', '\\\\smokes', 'TBS/PERSOLVO.', 'morning:)', 'Peaceful', 'cloth', 'verifying', 'Eve?', 'watchin', 'toyota', 'donate', 'å£500.', 'HTTP://WWW.URAWINNER.COM', 'think???', 'payback.', 'website?', \"Wherre's\", 'ghodbandar', 'sian', 'agree.', 'Soup', 'stuff?', 'J!', 'BLOKE', 'mo,', 'swt.', 'DOIN?', '09064017295', '09058097189', 'ENTER.', 'meow:-D', 'vid', 'solved!', '44', 'Headset', 'weds', \"knee's*\", 'shrub', 'wld', 'ice.', '97N7QP,', '6-Ramaduth', 'monday...', 'DUE', 'yah...', 'sooner.', 'Onam', 'HARDCORE', 'already..sabarish', 'SHEFFIELD!', 'annie!', 'EAT', 'prsn', 'Misplaced', 'lucky;)', 'Yes.mum', 'chechi', \"U're\", 'Yes...', 'always?', '09066660100', 'cozy.', 'club,', 'hyde', 'getsleep', ':)going', 'ass*', 'Dizzee', 'hard...', 'fone...', 'escalator...', '09058091870', 'Map', 'box403', 'Haha..', 'attempt.', 'UP+NOT', 'Happy?', 'guesses', 'infections', 'Friday.', 'attributed', 'enuff', 'accordin', 'reflex', '08701213186.', 'net..no', 'veggie', 'CAME!', 'warming', '87077:', 'anyone?', 'WAY2SMS.COM', 'lark.', 'cumming', 'L8TR', 'Teacher', 'Order,', 'parts?', 'AINT', 'drms.take', 'those!', 'Nights.', 'SI', 'QUITEAMUZING', \"S.i'm\", \"leona's\", 'laundry', 'unintentional.', \"g's\", \"c's\", 'daytime', 'rest,Wish', 'occur', 'okay...', 'gain', 'wa.', '09053750005', 'ASKED', 'info@txt82228.co.uk', 'tming', 'drunkard!', 'commercial', 'Mode', '08718723815.', 'weddin', 'JSCO', 'Yoyyooo', 'modl', 'Shop.We', '3.U', 'weekend!', 'gobi', 'steamboat?', 'LOCAXX\\\\\"\"', 'landmark,', 'starer', 'kfc', 'å£5000.00', 'ThatåÕs', 'punishment', 'knees', 'answr.', 'nuclear', 'above', 'irritating.', '.Call', 'Euro', 'Welcome.', 'pple...$700', 'memory', 'us.GET', 'guess...', 'recorded', 'time-hope', 'league', 'babies!', 'scenery', 'drink.pa', 'fine..', 'Luckily', 'leonardo', 'victors', 'ploughing', 'blah...', '2GETHA!', 'DLF', 'least,', 'upset', 'secure', 'avalarr', 'Common.', 's..first', 'Catching', 'toaday', 'revealing', 'robs', 'wondarfull', 'elaborating', 'Caught', 'eshxxxxxxxxxxx', 'happy...', 'partner?', 'Moment', 'gd...', 'ivatte', 'Gn:-)', 'applying,', 'lib', 'feeling..', 'guides', 'Allah,meet', 'INCONVENIENCE', 'Ever.', 'sake', 'player.why', 'gloucesterroad', 'hole,', '(an', 'fourth', 'UIN', 'tomorrow/today?', 'hug..', 'replacement', 'ME.', 'houseful', 'round.', 'years!', 'Guild.', 'reserves', 'darker', 'entire', 'leona?', 'Prabu', 'fault&fed', 'Bob,', 'smart..Though', 'influx', 'plumbing,remixed', 'naked.', 'RP176781.', 'big?', 'windows,', '\\\\ALRITE', 'pole.', 'Ltd.å£1,50/Mtmsgrcvd18+', 'problum', 'Yes:)from', 'sha.', 'bus8,22,65,61,66,382.', 'Cheers.', 'part..', 'Reminder:', 'HAS', 'Jordan', 'butting', 'Help:', 'yet)', \"28thFeb.T&C's\", 'mus', '....photoshop', 'charged@150p/msg.2', 'beer', 'MONO#', 'SOMETHING?', 'buying...', 'with:', 'xt', 'be.', 'ar', 'luck.2', 'first..', 'Bill', 'expired', 'www.Applausestore.com', 'bawling', '3MOBILE', 'there.xx', 'appendix', 'Boys.', 'Camera/Video', 'whereare', 'punish', 'mails.', 'skateboarding', 'mine&all', 'cosign', \"fren's\", '08719899230', '\\\\\"oh\\\\\"\"', 'Huh...', 'complexities', 'strange.', 'astoundingly', 'oath', 'brighten', 'Centre', 'shop..', 'Ummma.will', 'Questions:', 'prediction.', 'å£5000,', 'Gsex', 'PoBox12n146tf150p', 'closingdate04/09/02', 'Contact', '(å£4.50)', 'Shahjahan', 'matra', 'MUCHXXLOVE', 'change.', 'SOUNDING', 'pride.', 'naughty...', 'ENTRY', 'blanket', 'smokin', 'topic', 'torrents', 'heart-', 'REVISION?', 'YMCA', 'Mah', 'understanding.', 'Mittelschmertz.', 'dialogue', 'TXTAUCTION.', 'Maretare', 'keypad.', 'floating', 'MARCH', '83435.', 'Affections...&amp;', 'de:-)', 'Know', 'pulls', 'gauge', 'feb-april', 'loverboy.', 'outdoors.', 'baby,', 'MSGS', 'opps,', 'MISSIN', 'free!', 'XXXX.\\\\\"\"', 'everyday', 'outreach.', 'JAN', 'gd.', 'FIZZ.', 'bit.', 'wrenching', 'Hmmm.still', 'bullshit', 'August.', 'describe', 'imp', '8th?', \"B'tooth*.\", 'IG11', '448712404000>Please', 'thinking.', 'craving', '-The', 'percent', '08712402902', 'me.........', 'honey.', 'RITE.', 'evry1', 'inches...', 'senthil.hsbc', 'comfey;', '08717509990', 'QUITE', 'ask.', 'ENC', '*whispers*', 'don,t', 'sculpture', 'area?', 'claire', 'skyving', 'No:83355!', 'u....', 'process', 'maaaan', 'Hmm...', 'chiong', 'lunch:)you', 'subscribers', 'mina?', 'starve', 'mns', 'engagement', 'goods.', 'messenger.', 'ofice', 'RV', 'screamed', 'YEST', ':-)keep', \"'HEART'...\", 'ass!!', 'Christians', 'skins', 'ill?', 'pussy!', 'wc1n3xx', 'smoked', '32000', 'GORGEOUS', 'selected.', 'wks', 'SEE..NO', 'risk', 'hands!', 'sochte', 'prasad.', 'any,', 'AM.', 'Dependable', 'season.', 'me.Remove', 'habit..', 'thk.', 'Sold', 'ME...', 'drinkin', 'rubber', 'june.', 'her.will', 'WEEK.', 'rhythm', 'accessible.', 'Em,', 'unusual', 'hanger', ':zed', 'available.they', 'splash', 'Declare', 'OJA', 'soiree', 'islands,', 'THNQ', 'SLO(4msgs)', '3days', 'concert?', 'jules', 'scouse', 'selected?', 'two!', 'SkillGame,1Winaweek,', 'www.SMS.ac/u/hmmross', 'Whatever,', 'SPECIALE', 'parchi', 'Nigh', 'particularly', 'Jones!', 'unintentionally', 'parents.:)i', 'lightly,', '\\\\usf', 'Whenevr..', 'Leaf/Day=No', 'Inform', 'Hyde', 'HMM', 'margin', '68866.', 'mountain', 'Keris', '3POUND', '21/m', 'Call2OptOut/674&', 'sathya', 'Nw', '0A$NETWORKS', 'atten', 'taxes', 'cheery', 'jam,', 'route', 'beatings', 'supports', 'prices', 'oredi..', 'pending.', '08717205546', 'bless!', 'terms.', 'ogunrinde,', 'secretary,', 'no>', '08707500020', '7am', 'sooo', 'SLEPT', 'ovulate.when', 'crore', 'subsequent', 'Sup,', 'rob', 'manege', 'Sunscreen', 'themes?', 'wknd', 'BRISTOL', '80488.', 'Hari-', 'olage', 'wasnåÕt', 'StewartSize:', 'å£1.50/msg', 'Club4', 'STIL', 'jod', 'slower', 'CustCare:08718720201', 'charts', '28/5', 'changed!', 'rs.', \"aunty's\", 'rolled', 'dawns', 'romantic', 'da:-)i', 'w/question.', 'parkin', 'scraped', 'BCoz,I', 'sudn;-(.', 'BluetoothHdset', 'rice,', 'nonetheless.', 'web2mobile', 'so?', 'moan?', 'BTW', 'formally.Pls', 'done/want', 'always,', 'taught', 'flatter', 'arguments', 'is:', 'Flight', 'Polys.', 'projects.', 'wi', 'dead?', 'toshiba', 'woul', 'fundamentals', \"you'ld\", 'ttyl!', 'overa', 'sn', 'daddy...', 'ripped', 'wadebridge.I', 'or2optout/HV9D', 'owed', 'slap', 'drop.', 'money.i', 'errors', 'Garbage', 'B.', '4041', \"derek's\", 'beautiful,', 'ppt150x3+normal', 'ages', 'horse', 'Teresa.', 'Treat', '\\\\\".', 'purchases', 'account..', '8027', 'EVE.', 'ah?what', 'MATCH', 'housing', 'MSG:We', 'Cut', 'SENDS', 'CONTENTION', 'Zebra', 'coins???', 'fones,', 'yor', 'guaranteed!', 'TOMORW.', 'Dear,shall', 'mouth', 'belt,', 'liao...So', 'sea*', 'casing', 'deck', 'Emily', '<UKP>2000', 'November', 'Chikku,', '08717111821', 'Rajnikant', 'caroline', 'definitly', 'live,', 'MOB', 'chuck.:-)', 'bored!', 'night:-)', 'fever,', 'toppoly', 'hire', 'invest', 'car..ente', 'gynae', 'sch?', 'INTERFLORA', 'Printer', 'talks?', 'opponenter', 'only:-)..', 'Urgh,', 'chikku:-):-DB-)', 'ducking', 'computer..', 'Wings', 'speechless.', 'Racal,', 'cantdo', '......forward', 'ros', 'bother,', 'me.I', 'PoBox84', \"Jay's\", 'Loved', 'mone,eppolum', 'amk.', 'tank.', 'wasnt', 'karo', 'R836.', 'settling', 'ccna', 'them!', 'passable.', 'buying?', 'unrecognized.', 'lambda', 'm...', 'Holby?!', '!This', \"'Uptown\", \"espe'll\", 'July', 'sarasota', 'THANX4', '.joker', 'Download', 'cage', 'regard', 'cheers.', 'worse.', 'genes', 'BREATHE1', 'J89.', 'Classic', 'OREOS', '\\\\EY!', 'crazy..', \"tyler's\", 'X49.Your', 'toshiba...', 'twice-', 'hai...', 'batch!', 'Waves', '2optout/D3WV', 't-shirt.', 'da:)urgent:)', 'word.....not', 'taxt', 'chikku:-);-)B-)', 'frwd', 'turkeys.', 'works.', 'coughing', 'HUN!', 'facts', 'beta...', 'poker', 'baby.', 'Prof:????', '\\\\Hello-/@drivby-:0quit', 'curfew.', 'happenin', 'Cashbin.co.uk', 'Please.', '1Lemon/Day=No', 'Yetunde', 'mails', 'one!!', '195', 'smoothly.', 'casting', 'FREE>Ringtone!Reply', 'mins,', 'Diseases', 'categories', '1843.', 'Goal!', '28th', 'split', '\\\\I;m', '7ZS', 'passes', 'really.', 'someday', 'vomitin.', 'HAUGHAIGHGTUJHYGUJ', 'engalnd!', 'signing,', '\\\\julianaland\\\\\"', 'haha...', 'Wotz', 'reltnship..!!', 'album', '89105.', 'www.regalportfolio.co.uk.', '3.Sentiment', 'agents', 'months.', 'drvgsTo', '09065989182.', 'possessiveness', 'radiator!', 'dl', 'exchanged', 'IT.,', 'replies', 'Alrite', 'cinema,', 'out--have', 'B4U', 'rcb.battle', 'number.pls', 'WORRY.', 'sharing', 'UNDERSTaND', 'Host-based', 'comedy..cant', 'qet...', 'online?why?', '8883', 'chikku..simple', 'dieting', 'BabyGoodbye', 'safety', 'musical', 'glad,', 'K:)eng', 'Registered', '2mro', 'eta.', 'wearing?', 'keys?', 'porridge,', 'palm,', '*****', 'Yes..but', 'XXX\\\\\"\"', 'ring...', 'retard', 'penis.', 'Mornings', 'directors.', 'xxxxxxxxxxxxxX', 'noe?', \"idea's?\", 'W1A', '42478', '(More', 'k.its', 'sexual', 'gal...', 'sleep...', 'performed?', 'charlie', 'GAIL', '09065069120', 'ms', 'Mathews', 'Cramps', 'day\\\\\"', 'yetunde', \"is'LOVE'\", \"me:)i'm\", 'Forever', 'http//www.gr8prizes.com', 'pixels,', 'cuddle!', 'reply.Be', 'effect...', 'Syria', 'pending', 'shared', 'Hospital', 'juan', 'SAT', 'PushButton', 'switch', 'mjzgroup.', 'no?', 'toDo', 'str8', 'rows', '09050000460', 'Turns', 'COMPLETELY', 'linear', 'recount', 'someone....that', 'sux', 'characters...', 'pongal.', 'Musta', 'spoilt', 'hides', 'winterstone', 'ill!', 'Fun', 'Lucy', 'S...from', 'disk...you', '2yrs.', 'start.', 'smaller', 'HELLO:\\\\You', 'Yummmm', 'SORTED,BUT', 'JADE', 'win150ppmx3age16', 'logos+musicnews!', 'logging', 'ready.all', 'Number.Respectful', 'Playin', 'tigress...', 'bian', 'Bc', 'notice.', 'okay!', 'Becaus', 'PlanetTalkInstant.com', 'flippin', 'sathya.', 'enemies', 'orchard.', 'advance..', 'should.', 'Stop?txt', 'CustomerCare', 'Yo!', 'uup', 'Pie', 'madam', 'These..', 'again:)', 'Painful', 'Ashley', 'Stop?', '..i', 'only..', 'Limited', '08712402578', 'Itna', 'luks', 'kittum', 'BAK!', 'Reminding', 'bugis.', 'rdy', 'SHAME', 'happy!', '4*Lux', '0089(my', 'forever....', '8lb', 'days.so', 'DAYS.', 'Dirty', '1hr.', 'pa..', 'lifted', \"UNICEF's\", 'there.goodnight', 'census.', \"FR'NDSHIP\", 'molested&someone', 'cheyyamo?and', 'ahead:', 'Sugar', 'Kaiez,', 'song..:-)', 'adsense', 'oga.', 'laugh?', 'necesity', '7.30.', 'ga.', 'babyjontet!', 'nÌÂte?', 'Esplanade', 'salary.', 'CARLIE', 'Yavnt', '84484', 'pre-book', 'toughest', 'babysitting', 'RED', 'PoBox1,', 'Beth', 'repairs', '130.', 'you...money', 'SERVs', 'Gr8.', 'merely', '!:-)', 'paper?', 'k.wish', 'afford', '(150p/SMS)', 'Shb', 'k.good', '526,', 'fine:)', 'worry...use', 'Concentrate', 'job..', 'bitch..........', 'line:', 'recharge.', 'resolved,', 'life?', 'romantic!', 'TEXTS!', 'kodthini!', 'energy.', '4-7/12.', 'yest?', 'Flag', 'surya', 'get!', 'roads.', \"80's\", '30s', 'method', 'much...', '\\\\Getting', 'thinl', 'Anything!', 'evng.', 'Stylist', 'waves', 'velachery:)', '300p.', 'cheetos', '18/11/04', 'Wewa', 'INTERVIW', 'recharged', 'NR31', '09061702893.', 'Shopping?', 'ovarian', 'units', 'nobbing', 'Doctor', 'careless.', 'tp', 'GRAVEL', 'plans?', 'semester?', 'firefox.', 'pretty.', 'LOVE?:-|', 'vague.', 'invention', 'stage', 'cruisin', 'v.tired', 'bash', 'warned', 'records.', 'gravy.', 'help:08700469649.', 'STILL', '3xå£150pw', 'Full', 'ammo', 'Ache', 'queen?', 'massage....tie-pos', '84122', 'configure', 'argh', 'gray,', 'legal.', 'TaKe', 'cold.', 'Test', 'dear..\"', 'multimedia', 'end?', 'Kothi', 'tohar', 'V-aluable.', 'provider', 'breaking', 'cooked', 'iphone', '27/03', 'YEARS', 'i\\x89Û÷ll', 'elections', 'Umma', 'EXAMS', '09111032124', '69988', 'dad.', 'lage.', 'rs..i', 'NOTHING', 'convincing.', 'perspective', 'week.:/', 'tron.', 'TOWN.DONTMATTER', 'LIKING.BE', 'window:-)', 'Ugadi', 'album.', 'education', 'da..jst', 'AROUND!', 'evil', \"shade's\", 'PARENTS', '\\\\ADP\\\\\"\"', 'problems?', 'fire', 'iåÕd', 'courtroom', 'tuesday', 'hide', 'tv...', 'nordstrom', 'Tuesday.', '@kiosk.', 'ertini', 'ovr', \"Hi'\", 'mary', 'slurp!', 'shindig', '(getting', 'Bam', 'Innocent', 'Truro', 'flash.', 'pizza...', 'Green;i', 'life.you', \"ashley's\", 'read...', 'available!', 'helens', '69911(å£1.50p.', 'BABE.SOZI', 'trebles!', 'slice.', 'invited?', 'Twittering', 'alibi.', 'fired?', 'ho!', 'STARS', 'va?i', 'MAN!', 'permission.', 'inconvenient', 'belong', 'play!!', 'paining', '\\\\Response\\\\\"', 'now?:)', 'exercise,', 'cookies.', 'fault&al', 'call09050000327', '0121', '(29/M)', 'cut?', 'day:)except', 'Sday', 'Wondering', 'roads', 'Salad', 'Waqt', 'Cribbs', 'THING', '(I', 'Hey!!!', '09058097218', 'reaction', 'staff.science.nus.edu.sg/~phyhcmk/teaching/pc1323', 'september', 'Hero,i', 'stocked', 'crushes..!!!;-)', 'dull', 'starting.', 'animal!', 'adventure?', 'Guys', 'Yummy', \"basket's\", 'sunshine.', 'sexy...', 'Can?', '\\\\Hurt', 'Dizzamn,', 'chords', 'Ref:9280114', 'Kath.', 'love:', 'enuff..', 'siguviri', 'holder', 'Oyea.', 'worrying', 'u!xxxx', 'links', 'stability', 'Ben', 'jiayin.', 'fine.Inshah', 'yeovil', 'Yay!', 'reminding', '(come', 'decision?', 'details!', 'callback', '09099726481', 'loud', 'only.don', 'care!', 'prepared', 'shy!', 'sophas', 'overheating', 'breathing', 'folks', 'ceiling.', 'lyk', 'www.phb1.com', 'sudden', 'sleepy', 'plural', 'Gotta', 'types', '330.', 'somerset...', 'n8', 'K718.', 'brum!', 'and/or', 'worthless', \"table's\", 'THAN', 'yam', '945+', 'domain', 'W4', 'hillsborough', 'transfred', 'erotic', 'syllabus', 'Goodnight', 'thing....how', 'fine.,', 'bad,', 'goodnight', 'Pls:-)', 'ideas?', 'you!To', 'effect', '.irritating', 'redeemable', 'down:)', 'Pandy', 'Daddy,', 'roller', 'bit?', 'morphine.', 'relationship.....its', 'cysts.', 'WRK!\\\\\"\"', 'gained', 'unhappiness!', 'lovly..', 'å£1.50pmmorefrommobile2Bremoved-MobyPOBox734LS27YF', '7+2+5=?????', 'Single?', 'English', 'samantha', 'includes', '67441233', 'ettans', 'drugdealer', 'bsn', 'Till', 'Hol', 'hostile', 'ignoring', 'imagination..My', 'Me,', 'Bennys', 'gd&the', 'SEXYCHAT', 'inpersonation', 'Ee', '2day!', 'belovd', 'algorithms', 'Callså£1/minMobsmore', '3Lions', '09058095107', 'asap.ok', 'parish', 'STUDENTFINANCIAL', 'Brown;i', 'Married', 'POST,', 'shorts...', 'Swayze', 'wrk,', 'tel,', 'Hmmm,', 'mean.', 'cinema.', 'WISH', 'ps3', 'driving...', 'Cause', 'Words.Evry', \"see's\", 'miles', 'Ar.Praveesh.', 'late?\\\\\"\"', 'door:)', 'consider', 'nice!', 'realise', 'Lands', 'sayy', '9153.', 'Lil', 'Z', 'ready,', 'hang', 'peaceful', 'EVERY', 'WK', '50%', 'fights.', 'mcat.', 'rushing.', '89693.', 'ipads', 'correct.', 'pushes', 'younger', 'chapter', 'Fifty?', 'newspapers', 'Evenings', 'non', 'gari', '078', 'gossip', 'Apnt', 'on..', 'job,', 'Bishan', 'Become', 'brothas', '\\\\Speak', 'stated', \"I'ma\", 'wthout', 'Panther', 'August', 'exhausted.', ':D', 'lido', 'company!', '0871212025016', 'Sms', 'Tel)', 'gibe', 'maga', 'call.drove', 'K...k...when', 'grams', 'LtdHelpDesk:', 'buyer', 'screwd', 'republic', 'Worth', 'Thank.', 'Thought-', 'mens', 'stupid.', 'dirtiest', 'Anyway.', 'week??', 'Goodmorning,my', 'LOT.', 'MESSED', 'spelled', 'Box1146', 'garage.', 'earning', 'done!', 'xxxxxxx\\\\\"\"', 'anyones', 'pei', 'Boo.', 'X2', 'repeat', 'MEGA', 'lanka?', 'Pink;u', 'youdoing', 'Cttergg.', 'conveying', 'weight', 'LOTS', '09058094454', '88039.SkilGme.TsCs087147403231Winawk!Age16+å£1.50perWKsub', '5.IåÕm', 'friendship:', '3rd?', 'Rgds', '\\\\Pete', 'sugar.', 'small,', 'Bears', 'of,', 'vehicle', 'Mmmm....', 'bucks,', 'allows', 'dled', 'versus', 'nit', 'total', 'Superb', 'knocking', 'Safe', 'flea', 'mins&100txt/mth', 'time..dhoni', '12Mths', 'Dint', 'positions', 'treated', 'someplace,', '08704439680Ts&Cs', '4eva', '0796XXXXXX.', 'high,', 'involved', 'noncomittal', 'DE', \"ÌÏ'll\", 'great,', 'GBP5/month.', 'Boltblue', 'Frankie', 'eating?', 'dreading', 'SOIREE', '09061749602', 'handsomes', 'N-Gage', 'canteen', 'Eve', 'Goodnight,', 'cold..heard', 'CAKE', 'rain.', 'kano..whr', 'dict', 'BUTTHERES', 'bathe...', 'BOUT', '\\\\suppliers\\\\\"', 'hectic', 'G.', 'matter.', 'wet.', 'well!!', 'irulinae', 'Coca-Cola', 'Park!', '(quizclub', 'Exactly.', 'married.', 'ingredients!', 'portal.', 'start?', 'DAN', 'dehydration', 'useful', 'DADS', 'SPEEDCHAT', 'sec?', 'proove', 'bollox', 'closed.', 'Tuesday?', '09066368327', 'stick.', 'carlos,', 'cm', 'Rs.5', 'sittin', 'right,', 'GETTIN', 'Promotion', \"ryan's\", '\\\\Thinking', 'Howda', 'PRICE', 'asa', 'food...', 'ones,', \"there're\", 'outfit.', 'champlaxigating,', 'hussey', '60,400thousad.i', 'counts', 'OTBox', 'VIOLENCE', 'recorder', 'fast!', 'nvm', 'stubborn', 'training:-)', 'Rock', 'sth...', 'fun?', 'Broadband', '1/08/03!', '3750', 'reception', 'Looking', '5years', 'treadmill', 'relieved', 'Ese', 'timin', 'cstore', 'aha:)', 're.', 'lambu', 'seeking', 'Theoretically', 'late:)but', 'stressfull..', 'eveB-).', 'Peace.', '08719181503', 'maths', 'swann', 'upon!', 'hiphop', 'DAY!2', 'Okies...', 'availa', '\\\\\"DRIVE', '09099726553', 'must.', 'albi', 'parachute', 'Dick.', 'tt...', 'home.check', 'Right?', 'uniform?', '10p.', 'MISSY?', 'surrounded', 'LES', 'rimac', 'teeth?if', 'video/pic', 'mist,', 'popping', 'laugh!', 'dear?', 'elaborate', '16+only', '8am.', 'Verify', 'SUMTHIN?xx', '88877', 'dramatic.', 'pen', 'weight!', '[sic]', 'Force.', 'hdd', 'zhong', 'paypal.', 'Saristar', 'STRIKE', 'information,', 'appropriate', 'sitting.', 'Fml', 'MAT', 'Open', 'weapon', 'hospitals', 'pages?', 'BEDROOM!LOVE', '2wks.', 'Chachi', 'anythiing', 'paces,', 'suffer.', 'MF', '10/06/03!', 'Maybe?!', '69669.', 'help?', 'teacher', 'well.you', 'theKingshead', \"'MARRIED'\", 'creativity', 'vargu', 'snickering', 'Yes:)sura', 'online!', 'Chef', 'fox', 'ext.', '4WARD', 'stifled', 'Dan', '150p/meg.', 'phone:)', 'ikea', '150P', 'videosound', 'prayers', '2day.love', 'eerulli', 'CALLIN', 'resent', '8pm.', '*childish', 'United', 'payasam', 'selfish', '08448350055', '300603t&csBCM4235WC1N3XX.callcost150ppmmobilesvary.', 'Christmas...', '2.30ish', 'cute:)', 'logos', 'me....\"', 'airtel', 'transaction?', '430', 'BARMED?', 'uploaded', 'k:)after', \"It'snot\", 'impressed.', 'SLEEPINGWITH,', 'bottom...', 'now!SavaMob-member', 'However', 'fifth', 'LISTEN', '2geva,', '\\\\the', 'ard...Ìä', 'entertaining', 'footprints?', 'dent!', 'signin', 'honest.', 'haul', 'weakness', 'virtual', '*turn*', 'stranger?', 'wad?', 'level', 'discussed', 'chillaxin,', 'port', 'paperwork.', 'though!', 'XXXXX.\\\\\"\"', 'bike?', \"C's.\", 'credit?', '07753741225', 'swt', 'Evn', 'less.', 'sweatter..', 'Date', 'Text:', 'idk', 'support...very', 'need...', 'director', 'Oh:)as', 'dismay', 'cd', 'izzit', \"employer's\", 'completes', 'emigrated', 'motivating', 'late!', 'swollen', 'adding', 'years.', 'thkin', 'poured', \"VALENTINE'S\", 'canname', 'de:-).', 'back..', 'cheesy', 'receipts.', 'mia', 'voice]', 'PLUS', 'doesnåÕt', 'SPORTSx', 'mobs', 'From:', 'lor?', 'fever:)', 'seekers.', 'memorable.', 'digi', 'smash', 'accidant', 'Per', 'cappuccino', '08718727870', 'good...no', 'affectionate', 'tsunamis', 'program.', \"that'd\", 'event', '83110', 'missions', 'keen', 'Unfortunately', 'shite.', 'prix?', 'fats...', 'GAME.', 'avo', 'WOW!', 'Arrow', 'Slaaaaave', 'Studying.', 'Tiwary', 'Sunday', 'rays.', 'mymoby.', 'hair...', 'brilliantly.', 'skirt...', 'now?can', 'gautham', '26.03.05', 'windy.', 'doubles', 'Games,', 'intentions', 'Dozens', 'AXIS', 'blog.', 'helping.', 'apes,', 'jenne.', '\\\\Divorce', 'compromised', 'wasting.', 'drunk!', '\\\\HI', 'Poop.', 'samus', 'weekend!)', 'got.', 'where.', '09064019788', '2nights', 'Ding', 'infections.', 'Oh...i', 'AOM,', 'win:)', 'WINNER!', 'pimples', 'justbeen', 'years,', 'Refused', 'dang!', 'andrews-boy', 'Feeling', '1-month', 'statements', '),', 'rr..', '^', 'abi!', 'S.s:)i', 'durban', 'Smiling', 'dosomething', '3230', 'oscar.', 'phone...', 'ic.', 'Jordan!', 'owl', 'urmom.i', 'jap', 'arm?', '4?', 'figures...', 'grr', 'caveboy', 'tho,so', 'TONEXS', 'together.', 'true..k,Do', 'approved..', 'Hee', 'favourite.', 'best?', 'needy', 'unhappy', 'head,', 'WID', 'K..i', 'weight,', 'irritation.', 'busy...', 'CALLED', 'Tues,', 'advice.', 'beeen', '087123002209am-7pm.', '81303.', 'Ho', 'bhaskar,', \"'That\", 'book?', 'usual...', '83738.', 'kothi', 'destination', '2nite', 'others..', 'OFFICE', 'wicket:)', 'persevered', 'image', 'oil', 'vale...', 'prefer...', 'allalo', 'relation..', 'evaporated', 'intrude', 'frog', 'Pass', '08712402779', 'eve...i', \"'Comfort'\", 'lyricalladie(21/F)', 'only..bettr', 'Either', 'Chart', 'PIX!', 'steering...', 'Promo\"', 'credits!', 'sehwag', 'www.music-trivia.net', 'S:-)if', '69200', 'tm.', 'Credit!', 'GIFTS!!', 'å£1000CALL', 'call2optout/4QF2', 'Erm.', 'Becoz', 'sapna', 'liao...Too', 'pdate_Now', 'feng', 'MMSto', 'those?', 'dem.', 'dancin,', 'Loverboy', 'voice...', 'attending', 'subscribe', 'Working', 'suzy', 'STOPBCM', 'there--', 'husband.', 're-met', 'babe?', '35p.', 'reservations.', 'Girls', 'ding', 'Allah.Rakhesh,', 'prakasam', 'yours!', 'algebra', 'nap..', 'Kingdom.', 'adults', 'K:)all', 'tank', 'laready', 'day,has', 'ANTELOPE', '4...', 'yours,', 'her.my', 'Ya!', 'traveling?', 'share...', 'uneventful', 'BEAUTIFUL,', 'hypotheticalhuagauahahuagahyuhagga', 'placed', 'burden', '1172.', 'weight...', 'squeezed', 'S:)but', 'Siva', 'sell.', 'wisdom', 'CATCH', 'Chloe,', 'AD', 'prepared.', \"cali's\", 'cuddling', '08719180219', 'message?', '1/1', 'today.he', 'movie...', 'area.', 'innocent', 'vikky..', 'bilo', '49557', 'GAS', 'leh,', '08717890890å£1.50', 'FreeMSG', 'what...', '1st...\"', 'chat?Im', 'yelling.', 'Ms.Suman', 'data', 'four,', 'dao', 'stranger!!saw', 'sense.', 'alter', 'strewn', 'braved', 'njan', 'greeting..', 'DEAD', 'roads!RVx', 'comp.ofstuff', '(18+).', 'BCK', 'disappeared,', 'clas..', 'Theyre', 'Akon-Lonely>>>', 'Wah,', 'statement,', '07090298926', \"anjola's\", 'chennai.', 'Oi.', 'Hi..i', 'S..antha', 'hilarious-also', 'Annoying', 'watever', 'person2die', 'news...Hype', 'yogasana?', 'shop--the', 'Mite', 'calicut?', 'Lindsay', '09066368470', 'Soon', 'spontaneously..', 'msg@å£1.50rcvd', 'mode.', 'tonght', '69876.', 'grooved', 'grinule', 'NO-434', 'people,', 'Mathe', 'paying,', 'Lool!', 'movie,', 'USER', 'silence', 'costume.', 'khelate', 'years?', 'dead...', 'Rental?', 'you.thats', 'ok....take', 'Rent', 'CC', 'specialise', 'walk,', 'dehydrated.', '[colour=red]text[/colour]TXTstar', '\\\\\"life', 'KISS', 'times:)lil', 'Match', 'Loooooool', 'THATåÕSCOOL', 'Yeh.', 'select', 'ringtone!', 'wizzle', 'No..few', '\\\\what', 'mtnl', 'first,', 'everyone...', 'outage.', 'style?', 'cornwall.', 'question:', 'deepest', 't', 'BOYF?', 'NO-165', '45', 'tactless', 'tease', 'NUMBER,', '1/2price', 'transfer?acc', 'underdtand', 'exeter', 'Earth...', 'half8th', 'Petey!noiåÕm', 'wk,', 'hungover!', 'HATES', 'Beer-Rs.', 'Kit', 'Dates', 'tomarrow', 'Cali', 'uk', 'MATE!', 'head\\x89Û_', 'CHIT-CHAT', 'Zindgi', 'feed.', 'doke.', 'prin', 'Ultimately', ':-)only', 'gate?', 'uterus.', 'wed.', 'feb.', 'uh,', 'died.', 'writhing', 'ph?', 'WORDS', 'TheMob>Hit', 'brainy', 'arrange.', 'raksha', 'forgiven', 'recognises', '930', 'facilities', 'prone', '...*deep', '40411', 'tablet', 'pleasured', 'NITE!!', 'payment', '\\\\alright', '5/9/03', 'thm', 'infra', 'comes..', 'Stream', 'powerful', 'j', 'Forgets', 'HOUSE?\\\\\"\"', 'Then.', 'texts/weekend', 'quiet.', 'cardiff', 'srt', 'renting', 'Frog-AXEL', 'Bought', 'speling', 'å£5/month', 'really,', 'stripes', 'Gudnite\"', 'pic?', 'complain', 'apologize,', '08715203685', 'der..', 'Avenge', 'RG21', 'citylink', 'atrocious..', '50s?', 'Olol', 'Foned', 'howard', 'enjoy!', 'point?', 'fast.pls', 'needed.Salary', 'nino', 'rude,', 'Aww', 'Thanks,', 'AGAINST', 'cuppa', 'sub,', 'sc.', 'act', \"mei's\", 'am.x', '08712400603', 'answered:', 'trial', 'å£1,500', 'times?', 'Rofl', 'Echo', 'dialling', 'Box61,M60', 'yo-Here', 'badass', 'stress', 'HOLIDAY', 'Flung', 'Deliver', 'goodmate', 'lesser', 'problem...', 'open.', 'leads', 'OURBACKS', 'www.rtf.sphosting.com', 'AGES..RING', 'nightnight', 'Woman', '2years', 'chart', 'www.tkls.com', 'brothers', 'shows...', 'male', 'senor', 'nights...We', 'Ic.', 'cold,', 'www.txt82228.com.', 'predictive', 'swoop', 'physics', 'Youi', 'brats', '(Send', 'Soul', 'Sary', 'groovy.', 'friday.hope', 'Bx', 'price!', '09061743811', 'establish', 'hand:)', 'beside', 'chad', '450pw', 'lmao', 'god.not', 'skye', 'certificate', 'TA', 'Platt', 'built', 'exam.', 'taxi.', 'RANDOM!', 'colours', 'hard.', 'Hmm,', '9ja.', 'tiime', 'wife,', '\\\\GRAN', 'zeros.', 'diwali', 'BIDS', 'account?', 'WEEK+', 'differ', 'SPORT', 'Rayman', 'natural', 'hello-ed', 'smarter', 'announced', 'Pink', 'miiiiiiissssssssss', 'downs', 'pesky', 'two.', '12hours', 'Jen', 'BBD(pooja)', 'ladies.', 'audiitions', 'sore...', 'tryin', '2667', 'fujitsu', 'soul', 'lar..', 'GBP', 'Box334', 'Pansy!', 'TsCs08714740323', '83383.', 'right..', '\\\\GOODMORNING', 'snowball', 'Nothin', 'alright.Okay.', 'combination!', 'opportunity.pls', 'Michael', 'pa:-)', 'reply,', 'token', 'Raining!', 'notixiquating', 'prescription.', 'avenue', 'attention', 'K.k:)when', 'brand?', 'upstairs', \"fuck's\", 'miwa', 'hands', 'work,Love', \"they'll\", 'L8R.\\\\\"\"', 'morning..', 'studying?', '74355', 'accomodate.', 'BLOKES', 'read.', 'conserve', 'www.80488.biz', 'DontCha', 'pages..', 'L8ER', 'ME,', 'MISTAKE.U', 'Sleep', 'TRUBLE', 'alian', 'Ffffffffff.', 'FINEST,', 'univ.', 'boye.', 'cuddling..', 'WILD', 'roomate', 'janarige', 'scary,', 'range.', '(long', 'w1t1jy', 'sneham\\\\\"', 'hills', 'chikku..wat', 'Idea', 'practicum', \"dramastorm's\", '27/6/03.', '150p/tone', 'dub', 'zoom', 'follows,', 'confused...', 'cyclists', '..it', 'URGENT!:', 'frontierville?', 'A.', 'Saeed', 'in:', '09061701444.', 'latelyxxx', 'frosty', '11?', 'Sleep.', 'asia.', 'dismissial', 'thatåÕs', '\\\\Aww', 'GOODEVENING', 'raining?', 'TXTAUCTION', 'word).', ':-/', '6.Cruel', 'anythingtomorrow', \"8'o\", 'virgins', 'u.So', 'XXXXX', 'Lmao!nice', 'reassurance!', 'da..please:)', 'HELL', 'mistakes', 'family...may', 'struggling', 'mylife.', 'AGE,', 'line--you', '\\\\HELLO', 'REGRET', 'beauties', 'toss', 'marandratha.', 'bridge', 'Aberdeen,', 'predicting', 'msg/subscription.', 'harder', 'PLEASSSSSSSEEEEEE', 'coveragd', 'asus', 'cock!', 'chennai?', '*exposes', 'know,yetunde', 'say!', 'numbers,', 'Gosh', 'fml.', 'cheque.', 'colours!', 'chores', '08709501522', 'brownies', 'afterwards.', 'aa', 'praises', 'NBME', 'call2optout=J5Q', \"Hasn't\", 'Sar', 'nitro', 'BY', 'slowly.', 'awkward.', 'TAJ', 'u..if', 'dental', 'Guaranteed', 'dreams..', 'FRANYxxxxx', 'heavy...', 'by?', 'Cab', 'obedient,', \"textin'.\", 'workout', 'jacuzzi', 'garments', 'defer', 'more!', 'da..al', '4the', 'itried2tell', 'tightly.', 'sacked', 'Inever', \"Ken's\", '11.48', 'CALM', 'dr.', 'pick.', 'trishul', 'info@vipclub4u.', 'sambar.life', 'humans', 'dentist.', 'fact:', 'Onum', 'fne', 'amplikater', 'confidence', 'netflix', 'CULDNT', 'seing', 'thriller', 'Genius', 'flurries', 'documents', 'toothpaste', 'surrender', 'tickets.', 'MOMENT', \"something's\", 'evenings', 'deposit', 'unlimited...', 'kaaj', 'K..', 'rugby', 'smile,', '5000', \"'xam...\", 'ones..', 'LOOKIN', 'kind.', 'expects', 'dose', 'package.', '(Career', 'ubi', 'mandara', 'Marvel', 'drops', 'BOYFRIEND.', \"dad's\", 'trash.', 'night\"', 'sooner?', '09065069154', 'no?!listened2the', 'dear,', 'wipro', 'K:)k..its', 'annoncement.', 'costå£3.75max', 'ondu', 'now....', 'MySpace', 'course:)', 'ANYTHING', 'Call.', 'no...', \"Gumby's\", 'april.', 'convincing..just', 'complete.', 'mentioned.tomorrow', 'Beware!', 'ALSO', 'oxygen!', 'deduct', 'card!', 'frndZ', 'å£5', 'lager.', 'Gudnyt', 'decking?', 'administrator', 'suite', 'captain', 'Wasted...', 'chic.', 'CHARGE', 'pimples..even', 'Woohoo!', 'problem-free', 'Smile,D', 'Cold.', 'KING', 'Wet', 'Afternoon', 'away?', 'nte.:-', 'Insha', 'lane', 'Hmmm....', 'flew', 'naseeb', 'eveB-)', 'footbl,crckt..', 'Tom,', 'http://gotbabes.co.uk.', 'NEEDS', 'work...', '-)', 'Goodmorning..', 'himso', 'Toxic', 'fetching', 'Hmmm...k...but', 'beendropping', 'lodge', 'L8r.', 'entertain', 'msn...', 'atm', 'calls!', 'onwards...', 'schools.', 'URGENT,', 'reminder', '24/10/04', '~', 'Bye.', 'cried', 'Mob!', 'Barkleys', 'loans', 'excuses)', 'IWANA', 'irene.ere', '83021.', 'glands', 'renewal.', 'ever!!', '\\\\NONE!NOWHERE', 'Somewhr', 'bother?', \"'IF\", 'Mwahs.', 'Apps', 'S3XY', 'detailed', 'habba..hw', 'sing?', 'BEST', 'alrite.have', 'products', 'everything!', 'appreciated', 'whr', 'call;', 'copies.', 'anything,', 'limping', 'What????', 'local.', 'art?!', 'rent,', 'calling.Forgot', 'laden.', 'ringtones.', 'do.Interested?', 'cme.', 'indeed', 'mushy...', 'mate,', 'Egbon', \"k...i'm\", '07046744435', 'colleg?', 'JANE', 'winning.', 'paragon...', '\\\\VALENTINES', 'post,erode', '(Get', 'hex', '08718725756.', 'finally...', 'M', 'jolly', 'Draw.', 'pilates...', 'HARDEST', 'Sullivan', '08701237397', 'china.', 'law,', 'Welcome!', 'luvd:*', 'rhythm.', 'thesis', 'stagwood', 'AUGUST!', 'started.india', 'NITE', 'sextextuk.com', 'DOES', 'throwin', 'Isaiah.=D', 'tiz', 'perf?', 'VPOD', 'youPhone', 'up!had', 'Awesome', 'afghanistan.', 'finish.', 'WRLD.', 'FreeMsg>FAV', 'eatin,', 'iron', 'nowadays:)lot', 'rajas', 'problem,', 'reach?', 'graduated', 'BORN.PLEASE', 'renewed', 'Unsecured?', 'ish', 'managed.', 'inlude', 'phone!!', 'anyway...', 'Second-', '1680,', 'cardin', 'AFEW', 'nammanna', 'Blank.', \"hw'd\", 'tea.', 'map', 'shoes', 'Grumpy', 'opposed', \"YOU'RE\", 'Fresh', 'pump', 'chance.', 'workin.', 'store.like', 'gut', 'ANAL', 'hard!', 'bears,', 'cough', 'unconsciously', '09063442151', 'obese.', 'Honestly', 'SAT.LOVE', 'oyster...', 'Sen', 'california', \"treatin'\", 'telugu..thts', 'b,', 'somone', 'mean,', 'sheet', 'IåÕve', 'condition..and', '08712460324(nat', 'Staying', 'URGENT.', 'drinkin,', 'privacy', 'Diwali', 'way&this', 'Que', 'postal', 'Yeesh', 'corporation', '85222', 'Hotel', '7.30pm', 'Aka', 'bao', 'Serious?', 'Oooooh', 'msging', 'submitting', 'Only1more', 'analysis', 'orc', 'meow', 'also?', 'STUDENT', 'thirunelvali', '63miles.', 'life.and', 'description', 'be...', 'study.', 'bakra', 'bags.', 'Hello.How', 'evening...', '09065989180', 'Faith', 'face...............asssssholeeee................', '12,000pes,', 'Tunji,', 'sum', '*adoring', '83383', 'adoring', 'DOESDISCOUNT!SHITINNIT\\\\\"\"', '6pm', 'Matthew', 'UPDAT', 'jocks', 'Nt.', 'ki', 'face!', '\\\\URGENT!', 'Speaking', 'XCHAT,', \"tt's\", 'DABOOKS.', 'hurricanes', 'Ball', 'Abeg,', 'korli.', '06/11/04', '1ER', 'oni', 'leo', 'Discussed', '*deep', 'Facebook?', 'restaurant..', 'aunties', 'like!', 'requires', 'miles.', 'wrote', 'Macha', '1-Hanuman', '*covers', '08718727870.', 'mah,', 'dream.love', 'warning', 'CAUSE', 'minded', 'snow,', 'Umma.', 'spot', 'internal', 'Ì_..', 'diamond', 'agidhane..', 'want?', 'LUCYxx', 'SELFINDEPENDENCE', 'buffet...', 'Nic\\\\\"\"', 'Pic', 'endless', 'sunroof', 'OFTEN', 'Claim.', 'painting?', 'mcat', 'meaning...', 'lotto', 'cnl', 'bellearlier', 'laurie', 'price...', 'outbid', 'conform.', 'silence...\\\\\"', 'Everyone', 'dined', 'wither', 'rain,', 'store.', 'Yes..gauti', 'date?', 'AVA', 'puzzles', 'Gettin', '(but', 'Gyno', 'accident', 'finance', 'specialisation.', 'ends.', 'hoops', 'salmon', 'where?', 'BOUT!)xx', 'Australia?', 'if/when/how', 'gym!!!', 'MADE', 'Fair', 'syd', 'challenge?', 'didnt.', \"we'd\", 'MO', 'prods', '078498****7', 'nights', 'Reckon', 'nmde', 'dating:i', '07946746291/07880867867', 'Real', 'late,so', 'LOVEJEN', 'seven', 'me?like', 'attraction.i', 'party:-)', 'unconscious', 'POST', '\\x89Û_Thanks', '\\\\\"\"', 'Jeri', 'sorrows.I', 'IT?T.B*', \"NY's\", 'credit\\\\\"\"', 'gucci', 'adventuring', 'c...', 'black..and', 'yeah?', 'Code:4xx26', 'cut.', 'sunshine!', '85555', 'ryan', 'woot', 'huh,', 'hour.', 'freaked?', 'full..', 'Air', 'Goto', '2-4-1', 'along.', 'Gee,', 'maga?', 'wonder...', 'tescos', 'figures,', 'squid!', 'Face.:)', 'meetins', 'food,', 'nite...', 'Eek!', 'holiday!', 'coherently,', '1stchoice.co.uk', 'lk', '$900', '87131.', 'process?', '4goten', 'barrel', 'Wahleykkum.sharing', 'Tata', 'fires.Are', 'cal.', 'gift?', 'Hmmmm?', 'GROW.RANDOM!', 'ppm150', 'thesmszone.com', 'snappy', 'COLLEGE!', 'NVQ,', 'priya', 'C)', 'qbank', 'DIDNT', 'better?', 'VCo', 'twins', 'Jerk!', 'so...not', 'to,', '($900)', 'Consider', 'plumbers', 'service!', '06.05.05', 'crazy,', 'me)', 'coccooning', '#150', 'wear.', '$180', 'spiritual', 'WKEND', 'Package', 'smsing', 'js', \"100's\", 'CAT', 'weasels...', 'Yet,', 'childporn', 'Love.', 'advance.', 'raised', 'cakes.', 'oclock', 'princes', 'worry..', 'DAYS', 'cannot?', 'heater?', 'customersqueries@netvision.uk.com', \"y'day\", 'LA3', 'lost,', 'styles?', 'Network.', 'sorta', 'ideas', 'BORING.', 'mango', 'authorise', 'LITTLE', 'name,', 'problem.i', 'wednesday,', '5.Terror', 'champneys.', 'LUTON', '(Txt', 'playng', \"Yes.i'm\", 'Hottest', 'still.maybe', 'north', 'can\\x89Û÷t', 'Wld', 'use?', 'bffs', 'SUPER', 'Sez,', 'HOTMIX', 'begins', 'forgt', 'STaY', 'grumble', 'dear-loving', 'youåÕre', 'coincidence?', 'hubby', 'police', 'words-', 'experiment.', 'w8in', 'lasting', 'hill', 'chikku:-)', 'opener?', 'kaila', 'lit', '0789xxxxxxx.', 'becausethey', \"l'm\", 'ladies?U', 'vary).', 'loko', 'nit.', 'witout', 'Congrats.', 'rush,', 'lei?', 'finds', 'means;', 'mins/texts.', 'ajith', 'blank', 'ollu.but', 'stuff!\"', 'room:)', 'kisses*', 'club4mobiles.com', 'explicitly', 'taxi?', 'get4an18th.', '-Shakespeare-', 'responsible', 'inde', \"mine's\", 'ASKED,', 'HOPEU', 'T91.', 'Hey...Great', 'progress.', \"account's\", 'joke', 'really?', '09071512432', 'images', 'coco', 'referin', '2KBSubject:', '08448714184', 'Sarcasm', '1.20', 'lac', 'story)', 'appt.', 'monday..nxt', 'Neville?', 'stadium?', 'BREAKIN', 'pure', 'presents.', 'So...any', 'decide...', 'THATMUM', 'dirt,', '7ish?', 'hearts,not', 'moon.', 'failure', 'Spain', 'bookedthe', 'CRO1327', 'rearrange', 'adewale', 'watches', 'WENWECAN', '1205', 'YES-165', 'S.i', 'xam', 'today.do', 'goals/team', 'tue', 'woot!', 'cheek', 'haircut.', 'Awarded', 'bare', 'contented', 'sexy!', \"fakeye's\", 'logged', 'anderson', 'WOKE', '09058094507', 'smear', 'NO-910.', 'Meds', '..?', 'murali', 'asked.', 'gayle.', 'ALETTER', 'course...', 'bowa?', 'fighting?', 'HOLIDAY?', 'Hrishi', 'eight,', '26/10/04', 'perfect!', 'tho)', 'Compliments', 'wot?', 'weather.', 'slowing', 'differ.be', 'lonlines', 'holy', '08702840625', 'abroad', 'Yar...', 'snowboarding', 'tackle', 'WeddingFriend', 'ending,', 'hesitant', 'determine', 'temper', 'strain', 'Mob?', 'accenture', 'REPLY', 'ex-wife', 'BETTERSN', '.so', 'sound..', \"someone's\", 'FREE>Ringtone!', 'shitstorm', 'subscriber', 'ibuprofens', 'camera.', 'unique&I', 'Now.', 'friendship..', 'dis,', 'potato', 'dokey,', 'begun', 'eighth', '3miles', 'depressed.', 'Golf', '2PX', 'everyso', '4few', 'shelves', 'gre', '5p', 'Senthil', 'html', 'Secured', 'chop', 'shaping', 'walmart.', '09061702893', 'anyplaces', '(again),', 'Freemsg:', 'PROPERLY', 'Love:', 'financial', 'include', 'shit....!!\\\\\"', 'spirit.', '2go,', 'Tmorrow.pls', 'southern', '0906346330.', 'cell?', 'swimsuit', 'sue.', 'alle', 'related', '[in', 'vl..do', 'yijue,', 'tul', 'stressful.', 'riddance', 'theater', \"that'll\", 'westshore', 'edhae,', 'taken...Only', 'SPIDER', 'åÔMORROW.', 'reslove.', 'age16.150ppermessSubscription', '26/11/04', 'participate', 'common.', 'Ok.,', 'nor', 'disc', 'symbol', 'AOM', 'womdarfull', 'Gnarls', 'Eta', 'early?', 'hundred.he', 'Life..', 'Wins', 'FILTH', 'squatting', '08712402972', 'quiz,', 'specs.', 'syrup.', 'Ringtones', 'COMMON', 'god.', 'crore\\\\\"', 'europe?', 'Wire3.net', 'Moral:\\\\Dont', 'tobacco...', '08715203656', '09050000301.', 'accommodation', 'violated', 'footie', 'nange', 'President?', 'a-?', 'administrator..', 'request.', 'Ride', 'Hasbro...in', \"K.k:)i'm\", 'heaven', 'Building', 'oredi?', 'GUARANTEED!', 'closer..', 'andres', 'duo', 'roast.', 'hollalater', 'essay', 'gals...U', 'tag', \"Zaher's?\", 'download,', 'Er,', 'texas', 'Afternoons,', 'Hubby', \"shit's\", 'hot.', 'wind', '\\\\Nver', 'B/Tooth', 'nav', '5wkg', 'teju', \"Ta's\", 'atHome', 'Nope,', 'sacrifice.', 'CM', 'WC1N', 'known', 'lavender?', 'forms.don', 'mush!', 'chennai:)i', 'abi', 'park.6ph', 'poop.', 'abstract?', 'cha', 'SAD', 'ST', '08714342399.2stop', 'office..still', 'YOURJOB?', ';V', 'entey', 'summon', 'Took', 'general', 'warm?', 'ROOM', 'beehoon...', 'misfits', 'wenever', 'waheeda', 'atlanta', 'ethnicity', 'case...', 'å£600.', 'yijue...', 'SEEN.', 'appreciated)', 'St,', 'proper', 'biatch!', 'serious?', 'Tim', 'paracetamol', 'rental:', 'salary..:-);-)', 'USER.', 'abnormally.', 'You?', 'Mobileupd8', '08717168528', 'Makes', 'sweet...', \"*didn't*\", 'SEEING?', 'legitimat', 'resizing', 'possible,Hope', 'Fools', 'slo', 'DOCKS.', 'Love!!', 'that...now', 'madam.', 'Neither', 'Ref:9307622', \"PARTNER'S\", 'Ron', 'slave!', 'enjoying', 'Qatar.Rakhesh', 'beads', 'Indians.', 'Canada,', 'E14', 'mumbai.', 'GOODMORNING:)', 'solve', 'SPAM', 'GoTo', 'thing,', 'walks', 'skype.', 'POBOXox36504W45WQ', 'troubleshooting:)', '08715203028', 'goals', 'heåÕs', 'mental:)', 'Welp', 'Calls1.50ppm', 'professional', 'thk...', 'grandma', 'divert', 'dining', 'hit.', 'piah', 'Abt', 'Natural', '...*kiss*', 'close?', 'fun...', 'dogwood', 'hiding', 'aspects', 'email:)', 'hardcore', 'Ya:)going', 'blowing', 'åÒHarry', 'yijue.', 'offc', '2025050', 'diddy', 'away!!', '09701213186', 'gud..', 'probably,', 'PISS', 'Ladies', 'minecraft', 'S:-)kallis', 'title.so', 'hiya', 'Nick,', 'computerless.', 'IKNO', 'significant', 'break.', 'TOTALLY', 'okday?!', 'WELLDA', 'darkest', 'retired', 'around.', 'Tb', '6pm..:-)', 'madodu,', '<fone', 'MIX\\\\\"', 'good...fine', 'EVERYTHIN', 'theplace!', 'neither', 'standing...|', \"bb's\", 'YOU.', 'lacking', 'attack,', 'personally', '\\\\NOT', 'decades..!', 'fixed.', 'arsenal', 'skint', 'Fuuuuck', 'Ups', 'mrng\"', 'board', 'BUDDY!!', 'admit,i', 'range', 'lim', 'HAVENT', 'torch.', 'cThen', '(Henry,', '$140', 'cine...', 'Freeentry', 'sugardad', 'kisses', 'I\\x89Û÷ve', 'submitted', 'kotees', 'www.bridal.petticoatdreams.co.uk', 'treats', 'concentrating', 'STAR', 'Kicchu', 'wildest', 'you....dear.with', 'tensed', 'gf', \"There'll\", 'to:', 'accounting', 'supervisor.', 'agent', 'spoil', 'slave.', 'belligerent', '2B', 'captaining', 'monster!', ':-xx', 'SERIOUSLY.', 'Goodnoon..:)', 'computers?', 'engaged', 'were/are', '3,', 'served', '9+2+4=', 'called.', 'earliest', 'Ctagg.', 'ak', 'seconds.', 'perform,', 'Tonight?', 'HAV', 'ASTHERE', 'arms...', 'wahala.', 'Uve', 'TH', 'AIG', 'Katexxx\\\\\"\"', '4years', 'jump', 'footy', 'quitting', 'ie', 'LAPTOP', 'fun!', '2%', 'wall?', 'thru.Respect', 'Acnt.', '81618,', 'LETS', 'achan,amma.Rakhesh.Qatar', 'excellent.', 'aretaking', 'better..', 'Babe:', 'Uhhhhrmm', 'eventually', 'smoke,', '2morro', 'da..always', 'vegas', 'Nooooooo', 'cousin', 'poly/true/Pix/Ringtones/Games', 'DD', 'Claim,', 'paranoid', '600', 'missionary', 'Jamz', 'messy...', 'lengths', 'gep', 'bt....hmm', 'http://www.e-tlp.co.uk/reward.', \"anything's\", 'Multiply', 'onwords', 'F>>>', 'K..k:)where', 'functions?', 'suply', 'da:-)', 'gd,', 'Prize.', 'Fr', 'bundle', 'apply.2', '3optical', 'credit!', 'TALKIN', \"hasn't,\", 'game?', 'sept.', 'more,', 'Friendship,Mother,Father,Teachers,Childrens', 'DRUNK!', 'white.', 'once.', 'K:)k:)good:)study', 'armenia', 'flight!', 'much.i', 'School?', 'Courageous', 'B-Blue', 'oral.', 'Blank', 'tmr..', 'BAILIFF', 'stalk', 'usps', 'dwn', 'tarpon', 'caroline!', 'fine!\\\\\"', \"S'fine.\", 'go..a', 'tune', 'ok..come', 'Gokila', 'painting', 'scallies,', 'MOON', 'oru', 'watch.', '8.Attractive', 'Indian.Pls', 'G2', 'regret', 'intend', 'uncut', 'perhaps.', 'dead.', 'prevent', 'classes,', 'kochi.', 'goldviking', 'saves', 'Monday,', '83039', 'NEO69', 'ringtoneking', 'Colin', '3D!!B)', \"She'll\", 'wocay', 'pole', 'fucks', 'desk', 'uk!', 'cooking', 'shag?', 'lipo.', 'solved', 'Logon', 'Call,', 'ctla', 'hol', 'SERVICES', 'copied', 'help:)', 'no:)this', 'THOSE', 'Help', \"'its\", 'zac', 'bfore', 'pierre', 'Lion', 'conditions?', 'Actually,', 'wks!', 'ratio', 'where?btw', 'album-quite', \"biola's\", 'unsold.now', 'irritating', '.Please', 'benefits', 'mobsi.com', 'Fat.', 'gf?', 'fav', 'Hi.:)technical', 'basketball.', '83332.Please', 'Fwiw', 'rest?', 'lift...', 'permissions', 'ARR', 'aft?', 'mt', 'bitching', 'Excellent', 'walkin', 'apologetic.', 'Ab..,', '09063440451', 'grow.', 'AREA.', 'fantasy', 'HOWDY', 'travel', 'wap', 'BBD..thts', 'kano.,il', 'notebook', 'scared!', 'Bank', 'us:)no', 'subscrition', 'rebtel', 'car.so', 'X49.', 'occupied,', 'bunch', 'laxinorficated', 'on)', 'limit.', 'sad,', 'pillows', 'Astronomer', 'Hui', 'ESPECIALLY', 'REMEMBER', 'Queen?', 'nig', 'Usmle,', 'SAT?SOUNDåÕS', 'nyc!', 'actin', 'self.', \"'Need'\", 'Bill,', \"wasn't?\", 'scotland.', 'mention', '4JX', 'on...', 'honesty', 'about,', 'minAPN', 'YRS', 'spotty,', 'instead???', 'Reason', 'wrecked.', 'showrooms:)city', 'mistakes?', 'provided', 'ITXT', 'nervous', 'eighth?', 'Abbey!', 'pints', 'dorm.', 'home.wot', 'birds...', 'steal', 'fetch?', '\\\\POLYS\\\\\"', 'Rofl.', 'noisy.', 'Q', 'MAHAL', 'practising', 'Yes.he', 'Hmph.', 'sec,', 'SMILEY', 'connections,', 'ironing', 'WISHING', 'bambling', 'chikku..ali', 'Yay.', 'mapquest', 'Prakesh', 'Indeed', 'time!;-)', 'after.', 'tip', 'pending.i', 'dengra.', 'lobby', 'misss', 'check?', 'Nutter.', 'Forevr...', 'tau', 'reformat.', 'acting', 'waiting.', 'DEF', 'feelin', 'kilos', 'lion', 'WeBeBurnin', 'inst', 'week.|', 'listn', 'requirements', 'is..', 'cereals.', '(mob', 'forå£38', 'Cable', 'Sweet,', 'dealer', 'wrench', 'www.Ldew.com', 'Nottingham', 'anyways,', 'independently', 'Wanting,', 'tallent', '0871-872-9755', 'hen', 'moved,', '4GET', 'pic?Txt', 'eightish', 'Dr', 'intro...', 'borrow?', 'jungle', 'Lololo', 'rate..', 'Anytime', 'INK', \"(he's\", 'Hanumanji', 'when,', 'about...', 'Cougar-Pen', 'small.', 'matric', 'there..do', 'dial', 'payed.', 'miserable', 'Won.', 'crab', 'oil...', 'random.', 'GOODTIME!OLI', 'sterm', 'HIDE', 'Doctor.', 'NRI', 'CHILLIN', 'K.:)do', 'humanities', 'told..she', 'nothin', 'energy..', 'mutations.', ':)so', 'neglet.', 'Asian', 'sliding', 'wining', 'starving.', 'subscriptions.', \"term's\", '21/11/04', 'Bluetooth!', 'Free-message:', 'text!', 'TOBED', 'great.bye', 'ISNT', 'TS&Cs', 'maintaining', 'ONE.', 'beers', 'me.need', 'no!', 'lotr', 'Almost', 'joke--thet', 'FUDGE', 'paragon,', 'needa', 'lifebook', 'GBP4.50/week.', 'Bristol', 'glory,', '\\x89ÛÏHarry', 'MEREMEMBERIN', 'film?', 'experiencehttp://www.vouch4me.com/etlp/dining.asp', 'Simpsons', ':)my', 'thesedays', 'Teach', '31', 'dartboard.', 'nevering..', 'James', 'steve', 'ahold', 'big..|', 'bad-', 'C-Red', 'wanna?', 'asshole..................', 'Stereophonics,', 'chinese.', 'cream...', 'challenging', 'second..', 'programs', 'charles', 'church', 'handing', 'chinchillas', 'pre', 'book...', 'fathima.', 'priest', 'dear.Rakhesh', 'Kent', '69669', 'surf...', 'FRIENDS', 'rejected', 'foward', 'possibly', 'FreeMsg:Feelin', 'brolly', 'DAY!', 'mj', 'process.networking', 'prominent', 'loverboy!', 'motive', 'accent.', 'DRINK', 'fair.', 'K.:)you', 'fortune', 'problem..but', 'dhorte', 'plum', 'clarify', '13/10/04', 'mys', 'smiled', 'batch', 'wisheds.', 'destiny', 'Persian', 'fire.', 'hsbc.', 'Blue;u', 'Gimme', 'Squeeeeeze!!', 'doing!', 'interested?', 'increase', '4217', 'home.love', 'korte', 'downstem', 'Pathaya', 'ipaditan;)', 'much!', 'Sherawat', 'thoughts', 'hesitate.', 'hava', 'camry', 'difficult...;-)', 'lounge?', 'slob-', 'Yaxxx', 'graphics', '4thNOV.BEHIND', 'tosend', 'Okay,', 'wikipedia.com', 'jeans', 'interesting', 'L', 'dark.', '731', 'recd@thirtyeight', 'C-IN', 'Zogtorius.', '1IM', 'Yest', 'Help08700621170150p', 'permanent', 'INDYAROCKS.COM', 'Ultimate', 'forums.', 'Dear,Me', 'studio', 'life?\\\\\"', 'When?', 'anymore...', 'october.', 'GONNAMISSU', 'Mother-in-law', '08712466669', '2.50', 'messages,', \"sir's\", 'delayed', 'cricket', 'afternon,', 'THE!', '7cfca1a', 'Fffff.', 'Min', 'stoptxtstopå£1.50/week', 'videosounds+2', 'feel.', '..Shiny', 'uttered', 'cc100p/min', '-u', 'thia', 'ego', 'Dad.', 'supplies', 'Quick', 'Started', 'person;', 'ayo', 'properly', 'THEACUSATIONS..', '07732584351', 'INTELLIGENT', 'nelson', 'finishd..', 'Romantic', 'Same.', '8pm,', 'yesterday!', 'stones,', 'dinero', 'Channel', 'GIMMI', 'sweater', 'Ni8;-)', 'now!Send', 'Y?WHERE', 'cry.', 'gotany', 'mi', 'anymore?', 'kindly', 'anand', 'couldnåÕt', '(marriage)program', 'prescribed', \"\\\\don't\", 'news.', 'coimbatore.', 'confirmed?', 'Err...', 'hai..........', 'whillTake', 'MINS.', 'slovely.', 'jamster', 'Libertines', 'tonite...', 'weighed', 'Student:', 'dane', 'Apparently', 'instructions.', 'Amy,', 'sexiest', 'lady.', 'wifes.', 'capacity', 'confirmed...', 'Biro', 'GOODNOON:)', 'Ph:08704050406)', 'msg+ticket@kiosk.Valid', 'Holding', 'Ta', 'ya!!', \"how're\", 'saved!', 'IKNOW', '930.', 'busetop', 'pic.', 'band', '08719839835.', 'vivek:)i', 'leh...Haha', 'incident?', 'URGOIN', '09057039994', 'comp.', 'navigate', 'him!', 'dungerees', 'PX3748', 'optin', '09065394973', '24hrs.', 'breather.', 'night.nobody', 'perfume,', '3!', 'blur', 'lib.', 'Gossip,', 'Ryder', 'big!', 'spoon', 'Jst', 'sat....', 'Large', 'shame!', 'slave?', 'expert', 'brownie', '(32/F)', 'lifetime', 'looovvve', 'tmw,', 'lil', 'fancied', 'bold,', 'NOW1!', 'cum...', 'confirm/deny', 'GIRL.', 'difficult:)', '**FREE', 'obey', 'SAW', 'Maat\\\\\"', 'profit.', 'passport', 'jelly', 'differences...', 'emergency', 'Rightio.', 'matters', 'clear,', 'AGAIN.', 'Incorrect?', 'tirunelvai', '24M', 'view', 'seh', 'say/ask', 'Hint', 'Tea', 'BA128NNFWFLY150ppm', 'rough', 'mad.then', '08719181259', 'å£54.', 'room?', 'aft.', 'american', 'comes!', 'hidden', 'vic', 'individual.time', 'Cheers,', 'pee', 'Dorothy@kiefer.com', 'energy', 'films.', 'canåÕt', 'Energy', 'fri!', 'SPJanuary', 'tonight!', 'calculation.', 'mrng:-)\"', 'trained', 'Hack', \"sms'd\", 'sub', 'Nikiyu4.net', 'contribute', 'sarcasm..', '&XXX', 'THASA', 'www.SMS.ac/u/bootydelious', \"YOU'VE\", 'soundtrack', 'wallpaper-all', 'timi', 'Made', 'okie', 'QlynnBV', '...*grins*...', 'jurong', 'crashed', 'african', 'terrible.', 'meant.', 'timings', 'Bull.', 'pouch?', 'have?', 'It,,s', 'bc', '*a', 'subscriber,', '1/3.', 'Life!', '\\\\\"She', '5WQ', 'COUNTINLOTS', 'well?', 'crab..', 'jogging,', 'CRISIS!SPK', 'Sorry!', 'LUSH!', 'MOVIE', 'gym.', 'brother\\x89Û÷s', 'prepare.', 'lakhs:)', 'TELLMISS', 'skills', 'wallet', '09061104283', 'Has', 'tired.', 'jane.', 'housework', 'sometime.Rakhesh,visitor', 'tears.', 'fat...', 'dear..i', 'ecstacy.', 'hypertension', '?!', 'Select,', 'lovin...', '08714712388', 'go.wait', 'Neway', 'tix', 'isn\\x89Ûªt', '0871-4719-523', 'soup.', 'you.:)k:)where', 'TEL', 'Thinks', 'scratching', 'didntgive', 'gettin.', 'news.By', 'wtc', 'wk?s', 'Dude.', 'directly.', 'ever,', 'pthis', 'shipped', 'beforehand.', 'Din', 'Nyt.EC2A.3LP.msg@150p', 'wrong!!', 'UAWAKE?FEELLIKW', 'Singles', 'Hearts..', 'Ringtone.', 'friend-of-a-friend', 'flying', 'followin', 'leftovers', 'answerin', 'AGAIN.call', 'luv.', 'Lara', 'gives.', 'connected', 'Shinco', '08002988890', 'penis', 'recently.', 'sofa.', 'Sos!', \"when's\", 'BILL.', 'Lessons.', 'underwear', 'joined.Hope', 'scarcasim', 'Whens', 'dock,', ',kerala', 'sex.', 'GMW', 'chatting!', 'bhayandar', 'chinese', 'Alaikkum.Pride', 'chatting.', 'page.', 'boundaries.', 'world....gnun', 'you.my', 'chain.', '140ppm', 'LADIES', 'NEWQUAY-SEND', 'arnt', 'atlast', 'TAROT', 'carolina', 'PHP.', 'LOU!', 'goigng', 'mudyadhu.', 'smiles', 'unemployed', 'wife....', 'TOPLAY', 'Records', 'deep.', 'conclusion', 'crammed', '0871-872-9758', 'flim.', 'spageddies', 'PO19', 'ended.', \"Shahjahan's\", '09050280520,', 'Aah', 'ji', 'Spending', 'difference.', 'shakara', 'Premarica.kindly', 'WONT', '08715205273', 'camera/video', 'India..!!', 'panicks', 'studdying', 'eggs', 'GANG', 'clean,', \"'rencontre'\", 'glasgow!', 'sales/pee', 'bothering', 'siva..tats', 'FREEMSG:', 'clothes,', 'off?', 'WHORE', 'giv..its', 'language', 'expiry.', 'rcd', 'DIDNåÕT', 'Holy', 'strongly', '-call', 'reache', \"'doctors'\", 'now.onion', 'Wait,', 'body?', 'K.then', 'respectful', 'tonight\"', 'fake..my', 'bless.get', '9,', 'Prey.', 'chaps', 'calculated', 'subletting', '0871277810910p/min', 'Saw', 'sink', 'science...', '1hr', 'cared,', 'freaky', '54', 'Wuld', 'barring', '.by', 'Elvis', 'outgoing.', 'bread', 'that...', 'cutest', 'seperated...!\\x8eö´\\x89Ó_??\\x8bÛ¬ud', 'is/are', 'loud.', 'daily:)', 'prem', '4.47per', 'Ringtone!From:', 'Phony', 'invitation', '1)McFly-All', 'SOFA', 'loving,', 'talk?', 'dinner.msg', 'forms', 'available?', 'itåÕs', 'giggle', 'mrt?', 'baig', 'goodnight.', 'honeymoon', 'wahay.', 'love.rakhesh', 'India:-):', 'fps', 'Phil', 'prob..', 'A-Green', '07099833605', 'my-tone.com/enjoy.', 'dreams....u', 'class,', 'Sian...', 'macs', 'Amanda', 'TOWN?', 'Presleys', 'TROUBLE?', 'k.i', 'innu', 'genus', 'ip', 'will,', 'ing', 'Qatar', 'restocked', 'waiting..\\\\\"', 'forever,', '0870141701216+', 'again*loving', '09066368753', '2go.did', 'assistance', 'FUCK', 'lady!', 'extract', 'Ocean..:-D', 'DOESNT', 'K..k.:)congratulation', 'tait', 'slacking.', 'mgs', 'forgets', 'Ay', 'MSG*', 'ard...', 'btwn', 'snatch', 'minimum', 'apologise', 'planet.I', 'heal', 'now!T&Cs', 'here>>', '09061790125', 'dear...i', 'Bone', 'Big,', 'MOAN', 'asap.', 'imposed', 'shower!', 'noise', 'Takecare..:)', 'kid..', 'forth', 'chikku..k,', 'straight,', 'LIKELY', 'jetton', 'meatballs', 'absence....', 'suntec...', 'PROBTHAT', 'AGO.CUSOON', 'Lmao.', 'while,&amp;', 'shuhui?', 'Monthly', 'on:)it', 'gek1510...', 'adventure', 'move.', 'helps', 'pain?hope', 'cancer', 'me.\\\\\"...', 'Resend', 'yo,', 'interfued', 'hoo', 'goin...', '.dont', 'UnSub', 'WRONG!!TAKE', 'å£1/minMobsmoreLKPOBOX177HP51FL', 'u.Othrwise', 'varaya', 'bootydelious', 'mc?', 'prizesWith..', 'quiet', '98321561', 'FRESHERS', 'hasnt', 'crashing', 'Honey,', 'emerging', 'avble.', 'eh?', 'message.it', 'mate!', 'closeby', 'tests,', 'rents?\"', '9am', 'happiest', 'cmon', 'Yunny...', '09050005321.', 'i\\x89Û÷m', 'may.', 'Airtel', '83338', 'SPTV', 'dept.', 'outages', 'travelling', 'kano:-)', 'tactful', 'ubandu', 'chess', 'SNAP', '50\\\\\"\"', 'easter.', 'SWAT', 'chat..', 'stones.', 'Explain!', 'vijaykanth', 'character?', 'events', '10:30', 'here.thanks,i', 'W14RG', 'shoes.', 'sleep..', '864233.', 'collecting.', 'needing', 'Spoons', 'alcohol,', 'objection.', 'shattered.', 'anywhere.', '/-', 'Virgin', 'cold!', 'choosing', 'fink', 'Guessin', 'ic', 'etc.?', 'posting', 'held?', 'matter..msg', 'identification,', 'dictionary.', '....My', 'Gibbs', 'Obviously,', 'smiling..', 'Awww', 'dvg', 'puts', 'attended', 'wml?id=820554ad0a1705572711&first=trueåÁC', 'watts.', 'bugis...', 'byåÓleafcutter', 'hairdressers', 'impression', 'rocking', 'durham', '09071517866', 'dudes', 'Ew', 'gautham..', 'Follow', '(That', 'PRIVACY', \"weren't\", 'yelling', 'nigro', 'huiming', 'nights,', '88888', 'springs', 'Bookmark', 'involve', 'ground.amla', 'CL.', 'path', 'department', 'Address', 'month.not', 'contract.', 'TextOperator', 'necessity', 'Alright.', 'arm', 'Petrol-Rs.', '4.49/month', 'Morning.', 'en', 'friendsare', 'EH74RR', '\\\\jeevithathile', \"anybody's\", 'parade', 'sunday..', 'lingo.', 'eight.', 'HALF', 'cst', 'LS278BB', 'shouting..', 'mahfuuz...meaning', 'ko', 'punch', 'SEEMED', 'stitch', 'juan.', 'Tayseer,TISSCO', 'jumpers,', 'Holla', 'vibrate', 'souveniers', 'car?', 'intelligent,', '08702490080', 'GUD', 'prize.To', 'correctly...', 'secondary', '0871277810710p/min', 'suggestion', 'xuhui', 'brison', 'saibaba', \"Party's\", 'Ciao!', 'comes.', 'ali', 'arun', 'dust?', 'supreme.', 'enters', \"havn't\", 'tomorrow!', 'wesleys', 'wml?id=1b6a5ecef91ff9*37819&first=true18:0430-JUL-05', 'reached.', '89693', '\\\\Keep', 'CHECKIN', 'clearer..', 'resume', 'WORRY.C', 'WORLD...!!!', 'WHITE', 'again..', 'Bcm', '84,', 'unfortuntly', 'textand', 'jide', '2GEVA', 'sack', 'chinky', 'sao', 'reffering', 'K.k..how', 'clover', 'breezy', 'Shit,', 'choose.', 'satanic', 'tolerance', '128', 'Thx.', 'UNBELIEVABLE.', 'reserve', 'prakasamanu', 'arithmetic', 'exam,', 'kama', '08704439680.', 'DREAMZ', 'Winner', 'Mark.', 'okay?', 'lazy.', 'Wana', 'Sagamu', 'Email', 'NO-762', '08718738002', \"'Luxury'\", 'wk.TXT', 'Twiggs', 'Randy,', 'Water', 'equally', 'thuglyfe', 'IåÕLLSPEAK', 'care.umma', 'actor.', 'sunoco', 'india', '9.funny', 'fellow?', 'pressure', 'oso.', 'eviction', '150p/msg,', 'btw', 'Txts', 'Blacko', 'appear', 'asda', 'Rate.', 'agree', '89123\"', 'BELIEVE', 'grandfather', 'How.', 'double-faggot', 'glorious', 'Mostly', 'Arabian', 'name...', 'Exorcism', 'anyhow', 'Surely', 'å£10)', 'loan.', 'lingerie', 'bleak,', '.after', 'yourinclusive', 'girlie', 'lying.', 'headin', 'RT-KIng', 'THANKS', 'wake,', 'missunderstding', 'hmm.', 'so:)', 'kids.', 'minus', '*I*', 'allah.', '08712400200.', 'windows', 'bold.', 'Litres', 'ass?', 'bread,', 'Though', '7634', 'cashed', 'yi', '\\\\Happy', 'annoying', 'the4th', 'Dolls', 'Chat80155', 'TONE.', 'Understand.', 'acknowledgement', 'outfor', 'swashbuckling', 'yalrigu', 'burger', '..now', 'NIC', 'YES-762', 'themed', 'ey?', '30Apr', 'replacement.', 'employee', 'pookie', '(not', 'Hoody', 'bone', 'companies', '09064015307', 'burrito,', '\\\\\"Shah', 'dear.take', 'her,who', 'firmware', 'TALK', 'deal:-)', 'else....', '28,', 'Bonus!', 'Smith-Switch..', 'buy:)', 'job...', 'durban:)', 'before.went', 'swear', 'kaitlyn?', 'show?', 'else,', 'hannaford', 'GOSSIP', 'ammae....life', 'peoples', 'anyway,', 'sip', 'PAUL.', 'patients', 'nighters.', 'hearin', 'Having', 'ALERT!', 'situations:', 'area!', 'lies,', 'marrge..remembr?', 'TAMPA', 'something...', 'synced', 'books', 'restrictions,', 'HUNNY!WOT', \"'anything'\", 'DIGITAL', 'CUTE', 'abt...', 'entropication....', 'SUM', 'wrks', 'one,ta.', 'offering', '08712103738', 'sleeping?', 'strtd', 'poet', 'kerala.', 'Erm', 'court.', 'today..but', 'nz', 'Vegas', 'lousy,', 'Cine', 'Skip', 'Dasara', 'yet..', 'thanksgiving,', 'MONKEYAROUND!', 'jenny', 'imposter', 'vouchers-Text', 'betta', 'Rodds1', 'fixd', \"phone's\", 'darlings!', 'know..he', 'message..', '7.shy', 'sucker.', 'thinked', 'Opinion????', 'Brdget', 'swalpa', '08717507382', 'Aslamalaikkum....insha', 'WRK.I', 'pretend', 'gong.', 'Services', 'UpgrdCentre', 'starring', 'poortiyagi', 'profiles?', '02', 'spoken.', 'stops.', 'connections', 'draw.....Please', 'care..', 'earth&sofa', 'sandiago', 'NHS', 'survey', 'NoWorriesLoans.com', 'tv.:)lol.', 'Txting', '09066364349', 'driver!', 'cinema?', 'handsome', 'recovery,', '2bold?', 'camp', '08714714011', 'agency', 'haunt', '4u', \"Can't.\", 'settings', 'chick', 'Charles', 'ask...', 'resolution.', '5-Sankatmochan', 'shell', 'SPINOUT!', 'exhibition...', 'reacting', 'road...', 'taunton.', 'hw,keep', 'Ta-Daaaaa!', 'ONLYFOUND', 'light!', 'twat', 'that.i', 'executive', 'twelve,', 'available..i', '01223585236', 'dear?y', 'Iriver', 'misundrstud', 'fear', 'sisters', \"me..!''\", \"'hex'\", 'mee..', 'hudgi', 'hand?', 'presence', '\\\\Crazy\\\\\"', 'both.', 'å£50', 'XXXX', 'pleasant', \"RCT'\", 'wamma', 'valuing', 'TheMob>Yo', 'shit\"', 'strt', 'particular', 'trusting', 'ignorant.', 'this,', 'Uni', 'Jason', 'lido.', 'fighting', 'jot', 'Yellow', 'BABE,', 'Apo', 'welcome...', 'rpl', 'Cancer', 'receive..', 'tmrw', 'bitch?', 'pass.They', 'often,', \"x'mas.\", 'jb', 'hearted', 'superb', 'POLY3', '-tho', 'un', 'Wa,', 'MQUIZ', 'holla?', 'linux', 'dec', 'fly..', 'Yetunde,', 'restaurant.', 'nights.', 'korche', 'withdraw', 'behalf', 'C.', 'bigger?', 'hangin', '\\\\ER', 'cuddled', 'wont.', \"olayiwola's\", 'peeps', 'EXPLAIN', 'SP:RWM', 'gooD', 'ibored.', 'url', 'flyng', 'puppy', 'pocay', 'days...', 'eggs-pert', 'fusion', 'mrng.', 'T-ruthful.', 'avoids', 'bites', 'achieve', 'recreation', 'bong', \"joke's\", 'FREE-Nokia', 'feet,', 'Aå£1.50', 'stories', 'chg', 'FINE', '09058094455', '150p/Mt', 'colany', 'life:):)', 'eggs,', 'fast.', '+CHEER', 'mo?', 'convenience.', 'alright,', 'K:)i', 's.', \"dobby's\", \"ron's\", 'Crying', 'neekunna', 'smokes,', 'TOTAL', '8800,', 'sef', 'GURL', 'no..', 'register.', 'you\\x89Û÷ll', 'diamonds.', 'TODAY,', '2NITE-TELL', 'yards', 'kalstiya..then', 'dob', 'Lux', '09061701851.', 'Madam,regret', 'Shola', 'Texting', 'throws', 'enuff...', 'ystrday.ice', 'Jamster!', 'nauseous.', 'DAMMIT!!', 'showered', 'Gn\"', 'problematic', 'rahul', 'lecture,', 'Call2OptOut/674', 'rest!U??Wud', 'COS', 'vote?', 'frnd..', 'sad...', 'okmail:', 'us.LET', 'stops.\\\\\"\"', 'esaplanade', 'mad.\"', 'absolutely', 'alwys', 'mahal', 'qing', 'everyones', '2channel', 'NITE+2', 'lovely,', 'hundred', 'Ela', 'Back.', 'fiend/make', '62735=å£450', 'price,so', 'tookplace', 'kodstini', 'http://www.bubbletext.com', 'Remind', '?350', \"no's..\", 'fixes', '09094646631', 'Dormitory', 'dog.', 'styling', 'Joke', 'reliant', 'cost?', 'P.S', 'pack.also', 'lag', 'Happy..', 'hunt', '@Warner', 'bus!', 'parantella', '24/7MP', 'action.', 'yuou', 'oso?', 'wins.', 'truffles.', 'watch...', 'LUV!', 'See?', 'Nyt.', 'Toa', 'zealand.', 'reaching?', 'oni.', '\\\\DRINK\\\\\".', 'upgrading', 'world,', 'Brainless', \"audrey's\", '9061100010', '5mls', 'ralphs', '2MORO!', 'go2sri', 'aha', 'disaster', 'Weiyi', 'machi?any', 'mac.', 'unemployed,', 'attach', 'wesley', 'hearing', 'commercial?', 'fat!', 'steyn', '/oz,', 'sources', 'meh.', 'um', 'Independence', 'Hi:)did', 'violated.', 'mustprovide', 'Beauty', 'AVENT', '-apples&pairs&all', 'Buzz!', 'soon!', '.Terry\\\\\"\"', 'systems.', 'HAVENTCN', 'zyada', 'robinson', '09066362206', 'stink!', 'Eleven', 'badly', 'command...', 'is-', 'ago\"', 'bottle.', 'HELLO', 'MIDNIGHT', 'effects!', 'Hmmm...', 'http://www.wtlp.co.uk/text.', 'cops', 'www.clubzed.co.uk', '22', 'drugs!', 'N-atural.', 'le..u', 'Yupz...', 'Getting', '2?When', 'pink', 'god.You', 'WOMEN.', 'visitors,', 'sick.', 'STOP2stop)', 'yijue@hotmail.com', 'heater', 'w/c', 'God,', 'xxSP', 'cooped', 'days.will', 'lush!', 'WHERE', 'cedar', 'dependents', 'renewing', 'COLLEGE', 'dirty', 'Dhoni', 'uses', 'Athletic', 'RITE', 'SOMETHIN', '80155,', 'outsider', 'bangb.', 'hundreds', '515', 'K.k:)advance', 'optout', 'xxxxxxxx', 'soup', 'proze', 'darlings', 'kids?', 'dancce', 'advance\"', 'grownup', 'GONNA', 'da:)he', 'disagreeable', 'good:)dhanush', '1YF', 'evo.', 'thanks2.', 'Phone?', 'O2:', 'Tired.', 'colourful', 'Anytime...', 'since.', 'kanji', 'gigolo?', 'offline', 'best:)congrats...', 'family..', 'MORNING', 'UP.YEH', 'åÈ10', 'realised', 'classes', 'www.gamb.tv', 'darlin..', '20%', 'device', 'managed', 'bye.', 'tablets.', 'polyphonic', 'it)', 'Thnx', '087147123779am-7pm.', ':)\"', 'Ice', 'february.', '69888', 'pros', 'Okors,', 'Amazing...', 'urgnt', 'temales', 'crowd', 'TALKED', 'Sprint', 'fals', 'DENA', 'Probably,', 'story.', 'Nice.', '69855,', 'man!', 'SOZ', 'yoga?', 'Atleast', 'process:)its', 'WOMAN', 'Ganesh', 'east', 'yijue?', 'care,', 'IFINK', 'pura', 'hopes', 'philosophy.', 'IMIN', 'Infact', 'broth', '\\\\3000', 'collages', 'dude!', 'raiden', 'hugh', ':-D', 'Detroit', 'Correct.', 'icon', 'keluviri...!', 'high.', 'egg-potato', 'delTOMORROW', 'hep', 'Arms', 'ring.', 'Others', 'Balls.', 'flaked.', 'celebrate.', 'pudunga', 'horny,', 'londn', 'laundry,', 'LATER', 'HOSPITAL', 'conference', '42049', 'messy', 'shun', 'sexy,', 'vodka...', 'openings', 'Eek', 'call2optout/J', 'yet,', 'Onion-Rs.', 'Shifad', 'underwear.', 'much/impede', 'chrgd@50p', '087104711148', 'name..', 'Day.', 'Amrca', 'cultures', 'Friday', 'Cttargg.', '6pm.', 'breakfast', '24Hrs', '09058098002.', 'RECPT', 'Intelligent', 'Out', 'cam,', ';abel', 'Expected...', 'look.', 'indian?', 'failing', 'shirts,', 'spk', 'result.', 'find.', '2morrowxxxx', 'possession,', 'K.k:)apo', 'dudette,', 'recovery', 'sarasota?', \"wat'll\", 'nokias', 'Re', 'Jenny', 'cheese.', 'Ctter.', 'kvb', 'aphexåÕs', 'macleran', 'surprised,', 'm)', 'What\\x89Û÷s', 'TOCALL.SHALL', 'artists.', 'fassyole!', 'end,', 'POLYC', 'stuff.leaving', 'memories!', '08081263000', 'guy,', 'pg..', 'autocorrect', 'handset', 'salt,', 'LST', 'Mmmmmmm', 'Prem.', 'Wa...', 'tonite.things', 'gET', 'ponnungale', 'converter', 'confirmed', 'man...', 'faglord', 'Everyday', 'ishtamayoo?happy', 'Hi:)cts', 'hell,', 'single?', 'beach', 'smiling?', 'formal...', 'Sends', 'Farrell', 'goggles', 'village,', 'EACHOTHER.', 'resuming.', 'Kaiez...', 'OK.', 'half-8th', 'SENT:)', 'Sptv:', 'MONKEESPEOPLE', 'i\\x89Ûªm', 'xin', 'starshine!', 'Greetings', 'tb,', 'Neshanth..tel', \"riley's\", 'rumbling...', 'spatula', 'maraikara', 'offer:)', 'his/her', '\\\\go', 'Sir,Salam', 'None?', 'then.will', 'danger.', 'tomorrow..', 'movie..wat', 'coast...', 'lighters', 'Orchard', 'date.', '80160', 'tiwary', 'stretch', 'mo.', 'forwarding', 'GAILxx', 'Strokes!', 'Thankyou', 'treasure', 'thanx.xx', 'Adult', 'bluray', 'Hhahhaahahah', 'da:)where', '116', 'Plyr.', 'leading', 'somewhere.', 'jokes...', 'needed!', 'envy', 'S:)no', 'Oops,', 'born,', 'Club.', 'aids', 'AM!?!', 'hitman', 'owo', 'A-ffectionate.', 'bimbo', 'wind.', 'gd,now', 'digits)', 'bribe', \"address.u'll\", 'crossing', 'drum', 'basq!ihave', 'fact.', 'undrstndng', 'semiobscure', 'browsin', 'Aaooooright', 'going.', 'disturbance.might', 'å£50-å£500.', 'happy..', 'da:)good', \"Prashanthettan's\", 'Teletext']\n"
          ],
          "name": "stdout"
        }
      ]
    },
    {
      "cell_type": "code",
      "metadata": {
        "id": "ts6My2XScwGB"
      },
      "source": [
        "    mapped_data = data_mapper()\n",
        "\n",
        "    trainset, testset, trainlabel, testlabel = train_test_split(mapped_data, messages_labels, test_size=0.33, random_state=42)  "
      ],
      "execution_count": 71,
      "outputs": []
    },
    {
      "cell_type": "markdown",
      "metadata": {
        "id": "jL3XYJ3K6UwB"
      },
      "source": [
        "**Support vector machine**"
      ]
    },
    {
      "cell_type": "code",
      "metadata": {
        "colab": {
          "base_uri": "https://localhost:8080/",
          "height": 607
        },
        "id": "r2IpluzC6UwB",
        "outputId": "b2775adc-0a2b-4414-af6e-31cec4021268"
      },
      "source": [
        "SVM = svm.SVC()\n",
        "SVM.fit(trainset, trainlabel)\n",
        "predicted_values_svm = SVM.predict(testset)\n",
        "\n",
        "#Accuracy\n",
        "acurracy_SVM = accuracy_score(testlabel, predicted_values_svm)\n",
        "\n",
        "#5 fold cross validation\n",
        "clf = svm.SVC(kernel='rbf', C=1)\n",
        "scores = cross_val_score(clf, trainset, trainlabel, cv=5)\n",
        "\n",
        "#confusion matrix\n",
        "confusion_matrix_SVM = confusion_matrix(testlabel,predicted_values_svm,labels=[\"ham\",\"spam\"] )\n",
        "skplt.metrics.plot_confusion_matrix(testlabel,predicted_values_svm, normalize=False)\n",
        "skplt.metrics.plot_confusion_matrix(testlabel,predicted_values_svm, normalize=True)\n",
        "\n",
        "print('confusion_matrix_SVM: ', confusion_matrix_SVM)\n",
        "plt.show()"
      ],
      "execution_count": 72,
      "outputs": [
        {
          "output_type": "stream",
          "text": [
            "confusion_matrix_SVM:  [[1582    5]\n",
            " [  72  180]]\n"
          ],
          "name": "stdout"
        },
        {
          "output_type": "display_data",
          "data": {
            "image/png": "[encoded data removed]",
            "text/plain": [
              "<Figure size 432x288 with 2 Axes>"
            ]
          },
          "metadata": {
            "tags": [],
            "needs_background": "light"
          }
        },
        {
          "output_type": "display_data",
          "data": {
            "image/png": "[encoded data removed]",
            "text/plain": [
              "<Figure size 432x288 with 2 Axes>"
            ]
          },
          "metadata": {
            "tags": [],
            "needs_background": "light"
          }
        }
      ]
    },
    {
      "cell_type": "code",
      "metadata": {
        "id": "ayxNPjCL6UwB",
        "colab": {
          "base_uri": "https://localhost:8080/"
        },
        "outputId": "906f3907-0826-4c17-cdbd-17242b736eab"
      },
      "source": [
        "print(\"acurracy_SVM \" + str(acurracy_SVM))\n",
        "print ('\\n')\n",
        "print('validation scores: ', scores)"
      ],
      "execution_count": 73,
      "outputs": [
        {
          "output_type": "stream",
          "text": [
            "acurracy_SVM 0.9581294181620446\n",
            "\n",
            "\n",
            "validation scores:  [0.95716198 0.95582329 0.95314592 0.94101877 0.95040214]\n"
          ],
          "name": "stdout"
        }
      ]
    }
  ]
}