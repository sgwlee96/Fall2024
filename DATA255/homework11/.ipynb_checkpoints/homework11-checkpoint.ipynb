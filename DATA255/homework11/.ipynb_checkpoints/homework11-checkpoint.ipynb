{
 "cells": [
  {
   "cell_type": "markdown",
   "id": "71edec6f-d87d-4868-a73e-e02765c785c7",
   "metadata": {},
   "source": [
    "# Homework11\n",
    "## Sungwon Lee\n",
    "### 017473950"
   ]
  },
  {
   "cell_type": "code",
   "execution_count": 23,
   "id": "6be3a114-7616-4085-9b65-6ae0c1fdb06a",
   "metadata": {
    "tags": []
   },
   "outputs": [],
   "source": [
    "from dotenv import load_dotenv, find_dotenv\n",
    "import openai\n",
    "import os\n",
    "import PyPDF2\n",
    "import requests\n",
    "from bs4 import BeautifulSoup\n",
    "\n",
    "\n",
    "# Load environment variables\n",
    "_ = load_dotenv(find_dotenv())\n",
    "\n",
    "# Set OpenAI API key\n",
    "openai.api_key = os.getenv('OPENAI_API_KEY')"
   ]
  },
  {
   "cell_type": "code",
   "execution_count": 24,
   "id": "0b26d678-44f7-4233-a647-2732319cbe85",
   "metadata": {
    "tags": []
   },
   "outputs": [],
   "source": [
    "def get_completion(prompt, model=\"gpt-3.5-turbo\"):\n",
    "    messages = [{\"role\": \"user\", \"content\": prompt}]\n",
    "    response = openai.chat.completions.create(\n",
    "        model=model,\n",
    "        messages=messages,\n",
    "        temperature=0,\n",
    "    )\n",
    "    return response.choices[0].message.content"
   ]
  },
  {
   "cell_type": "code",
   "execution_count": 25,
   "id": "794a1d72-421b-402b-867b-80eeb972bc97",
   "metadata": {
    "tags": []
   },
   "outputs": [],
   "source": [
    "def extract_pdf(file_path):\n",
    "    with open(file_path, 'rb') as file:\n",
    "        reader = PyPDF2.PdfReader(file)\n",
    "        text = \"\"\n",
    "        for page in reader.pages:\n",
    "            text += page.extract_text()\n",
    "    return text"
   ]
  },
  {
   "cell_type": "code",
   "execution_count": 26,
   "id": "96c76757-3acb-4433-867f-e42465407776",
   "metadata": {
    "tags": []
   },
   "outputs": [],
   "source": [
    "def extract_web(url):\n",
    "    response = requests.get(url)\n",
    "    soup = BeautifulSoup(response.content, 'html.parser')\n",
    "    ps = soup.find_all('p')\n",
    "    content = ' '.join([p.get_text() for p in ps])\n",
    "    return content"
   ]
  },
  {
   "cell_type": "code",
   "execution_count": 27,
   "id": "9170e138-0fba-4f48-88c3-865dc3c0d36e",
   "metadata": {
    "tags": []
   },
   "outputs": [],
   "source": [
    "url = \"https://www.prnewswire.com/news-releases/meta-reports-fourth-quarter-and-full-year-2023-results-initiates-quarterly-dividend-302051285.html\"\n",
    "file_path = \"simple_math_fractions.pdf\"\n",
    "webdoc = extract_web(url)\n",
    "pdfdoc = extract_pdf(file_path)"
   ]
  },
  {
   "cell_type": "code",
   "execution_count": 42,
   "id": "a387f1c6-75fa-4b66-8194-0e31ddadffb6",
   "metadata": {
    "tags": []
   },
   "outputs": [
    {
     "name": "stdout",
     "output_type": "stream",
     "text": [
      "To solve the equation x^2 - 2x + 8 = 28, we first need to move all terms to one side of the equation to set it equal to zero:\n",
      "\n",
      "x^2 - 2x + 8 - 28 = 0\n",
      "x^2 - 2x - 20 = 0\n",
      "\n",
      "Next, we need to factor the quadratic equation. To do this, we need to find two numbers that multiply to -20 and add up to -2. The numbers that satisfy this condition are -5 and 4:\n",
      "\n",
      "(x - 5)(x + 4) = 0\n",
      "\n",
      "Now, we can set each factor equal to zero and solve for x:\n",
      "\n",
      "x - 5 = 0\n",
      "x = 5\n",
      "\n",
      "x + 4 = 0\n",
      "x = -4\n",
      "\n",
      "Therefore, the solutions to the equation x^2 - 2x + 8 = 28 are x = 5 and x = -4.\n"
     ]
    }
   ],
   "source": [
    "# Define the prompt\n",
    "prompt1 = \"\"\"\n",
    "Your task is to help a student on math problem. You need to solve the following equation for x and provide a detailed explanation of the solution steps:\n",
    "x^2 - 2x + 8 = 28\n",
    "\"\"\"\n",
    "# Get the response\n",
    "response1 = get_completion(prompt1)\n",
    "print(response1)"
   ]
  },
  {
   "cell_type": "code",
   "execution_count": 44,
   "id": "72223f0d-5669-4420-8e3f-8a854ade3022",
   "metadata": {},
   "outputs": [
    {
     "name": "stdout",
     "output_type": "stream",
     "text": [
      "Simplified Content from PDF:\n",
      "Fractions are parts of a whole, shown as two numbers (e.g., 1/2). The top number (numerator) is the parts taken, and the bottom number (denominator) is the total parts. Types include Proper (3/4), Improper (5/4), and Mixed Numbers (1 3/4). Operations include Adding (1/4 + 2/4 = 3/4), Subtracting (3/4 - 1/4 = 2/4), Multiplying (1/2 × 3/4 = 3/8), and Dividing (1/2 ÷ 3/4 = 4/6 or 2/3). Fractions are used in cooking and sharing bills. Mastering them is important in math.\n",
      "\n",
      "Simplified Content from Website:\n",
      "Meta Platforms, Inc. reported financial results for the quarter ending December 31, 2023. Revenue was $40.1 billion, a 25% increase from the previous year. Operating income was $16.4 billion, a 156% increase. Net income was $14 billion, a 201% increase. Meta initiated a quarterly dividend of $0.50 per share. They also completed restructuring measures for efficiency. The CFO outlook for 2024 includes revenue of $34.5-37 billion and expenses of $94-99 billion. Meta continues to invest in AI and infrastructure for future growth. Regulatory challenges may impact business.\n"
     ]
    }
   ],
   "source": [
    "prompt2 = f\"\"\"\n",
    "Here is content extracted from a PDF and a website. \n",
    "\n",
    "Your tasks are:\n",
    "1. Rewrite the content from the PDF and the website in simpler terms (use at most 100 words for each).\n",
    "2. Answer the following questions:\n",
    "    a. In the PDF, how many types of fractions are mentioned?\n",
    "    b. In the website content, what is the report quarter, and when did it end?\n",
    "\n",
    "PDF Content: ```{pdfdoc}```\n",
    "Website Content: ```{webdoc}```\n",
    "\"\"\"\n",
    "\n",
    "# Get the response\n",
    "response2 = get_completion(prompt2)\n",
    "print(response2)"
   ]
  },
  {
   "cell_type": "code",
   "execution_count": 52,
   "id": "e83da972-c9e2-4434-bfbc-025bd44ee222",
   "metadata": {
    "tags": []
   },
   "outputs": [
    {
     "name": "stdout",
     "output_type": "stream",
     "text": [
      "Summary:\n",
      "1. The math problem involved solving the equation x^2 - 2x + 8 = 28 by factoring and finding the solutions x = 5 and x = -4.\n",
      "2. The PDF explained fractions as parts of a whole, mentioning proper, improper, and mixed numbers, along with operations. The website content summarized Meta Platforms' financial results for Q4 2023, highlighting revenue growth, dividend initiation, restructuring completion, CFO outlook, and regulatory challenges.\n"
     ]
    }
   ],
   "source": [
    "prompt3 = f\"\"\"\n",
    "Your task is to summarize our discussion so far based on the following prompts and responses:\n",
    "1. Solve the math problem for a student.\n",
    "   Prompt: ```{prompt1}```\n",
    "   Response: ```{response1}```\n",
    "\n",
    "2. Rewrite PDF and website content and answer questions.\n",
    "   Prompt: ```{prompt2}```\n",
    "   Response: ```{response2}```\n",
    "\n",
    "Follow these instructions:\n",
    "- Summarize **both prompts** and their responses.\n",
    "- Present the summary in the same order as the prompts.\n",
    "- Use at most 100 words for the entire summary.\n",
    "\"\"\"\n",
    "\n",
    "# Get the response\n",
    "response3 = get_completion(prompt3)\n",
    "print(response3)"
   ]
  }
 ],
 "metadata": {
  "kernelspec": {
   "display_name": "Python 3 (ipykernel)",
   "language": "python",
   "name": "python3"
  },
  "language_info": {
   "codemirror_mode": {
    "name": "ipython",
    "version": 3
   },
   "file_extension": ".py",
   "mimetype": "text/x-python",
   "name": "python",
   "nbconvert_exporter": "python",
   "pygments_lexer": "ipython3",
   "version": "3.8.17"
  }
 },
 "nbformat": 4,
 "nbformat_minor": 5
}
