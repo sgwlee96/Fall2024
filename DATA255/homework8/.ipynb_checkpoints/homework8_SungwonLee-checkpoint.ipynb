{
 "cells": [
  {
   "cell_type": "markdown",
   "id": "303e0b08-d350-4d05-91fc-3e8d51ff82d0",
   "metadata": {},
   "source": [
    "# Homework 8\n",
    "## Sungwon Lee\n",
    "### 017473950"
   ]
  },
  {
   "cell_type": "code",
   "execution_count": 1,
   "id": "617a72e8-f6b3-4cea-82e6-93cc0c68fe63",
   "metadata": {
    "tags": []
   },
   "outputs": [],
   "source": [
    "import matplotlib.pyplot as plt\n",
    "import pandas as pd\n",
    "import numpy as np\n",
    "import torch\n",
    "import torch.nn as nn\n",
    "from sklearn.preprocessing import MinMaxScaler\n",
    "from torch.utils.data import DataLoader, TensorDataset\n",
    "import torch.optim as optim\n",
    "from sklearn.preprocessing import MinMaxScaler"
   ]
  },
  {
   "cell_type": "code",
   "execution_count": 2,
   "id": "c2ab362a-3318-4620-9efd-4718cc0153ce",
   "metadata": {},
   "outputs": [],
   "source": [
    "df = pd.read_csv(\"Google_Stock_Price_Train-1.csv\")"
   ]
  },
  {
   "cell_type": "code",
   "execution_count": 3,
   "id": "435768a0-972b-4050-a475-ba5747b1894b",
   "metadata": {},
   "outputs": [
    {
     "name": "stdout",
     "output_type": "stream",
     "text": [
      "number of rows and columns:  (1258, 6)\n"
     ]
    },
    {
     "data": {
      "text/html": [
       "<div>\n",
       "<style scoped>\n",
       "    .dataframe tbody tr th:only-of-type {\n",
       "        vertical-align: middle;\n",
       "    }\n",
       "\n",
       "    .dataframe tbody tr th {\n",
       "        vertical-align: top;\n",
       "    }\n",
       "\n",
       "    .dataframe thead th {\n",
       "        text-align: right;\n",
       "    }\n",
       "</style>\n",
       "<table border=\"1\" class=\"dataframe\">\n",
       "  <thead>\n",
       "    <tr style=\"text-align: right;\">\n",
       "      <th></th>\n",
       "      <th>Date</th>\n",
       "      <th>Open</th>\n",
       "      <th>High</th>\n",
       "      <th>Low</th>\n",
       "      <th>Close</th>\n",
       "      <th>Volume</th>\n",
       "    </tr>\n",
       "  </thead>\n",
       "  <tbody>\n",
       "    <tr>\n",
       "      <th>0</th>\n",
       "      <td>1/3/2012</td>\n",
       "      <td>325.25</td>\n",
       "      <td>332.83</td>\n",
       "      <td>324.97</td>\n",
       "      <td>663.59</td>\n",
       "      <td>7,380,500</td>\n",
       "    </tr>\n",
       "    <tr>\n",
       "      <th>1</th>\n",
       "      <td>1/4/2012</td>\n",
       "      <td>331.27</td>\n",
       "      <td>333.87</td>\n",
       "      <td>329.08</td>\n",
       "      <td>666.45</td>\n",
       "      <td>5,749,400</td>\n",
       "    </tr>\n",
       "    <tr>\n",
       "      <th>2</th>\n",
       "      <td>1/5/2012</td>\n",
       "      <td>329.83</td>\n",
       "      <td>330.75</td>\n",
       "      <td>326.89</td>\n",
       "      <td>657.21</td>\n",
       "      <td>6,590,300</td>\n",
       "    </tr>\n",
       "    <tr>\n",
       "      <th>3</th>\n",
       "      <td>1/6/2012</td>\n",
       "      <td>328.34</td>\n",
       "      <td>328.77</td>\n",
       "      <td>323.68</td>\n",
       "      <td>648.24</td>\n",
       "      <td>5,405,900</td>\n",
       "    </tr>\n",
       "    <tr>\n",
       "      <th>4</th>\n",
       "      <td>1/9/2012</td>\n",
       "      <td>322.04</td>\n",
       "      <td>322.29</td>\n",
       "      <td>309.46</td>\n",
       "      <td>620.76</td>\n",
       "      <td>11,688,800</td>\n",
       "    </tr>\n",
       "  </tbody>\n",
       "</table>\n",
       "</div>"
      ],
      "text/plain": [
       "       Date    Open    High     Low   Close      Volume\n",
       "0  1/3/2012  325.25  332.83  324.97  663.59   7,380,500\n",
       "1  1/4/2012  331.27  333.87  329.08  666.45   5,749,400\n",
       "2  1/5/2012  329.83  330.75  326.89  657.21   6,590,300\n",
       "3  1/6/2012  328.34  328.77  323.68  648.24   5,405,900\n",
       "4  1/9/2012  322.04  322.29  309.46  620.76  11,688,800"
      ]
     },
     "execution_count": 3,
     "metadata": {},
     "output_type": "execute_result"
    }
   ],
   "source": [
    "print('number of rows and columns: ', df.shape)\n",
    "df.head()"
   ]
  },
  {
   "cell_type": "code",
   "execution_count": 4,
   "id": "079ea527-4028-44cd-935d-e6ac74ebbbbf",
   "metadata": {},
   "outputs": [],
   "source": [
    "target = df[['Open']].values\n",
    "scaler = MinMaxScaler(feature_range=(0,1))\n",
    "target_scaled = scaler.fit_transform(target)"
   ]
  },
  {
   "cell_type": "code",
   "execution_count": 5,
   "id": "ec7694d2-eb61-49ad-a81e-1656c3193770",
   "metadata": {},
   "outputs": [],
   "source": [
    "sequence_length = 60\n",
    "\n",
    "def create_sequences(data, seq_length):\n",
    "    sequences = []\n",
    "    labels = []\n",
    "    for i in range(seq_length, len(data)):\n",
    "        sequences.append(data[i-seq_length:i, 0])\n",
    "        labels.append(data[i, 0])\n",
    "    return np.array(sequences), np.array(labels)\n",
    "\n",
    "X, y = create_sequences(target_scaled, sequence_length)\n",
    "\n",
    "X = torch.tensor(X, dtype=torch.float32).unsqueeze(-1)\n",
    "y = torch.tensor(y, dtype=torch.float32)"
   ]
  },
  {
   "cell_type": "code",
   "execution_count": 6,
   "id": "a0693f7d-5440-4332-9463-f61497c149e1",
   "metadata": {},
   "outputs": [],
   "source": [
    "train_size = int(len(X) * 0.8) # split\n",
    "X_train, X_test = X[:train_size], X[train_size:]\n",
    "y_train, y_test = y[:train_size], y[train_size:]\n",
    "\n",
    "# Create data loaders\n",
    "train_data = TensorDataset(X_train, y_train)\n",
    "train_loader = DataLoader(train_data, batch_size=64, shuffle=True)\n",
    "\n",
    "test_data = TensorDataset(X_test, y_test)\n",
    "test_loader = DataLoader(test_data, batch_size=64, shuffle=False)\n"
   ]
  },
  {
   "cell_type": "code",
   "execution_count": 10,
   "id": "3763e74a-c943-4d73-9c14-ca1effcccdb4",
   "metadata": {},
   "outputs": [],
   "source": [
    "class LSTM(nn.Module):\n",
    "    def __init__(self, input_size=1, hidden_size=50, num_layers=2, output_size=1):\n",
    "        super(LSTM, self).__init__()\n",
    "        self.lstm = nn.LSTM(input_size, hidden_size, num_layers, batch_first=True)\n",
    "        self.fc = nn.Linear(hidden_size, output_size)\n",
    "\n",
    "    def forward(self, x):\n",
    "        out, _ = self.lstm(x) \n",
    "        out = self.fc(out[:, -1, :])  \n",
    "        return out"
   ]
  },
  {
   "cell_type": "code",
   "execution_count": 11,
   "id": "375d8cc3-238b-45d0-9fc9-1702899a3e15",
   "metadata": {},
   "outputs": [],
   "source": [
    "device = 'cuda' if torch.cuda.is_available() else 'cpu'"
   ]
  },
  {
   "cell_type": "code",
   "execution_count": 12,
   "id": "c4296e94-2f48-4832-bbf5-fa940edef85b",
   "metadata": {},
   "outputs": [],
   "source": [
    "model = LSTM().to(device)\n",
    "criterion = nn.MSELoss()\n",
    "optimizer = optim.Adam(model.parameters(), lr=0.001)"
   ]
  },
  {
   "cell_type": "code",
   "execution_count": 13,
   "id": "751bdf07-49e4-4aa4-83a3-05a32d0ac62c",
   "metadata": {},
   "outputs": [
    {
     "name": "stdout",
     "output_type": "stream",
     "text": [
      "Epoch [1/100], Loss: 0.0374\n",
      "Epoch [2/100], Loss: 0.0441\n",
      "Epoch [3/100], Loss: 0.0213\n",
      "Epoch [4/100], Loss: 0.0084\n",
      "Epoch [5/100], Loss: 0.0030\n",
      "Epoch [6/100], Loss: 0.0016\n",
      "Epoch [7/100], Loss: 0.0017\n",
      "Epoch [8/100], Loss: 0.0010\n",
      "Epoch [9/100], Loss: 0.0011\n",
      "Epoch [10/100], Loss: 0.0017\n",
      "Epoch [11/100], Loss: 0.0016\n",
      "Epoch [12/100], Loss: 0.0009\n",
      "Epoch [13/100], Loss: 0.0009\n",
      "Epoch [14/100], Loss: 0.0010\n",
      "Epoch [15/100], Loss: 0.0012\n",
      "Epoch [16/100], Loss: 0.0010\n",
      "Epoch [17/100], Loss: 0.0009\n",
      "Epoch [18/100], Loss: 0.0012\n",
      "Epoch [19/100], Loss: 0.0013\n",
      "Epoch [20/100], Loss: 0.0008\n",
      "Epoch [21/100], Loss: 0.0006\n",
      "Epoch [22/100], Loss: 0.0008\n",
      "Epoch [23/100], Loss: 0.0006\n",
      "Epoch [24/100], Loss: 0.0009\n",
      "Epoch [25/100], Loss: 0.0006\n",
      "Epoch [26/100], Loss: 0.0007\n",
      "Epoch [27/100], Loss: 0.0006\n",
      "Epoch [28/100], Loss: 0.0006\n",
      "Epoch [29/100], Loss: 0.0012\n",
      "Epoch [30/100], Loss: 0.0005\n",
      "Epoch [31/100], Loss: 0.0006\n",
      "Epoch [32/100], Loss: 0.0012\n",
      "Epoch [33/100], Loss: 0.0002\n",
      "Epoch [34/100], Loss: 0.0026\n",
      "Epoch [35/100], Loss: 0.0006\n",
      "Epoch [36/100], Loss: 0.0006\n",
      "Epoch [37/100], Loss: 0.0007\n",
      "Epoch [38/100], Loss: 0.0006\n",
      "Epoch [39/100], Loss: 0.0005\n",
      "Epoch [40/100], Loss: 0.0003\n",
      "Epoch [41/100], Loss: 0.0014\n",
      "Epoch [42/100], Loss: 0.0005\n",
      "Epoch [43/100], Loss: 0.0004\n",
      "Epoch [44/100], Loss: 0.0005\n",
      "Epoch [45/100], Loss: 0.0004\n",
      "Epoch [46/100], Loss: 0.0006\n",
      "Epoch [47/100], Loss: 0.0002\n",
      "Epoch [48/100], Loss: 0.0007\n",
      "Epoch [49/100], Loss: 0.0004\n",
      "Epoch [50/100], Loss: 0.0010\n",
      "Epoch [51/100], Loss: 0.0006\n",
      "Epoch [52/100], Loss: 0.0004\n",
      "Epoch [53/100], Loss: 0.0003\n",
      "Epoch [54/100], Loss: 0.0009\n",
      "Epoch [55/100], Loss: 0.0005\n",
      "Epoch [56/100], Loss: 0.0003\n",
      "Epoch [57/100], Loss: 0.0004\n",
      "Epoch [58/100], Loss: 0.0005\n",
      "Epoch [59/100], Loss: 0.0003\n",
      "Epoch [60/100], Loss: 0.0005\n",
      "Epoch [61/100], Loss: 0.0008\n",
      "Epoch [62/100], Loss: 0.0004\n",
      "Epoch [63/100], Loss: 0.0008\n",
      "Epoch [64/100], Loss: 0.0003\n",
      "Epoch [65/100], Loss: 0.0005\n",
      "Epoch [66/100], Loss: 0.0003\n",
      "Epoch [67/100], Loss: 0.0004\n",
      "Epoch [68/100], Loss: 0.0005\n",
      "Epoch [69/100], Loss: 0.0003\n",
      "Epoch [70/100], Loss: 0.0008\n",
      "Epoch [71/100], Loss: 0.0004\n",
      "Epoch [72/100], Loss: 0.0005\n",
      "Epoch [73/100], Loss: 0.0008\n",
      "Epoch [74/100], Loss: 0.0006\n",
      "Epoch [75/100], Loss: 0.0004\n",
      "Epoch [76/100], Loss: 0.0006\n",
      "Epoch [77/100], Loss: 0.0007\n",
      "Epoch [78/100], Loss: 0.0005\n",
      "Epoch [79/100], Loss: 0.0004\n",
      "Epoch [80/100], Loss: 0.0007\n",
      "Epoch [81/100], Loss: 0.0005\n",
      "Epoch [82/100], Loss: 0.0004\n",
      "Epoch [83/100], Loss: 0.0006\n",
      "Epoch [84/100], Loss: 0.0005\n",
      "Epoch [85/100], Loss: 0.0003\n",
      "Epoch [86/100], Loss: 0.0004\n",
      "Epoch [87/100], Loss: 0.0003\n",
      "Epoch [88/100], Loss: 0.0003\n",
      "Epoch [89/100], Loss: 0.0005\n",
      "Epoch [90/100], Loss: 0.0009\n",
      "Epoch [91/100], Loss: 0.0005\n",
      "Epoch [92/100], Loss: 0.0004\n",
      "Epoch [93/100], Loss: 0.0007\n",
      "Epoch [94/100], Loss: 0.0005\n",
      "Epoch [95/100], Loss: 0.0003\n",
      "Epoch [96/100], Loss: 0.0005\n",
      "Epoch [97/100], Loss: 0.0002\n",
      "Epoch [98/100], Loss: 0.0003\n",
      "Epoch [99/100], Loss: 0.0008\n",
      "Epoch [100/100], Loss: 0.0003\n"
     ]
    }
   ],
   "source": [
    "# Training the model\n",
    "num_epochs = 100\n",
    "model.train()\n",
    "\n",
    "for epoch in range(num_epochs):\n",
    "    for sequences, labels in train_loader:\n",
    "        sequences, labels = sequences.to(device), labels.to(device)\n",
    "\n",
    "        outputs = model(sequences)\n",
    "        loss = criterion(outputs.squeeze(), labels)\n",
    "\n",
    "        optimizer.zero_grad()\n",
    "        loss.backward()\n",
    "        optimizer.step()\n",
    "\n",
    "    print(f'Epoch [{epoch+1}/{num_epochs}], Loss: {loss.item():.4f}')\n"
   ]
  },
  {
   "cell_type": "code",
   "execution_count": 14,
   "id": "c22f8b4f-c870-4f12-820e-e0b0298e50d5",
   "metadata": {},
   "outputs": [
    {
     "name": "stdout",
     "output_type": "stream",
     "text": [
      "RMSE: 14.55\n"
     ]
    }
   ],
   "source": [
    "model.eval()\n",
    "predictions = []\n",
    "actuals = []\n",
    "\n",
    "with torch.no_grad():\n",
    "    for sequences, labels in test_loader:\n",
    "        sequences, labels = sequences.to(device), labels.to(device)\n",
    "        outputs = model(sequences)\n",
    "        predictions.extend(outputs.squeeze().cpu().numpy())\n",
    "        actuals.extend(labels.cpu().numpy())\n",
    "\n",
    "# Rescale predictions back to the original scale\n",
    "predictions_rescaled = scaler.inverse_transform(np.array(predictions).reshape(-1, 1))\n",
    "actuals_rescaled = scaler.inverse_transform(np.array(actuals).reshape(-1, 1))\n",
    "\n",
    "# Calculate RMSE\n",
    "rmse = np.sqrt(np.mean((predictions_rescaled - actuals_rescaled) ** 2))\n",
    "print(f'RMSE: {rmse:.2f}')\n"
   ]
  },
  {
   "cell_type": "code",
   "execution_count": 15,
   "id": "7e032096-c929-43d4-8d86-9fbcdc534bdc",
   "metadata": {},
   "outputs": [
    {
     "data": {
      "image/png": "[encoded data removed]",
      "text/plain": [
       "<Figure size 640x480 with 1 Axes>"
      ]
     },
     "metadata": {},
     "output_type": "display_data"
    }
   ],
   "source": [
    "import matplotlib.pyplot as plt\n",
    "\n",
    "plt.plot(actuals_rescaled, label=\"Actual Stock Price\")\n",
    "plt.plot(predictions_rescaled, label=\"Predicted Stock Price\")\n",
    "plt.xlabel(\"Time\")\n",
    "plt.ylabel(\"Google Stock Price\")\n",
    "plt.legend()\n",
    "plt.show()\n"
   ]
  }
 ],
 "metadata": {
  "kernelspec": {
   "display_name": "Python 3 (ipykernel)",
   "language": "python",
   "name": "python3"
  },
  "language_info": {
   "codemirror_mode": {
    "name": "ipython",
    "version": 3
   },
   "file_extension": ".py",
   "mimetype": "text/x-python",
   "name": "python",
   "nbconvert_exporter": "python",
   "pygments_lexer": "ipython3",
   "version": "3.10.4"
  }
 },
 "nbformat": 4,
 "nbformat_minor": 5
}
